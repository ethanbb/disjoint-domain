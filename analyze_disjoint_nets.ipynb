{
 "cells": [
  {
   "cell_type": "code",
   "execution_count": null,
   "metadata": {
    "collapsed": false,
    "jupyter": {
     "outputs_hidden": false
    },
    "pycharm": {
     "name": "#%%\n"
    }
   },
   "outputs": [],
   "source": [
    "%matplotlib widget\n",
    "\n",
    "import numpy as np\n",
    "\n",
    "import matplotlib.pyplot as plt\n",
    "import matplotlib.colors as mcolors\n",
    "from mpl_toolkits.mplot3d import Axes3D\n",
    "from scipy.cluster import hierarchy\n",
    "from scipy.spatial import distance\n",
    "from sklearn.manifold import MDS, TSNE, Isomap, LocallyLinearEmbedding as LLE\n",
    "from sklearn.decomposition import PCA\n",
    "\n",
    "import disjoint_domain as dd"
   ]
  },
  {
   "cell_type": "markdown",
   "metadata": {
    "pycharm": {
     "name": "#%% md\n"
    }
   },
   "source": [
    "Get some basic info for use below (e.g. item, context names)"
   ]
  },
  {
   "cell_type": "code",
   "execution_count": null,
   "metadata": {
    "collapsed": false,
    "jupyter": {
     "outputs_hidden": false
    },
    "pycharm": {
     "name": "#%%\n"
    }
   },
   "outputs": [],
   "source": [
    "items_per_domain = dd.ITEMS_PER_DOMAIN\n",
    "ctx_per_domain, n_domains, n_items, n_ctx, attrs_per_context = dd.get_net_defaults()\n",
    "\n",
    "# Individual item/context tensors for evaluating the network\n",
    "items, item_names = dd.get_items(n_domains=n_domains)\n",
    "contexts, context_names = dd.get_contexts(n_domains=n_domains, ctx_per_domain=ctx_per_domain)"
   ]
  },
  {
   "cell_type": "code",
   "execution_count": null,
   "metadata": {
    "collapsed": false,
    "jupyter": {
     "outputs_hidden": false
    },
    "pycharm": {
     "name": "#%%\n"
    }
   },
   "outputs": [],
   "source": [
    "# Load data from previous runs\n",
    "results_file = 'data/dd_snaps_2020-11-06_01-03-28.npz'\n",
    "\n",
    "with np.load(results_file, allow_pickle=True) as res:\n",
    "    snaps = res['snapshots'].item()\n",
    "    snap_epochs = res['snap_epochs']\n",
    "\n",
    "    reports = res['reports'].item()\n",
    "    report_freq = res['report_freq']\n",
    "\n",
    "report_epochs = np.arange(0, report_freq * len(reports['loss']), report_freq)\n",
    "\n",
    "# mean over iterations\n",
    "def mean_dists(snapshots):\n",
    "    # calculate full pdist\n",
    "    num_runs, num_snaps, num_items, num_rep = np.array(snapshots).shape\n",
    "    snapshots_flat = np.reshape(snapshots, (num_runs, num_snaps * num_items, num_rep))\n",
    "    dists_all = np.stack([distance.pdist(snaps) for snaps in snapshots_flat])\n",
    "    mean_dists_all = distance.squareform(np.nanmean(dists_all, axis=0))\n",
    "\n",
    "    # get pdist for individual snapshots\n",
    "    mean_dists_snaps = np.ndarray((num_snaps, num_items, num_items))\n",
    "    for kS in range(n_snaps):\n",
    "        this_slice = slice(kS * num_items, (kS+1) * num_items)\n",
    "        mean_dists_snaps[kS] = mean_dists_all[this_slice, this_slice]\n",
    "\n",
    "    return mean_dists_all, mean_dists_snaps\n",
    "\n",
    "mean_idists_all, mean_idists_snaps = mean_dists(snaps['item'])\n",
    "mean_cdists_all, mean_cdists_snaps = mean_dists(snaps['context'])\n",
    "\n",
    "mean_loss = np.mean(reports['loss'], axis=0)\n",
    "mean_acc = np.mean(reports['accuracy'], axis=0)\n",
    "\n",
    "plt.close('all')"
   ]
  },
  {
   "cell_type": "code",
   "execution_count": null,
   "metadata": {
    "collapsed": false,
    "jupyter": {
     "outputs_hidden": false
    },
    "pycharm": {
     "name": "#%%\n"
    }
   },
   "outputs": [],
   "source": [
    "# Item RSA matrix\n",
    "ind_to_plot = -1\n",
    "\n",
    "fig, ax = plt.subplots(figsize=(7, 7))\n",
    "ax.matshow(mean_idists_snaps[ind_to_plot])\n",
    "ax.set_xticks(range(n_items))\n",
    "ax.set_xticklabels(item_names)\n",
    "ax.tick_params(axis='x', top=False, bottom=True, labeltop=False, labelbottom=True, labelrotation=45)\n",
    "ax.set_yticks(range(n_items))\n",
    "ax.set_yticklabels(item_names)\n",
    "\n",
    "ax.set_title('RSA for item representations after training')\n",
    "\n",
    "plt.show()"
   ]
  },
  {
   "cell_type": "code",
   "execution_count": null,
   "metadata": {
    "collapsed": false,
    "jupyter": {
     "outputs_hidden": false
    },
    "pycharm": {
     "name": "#%%\n"
    }
   },
   "outputs": [],
   "source": [
    "# Dendrogram\n",
    "z = hierarchy.linkage(distance.squareform(mean_idists_snaps[ind_to_plot]), optimal_ordering=True)\n",
    "plt.figure(figsize=(8, 3))\n",
    "hierarchy.dendrogram(z, labels=item_names, count_sort=True)\n",
    "plt.show()"
   ]
  },
  {
   "cell_type": "code",
   "execution_count": null,
   "metadata": {
    "collapsed": false,
    "jupyter": {
     "outputs_hidden": false
    },
    "pycharm": {
     "name": "#%%\n"
    }
   },
   "outputs": [],
   "source": [
    "# Context RSA matrix\n",
    "\n",
    "# permutation to put all 1s together, etc.\n",
    "inds = np.reshape(np.arange(n_ctx, dtype=int), (ctx_per_domain, n_domains))\n",
    "perm = inds.T.ravel()\n",
    "\n",
    "_, ax = plt.subplots(figsize=(4, 4))\n",
    "mean_cdists_reordered = mean_cdists_snaps[ind_to_plot][np.ix_(perm, perm)]\n",
    "cnames_reordered = [context_names[i] for i in perm]\n",
    "\n",
    "ax.matshow(mean_cdists_reordered)\n",
    "ax.set_xticks(range(n_ctx))\n",
    "ax.set_xticklabels(cnames_reordered)\n",
    "ax.tick_params(axis='x', top=False, bottom=True, labeltop=False, labelbottom=True, labelrotation=45)\n",
    "ax.set_yticks(range(n_ctx))\n",
    "ax.set_yticklabels(cnames_reordered)\n",
    "\n",
    "ax.set_title('RSA for context representations after training')\n",
    "\n",
    "plt.show()"
   ]
  },
  {
   "cell_type": "code",
   "execution_count": null,
   "metadata": {
    "collapsed": false,
    "jupyter": {
     "outputs_hidden": false
    },
    "pycharm": {
     "name": "#%%\n"
    }
   },
   "outputs": [],
   "source": [
    "# Context dendrogram\n",
    "z = hierarchy.linkage(distance.squareform(mean_cdists_reordered), optimal_ordering=True)\n",
    "plt.figure(figsize=(8, 3))\n",
    "hierarchy.dendrogram(z, labels=cnames_reordered, count_sort=True)\n",
    "plt.show()"
   ]
  },
  {
   "cell_type": "code",
   "execution_count": null,
   "metadata": {
    "collapsed": false,
    "jupyter": {
     "outputs_hidden": false
    },
    "pycharm": {
     "name": "#%%\n"
    }
   },
   "outputs": [],
   "source": [
    "# Composite plot of item RSAs\n",
    "\n",
    "_, ax_all = plt.subplots(4, 2, figsize=(10, 18))\n",
    "ax_all = ax_all.ravel()\n",
    "\n",
    "for k in range(len(ax_all)):\n",
    "    ax = ax_all[k]\n",
    "    ind = k * 6\n",
    "    ax.matshow(mean_idists_snaps[ind])\n",
    "    ax.set_xticks(range(n_items))\n",
    "    ax.set_xticklabels(item_names)\n",
    "    ax.tick_params(axis='x', top=False, bottom=True, labeltop=False, labelbottom=True, labelrotation=45)\n",
    "    ax.set_yticks(range(n_items))\n",
    "    ax.set_yticklabels(item_names)\n",
    "    ax.set_title(f'Item RSA after {snap_epochs[ind]} epochs')\n",
    "\n",
    "fig.tight_layout()\n",
    "plt.show()"
   ]
  },
  {
   "cell_type": "code",
   "execution_count": null,
   "metadata": {
    "collapsed": false,
    "jupyter": {
     "outputs_hidden": false
    },
    "pycharm": {
     "name": "#%%\n"
    }
   },
   "outputs": [],
   "source": [
    "# MDS of item representations over time\n",
    "item_dims = 3\n",
    "embedding = MDS(n_components=item_dims, dissimilarity='precomputed')\n",
    "\n",
    "# have to fit transform to all 32 items over all snapshots - could take a while\n",
    "n_snaps = len(mean_idists_snaps)\n",
    "reprs_embedded = embedding.fit_transform(mean_idists_all)\n",
    "reprs_embedded = reprs_embedded.reshape((n_snaps, -1, item_dims))"
   ]
  },
  {
   "cell_type": "code",
   "execution_count": null,
   "metadata": {
    "collapsed": false,
    "jupyter": {
     "outputs_hidden": false
    },
    "pycharm": {
     "name": "#%%\n"
    }
   },
   "outputs": [],
   "source": [
    "fig = plt.figure()\n",
    "ax = fig.add_subplot(111, projection=('3d' if item_dims==3 else None))\n",
    "\n",
    "kI = 0\n",
    "markers = ['o', 's', '*']\n",
    "for _, col in zip(range(n_domains), mcolors.TABLEAU_COLORS):\n",
    "    for rel_item in range(items_per_domain):\n",
    "        linestyle = markers[dd.item_group(rel_item)] + '-'\n",
    "        ax.plot(*[reprs_embedded[:, kI, d] for d in range(item_dims)],\n",
    "               linestyle, label=item_names[kI], markersize=4, color=col,\n",
    "               linewidth=0.5)\n",
    "        kI += 1\n",
    "\n",
    "# add start and end markers\n",
    "kI = 0\n",
    "for _, col in zip(range(n_domains), mcolors.TABLEAU_COLORS):\n",
    "    for rel_item in range(items_per_domain):\n",
    "        marker = markers[dd.item_group(rel_item)]\n",
    "        ax.plot(*[reprs_embedded[0, kI, d] for d in range(item_dims)], 'g' + marker,\n",
    "           markersize=8)\n",
    "        ax.plot(*[reprs_embedded[0, kI, d] for d in range(item_dims)], marker,\n",
    "           markersize=5, color=col)\n",
    "        ax.plot(*[reprs_embedded[-1, kI, d] for d in range(item_dims)], 'k' + marker,\n",
    "           markersize=8)\n",
    "        ax.plot(*[reprs_embedded[-1, kI, d] for d in range(item_dims)], marker,\n",
    "           markersize=5, color=col)\n",
    "\n",
    "        # special point\n",
    "        ax.plot(*[reprs_embedded[32, kI, d] for d in range(item_dims)], 'm' + marker,\n",
    "           markersize=10)\n",
    "\n",
    "        kI += 1\n",
    "\n",
    "#ax.legend()\n",
    "ax.set_title('MDS of item representations; color = domain, marker = item type')\n",
    "plt.show()"
   ]
  },
  {
   "cell_type": "code",
   "execution_count": null,
   "metadata": {
    "collapsed": false,
    "jupyter": {
     "outputs_hidden": false
    },
    "pycharm": {
     "name": "#%%\n"
    }
   },
   "outputs": [],
   "source": [
    "# MDS of context representation over time\n",
    "ctx_dims = 3\n",
    "embedding = MDS(n_components=ctx_dims, dissimilarity='precomputed')\n",
    "\n",
    "n_snaps = len(mean_cdists_snaps)\n",
    "ctx_reprs_embedded = embedding.fit_transform(mean_cdists_all)\n",
    "ctx_reprs_embedded = ctx_reprs_embedded.reshape((n_snaps, -1, ctx_dims))"
   ]
  },
  {
   "cell_type": "code",
   "execution_count": null,
   "metadata": {
    "collapsed": false,
    "jupyter": {
     "outputs_hidden": false
    },
    "pycharm": {
     "name": "#%%\n"
    }
   },
   "outputs": [],
   "source": [
    "fig = plt.figure()\n",
    "ax = fig.add_subplot(111, projection=('3d' if ctx_dims==3 else None))\n",
    "\n",
    "kI = 0\n",
    "markers = ['o', 's', '*', '^']\n",
    "\n",
    "for _, col in zip(range(n_domains), mcolors.TABLEAU_COLORS):\n",
    "    for rel_ctx in range(ctx_per_domain):\n",
    "        linestyle = markers[rel_ctx] + '-'\n",
    "        ax.plot(*[ctx_reprs_embedded[:, kI, d] for d in range(ctx_dims)],\n",
    "               linestyle, label=item_names[kI], markersize=4, color=col,\n",
    "               linewidth=0.5)\n",
    "        kI += 1\n",
    "\n",
    "# add start and end markers\n",
    "kI = 0\n",
    "for _, col in zip(range(n_domains), mcolors.TABLEAU_COLORS):\n",
    "    for rel_ctx in range(ctx_per_domain):\n",
    "        marker = markers[rel_ctx]\n",
    "        ax.plot(*[ctx_reprs_embedded[0, kI, d] for d in range(ctx_dims)], 'g' + marker,\n",
    "           markersize=8)\n",
    "        ax.plot(*[ctx_reprs_embedded[0, kI, d] for d in range(ctx_dims)], marker,\n",
    "           markersize=5, color=col)\n",
    "        ax.plot(*[ctx_reprs_embedded[-1, kI, d] for d in range(ctx_dims)], 'k' + marker,\n",
    "           markersize=8)\n",
    "        ax.plot(*[ctx_reprs_embedded[-1, kI, d] for d in range(ctx_dims)], marker,\n",
    "           markersize=5, color=col)\n",
    "\n",
    "        # special point\n",
    "        ax.plot(*[ctx_reprs_embedded[33, kI, d] for d in range(ctx_dims)], 'm' + marker,\n",
    "           markersize=10)\n",
    "\n",
    "        kI += 1\n",
    "\n",
    "#ax.legend()\n",
    "ax.set_title('MDS of context representations; color = domain, marker = context type')\n",
    "plt.show()"
   ]
  },
  {
   "cell_type": "code",
   "execution_count": null,
   "metadata": {
    "collapsed": false,
    "jupyter": {
     "outputs_hidden": false
    },
    "pycharm": {
     "name": "#%%\n"
    }
   },
   "outputs": [],
   "source": [
    "# Plot loss and accuracy\n",
    "_, ax = plt.subplots(2, 1)\n",
    "\n",
    "ax[0].plot(range(0, report_freq), mean_loss, '.-')\n",
    "ax[0].set_xlabel('Epoch')\n",
    "ax[0].set_ylabel('Mean loss')\n",
    "\n",
    "ax[1].plot(report_epochs, mean_acc, '.-')\n",
    "ax[1].set_xlabel('Epoch')\n",
    "ax[1].set_ylabel('Mean accuracy')\n",
    "\n",
    "plt.show()"
   ]
  },
  {
   "cell_type": "code",
   "execution_count": null,
   "metadata": {
    "collapsed": false,
    "jupyter": {
     "outputs_hidden": false
    },
    "pycharm": {
     "name": "#%%\n"
    }
   },
   "outputs": [],
   "source": [
    "print(snap_epochs)\n",
    "print(np.nonzero(snap_epochs > 700)[0][0])"
   ]
  },
  {
   "cell_type": "code",
   "execution_count": null,
   "metadata": {
    "collapsed": false,
    "jupyter": {
     "outputs_hidden": false
    },
    "pycharm": {
     "name": "#%%\n"
    }
   },
   "outputs": [],
   "source": [
    "print(snap_epochs)\n",
    "print(np.nonzero(snap_epochs > 700)[0][0])"
   ]
  },
  {
   "cell_type": "code",
   "execution_count": null,
   "metadata": {
    "collapsed": false,
    "jupyter": {
     "outputs_hidden": false
    },
    "pycharm": {
     "name": "#%%\n"
    }
   },
   "outputs": [],
   "source": [
    "fig = plt.figure()\n",
    "ax = fig.add_subplot(111, projection=('3d' if item_dims==3 else None))\n",
    "\n",
    "kI = 0\n",
    "markers = ['o', 's', '*']\n",
    "for _, col in zip(range(n_domains), mcolors.TABLEAU_COLORS):\n",
    "    for rel_item in range(n_items):\n",
    "        linestyle = markers[dd.item_group(rel_item)] + '-'\n",
    "        ax.plot(*[reprs_embedded[:, kI, d] for d in range(item_dims)],\n",
    "               linestyle, label=item_names[kI], markersize=4, color=col,\n",
    "               linewidth=0.5)\n",
    "        kI += 1\n",
    "\n",
    "# add start and end markers\n",
    "kI = 0\n",
    "for _, col in zip(range(n_domains), mcolors.TABLEAU_COLORS):\n",
    "    for rel_item in range(n_items):\n",
    "        marker = markers[dd.item_group(rel_item)]\n",
    "        ax.plot(*[reprs_embedded[0, kI, d] for d in range(item_dims)], 'g' + marker,\n",
    "           markersize=8)\n",
    "        ax.plot(*[reprs_embedded[0, kI, d] for d in range(item_dims)], marker,\n",
    "           markersize=5, color=col)\n",
    "        ax.plot(*[reprs_embedded[-1, kI, d] for d in range(item_dims)], 'k' + marker,\n",
    "           markersize=8)\n",
    "        ax.plot(*[reprs_embedded[-1, kI, d] for d in range(item_dims)], marker,\n",
    "           markersize=5, color=col)\n",
    "\n",
    "        # special point\n",
    "        ax.plot(*[reprs_embedded[32, kI, d] for d in range(item_dims)], 'm' + marker,\n",
    "           markersize=10)\n",
    "\n",
    "        kI += 1\n",
    "\n",
    "#ax.legend()\n",
    "ax.set_title('MDS of item representations; color = domain, marker = item type')\n",
    "plt.show()"
   ]
  },
  {
   "cell_type": "code",
   "execution_count": null,
   "metadata": {
    "collapsed": false,
    "jupyter": {
     "outputs_hidden": false
    },
    "pycharm": {
     "name": "#%%\n"
    }
   },
   "outputs": [],
   "source": [
    "# MDS of context representation over time\n",
    "ctx_dims = 3\n",
    "embedding = MDS(n_components=ctx_dims, dissimilarity='precomputed')\n",
    "\n",
    "n_snaps = len(mean_cdists_snaps)\n",
    "ctx_reprs_embedded = embedding.fit_transform(mean_cdists_all)\n",
    "ctx_reprs_embedded = ctx_reprs_embedded.reshape((n_snaps, -1, ctx_dims))"
   ]
  },
  {
   "cell_type": "code",
   "execution_count": null,
   "metadata": {
    "collapsed": false,
    "jupyter": {
     "outputs_hidden": false
    },
    "pycharm": {
     "name": "#%%\n"
    }
   },
   "outputs": [],
   "source": [
    "fig = plt.figure()\n",
    "ax = fig.add_subplot(111, projection=('3d' if ctx_dims==3 else None))\n",
    "\n",
    "kI = 0\n",
    "markers = ['o', 's', '*', '^']\n",
    "\n",
    "for _, col in zip(range(n_domains), mcolors.TABLEAU_COLORS):\n",
    "    for rel_ctx in range(n_ctx // n_domains):\n",
    "        linestyle = markers[rel_ctx] + '-'\n",
    "        ax.plot(*[ctx_reprs_embedded[:, kI, d] for d in range(ctx_dims)],\n",
    "               linestyle, label=item_names[kI], markersize=4, color=col,\n",
    "               linewidth=0.5)\n",
    "        kI += 1\n",
    "\n",
    "# add start and end markers\n",
    "kI = 0\n",
    "for _, col in zip(range(n_domains), mcolors.TABLEAU_COLORS):\n",
    "    for rel_ctx in range(n_ctx // n_domains):\n",
    "        marker = markers[rel_ctx]\n",
    "        ax.plot(*[ctx_reprs_embedded[0, kI, d] for d in range(ctx_dims)], 'g' + marker,\n",
    "           markersize=8)\n",
    "        ax.plot(*[ctx_reprs_embedded[0, kI, d] for d in range(ctx_dims)], marker,\n",
    "           markersize=5, color=col)\n",
    "        ax.plot(*[ctx_reprs_embedded[-1, kI, d] for d in range(ctx_dims)], 'k' + marker,\n",
    "           markersize=8)\n",
    "        ax.plot(*[ctx_reprs_embedded[-1, kI, d] for d in range(ctx_dims)], marker,\n",
    "           markersize=5, color=col)\n",
    "\n",
    "        # special point\n",
    "        ax.plot(*[ctx_reprs_embedded[33, kI, d] for d in range(ctx_dims)], 'm' + marker,\n",
    "           markersize=10)\n",
    "\n",
    "        kI += 1\n",
    "\n",
    "#ax.legend()\n",
    "ax.set_title('MDS of context representations; color = domain, marker = context type')\n",
    "plt.show()"
   ]
  },
  {
   "cell_type": "code",
   "execution_count": null,
   "metadata": {
    "collapsed": false,
    "jupyter": {
     "outputs_hidden": false
    },
    "pycharm": {
     "name": "#%%\n"
    }
   },
   "outputs": [],
   "source": [
    "# Plot loss and accuracy\n",
    "fig, ax = plt.subplots(2, 1)\n",
    "\n",
    "ax[0].plot(report_epochs, mean_loss, '.-')\n",
    "ax[0].set_xlabel('Epoch')\n",
    "ax[0].set_ylabel('Mean loss')\n",
    "\n",
    "ax[1].plot(report_epochs, mean_acc, '.-')\n",
    "ax[1].set_xlabel('Epoch')\n",
    "ax[1].set_ylabel('Mean accuracy')\n",
    "\n",
    "plt.show()"
   ]
  },
  {
   "cell_type": "code",
   "execution_count": null,
   "metadata": {
    "collapsed": false,
    "jupyter": {
     "outputs_hidden": false
    },
    "pycharm": {
     "name": "#%%\n"
    }
   },
   "outputs": [],
   "source": [
    "print(snap_epochs)\n",
    "print(np.nonzero(snap_epochs > 700)[0][0])\n"
   ]
  }
 ],
 "metadata": {
  "kernelspec": {
   "display_name": "Python 3",
   "language": "python",
   "name": "python3"
  },
  "language_info": {
   "codemirror_mode": {
    "name": "ipython",
    "version": 3
   },
   "file_extension": ".py",
   "mimetype": "text/x-python",
   "name": "python",
   "nbconvert_exporter": "python",
   "pygments_lexer": "ipython3",
   "version": "3.8.6"
  }
 },
 "nbformat": 4,
 "nbformat_minor": 4
}
