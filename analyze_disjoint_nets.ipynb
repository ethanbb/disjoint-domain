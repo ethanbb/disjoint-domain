{
 "cells": [
  {
   "cell_type": "code",
   "execution_count": 1,
   "metadata": {
    "collapsed": false,
    "jupyter": {
     "outputs_hidden": false
    },
    "pycharm": {
     "name": "#%%\n"
    }
   },
   "outputs": [],
   "source": [
    "%matplotlib widget\n",
    "\n",
    "import matplotlib.pyplot as plt\n",
    "import matplotlib.colors as mcolors\n",
    "\n",
    "import dd_analysis as dda\n"
   ]
  },
  {
   "cell_type": "code",
   "execution_count": 2,
   "metadata": {
    "collapsed": false,
    "jupyter": {
     "outputs_hidden": false
    },
    "pycharm": {
     "name": "#%%\n"
    }
   },
   "outputs": [],
   "source": [
    "# Load data from previous runs\n",
    "res_paths = {\n",
    "    'Original': 'data/dd_res_2020-11-24_04-03-27.npz',\n",
    "    'Merged repr': 'data/merged_dd_res_2020-11-24_04-37-58.npz'\n",
    "}\n",
    "\n",
    "res_data = {name: dda.get_result_means(path) for name, path in res_paths.items()}"
   ]
  },
  {
   "cell_type": "code",
   "execution_count": 3,
   "metadata": {
    "collapsed": false,
    "jupyter": {
     "outputs_hidden": false
    },
    "pycharm": {
     "name": "#%%\n"
    }
   },
   "outputs": [],
   "source": [
    "# Get ready to look at some particular runs\n",
    "curr_runs = ['Original', 'Merged repr']\n",
    "curr_sets = {name: data for name, data in res_data.items() if name in curr_runs}\n",
    "n_curr = len(curr_runs)\n",
    "plt.close('all')"
   ]
  },
  {
   "cell_type": "code",
   "execution_count": 4,
   "metadata": {
    "collapsed": false,
    "jupyter": {
     "outputs_hidden": false
    },
    "pycharm": {
     "name": "#%%\n"
    }
   },
   "outputs": [
    {
     "data": {
      "application/vnd.jupyter.widget-view+json": {
       "model_id": "c8e12c7663b049dab58146bc3e8ab6c4",
       "version_major": 2,
       "version_minor": 0
      },
      "text/plain": [
       "Canvas(toolbar=Toolbar(toolitems=[('Home', 'Reset original view', 'home', 'home'), ('Back', 'Back to previous …"
      ]
     },
     "metadata": {},
     "output_type": "display_data"
    }
   ],
   "source": [
    "# Plot loss, accuracy, and test accuracy\n",
    "fig, axs = dda.make_plot_grid(3, 1, ax_dims=(6, 2), ravel=True)\n",
    "\n",
    "for (label, res), col in zip(curr_sets.items(), mcolors.TABLEAU_COLORS):\n",
    "    dda.plot_report(axs[0], res, 'loss', label=label)\n",
    "    dda.plot_report(axs[1], res, 'accuracy', label=label)\n",
    "    dda.plot_report(axs[2], res, 'test_accuracy', label=label)\n",
    "\n",
    "for ax in axs:\n",
    "    ax.legend()\n",
    "\n",
    "fig.tight_layout()\n",
    "plt.show()"
   ]
  },
  {
   "cell_type": "code",
   "execution_count": 26,
   "metadata": {
    "collapsed": false,
    "jupyter": {
     "outputs_hidden": false
    },
    "pycharm": {
     "name": "#%%\n"
    }
   },
   "outputs": [
    {
     "data": {
      "application/vnd.jupyter.widget-view+json": {
       "model_id": "d448ad9d6c8349fbba74418f958535f4",
       "version_major": 2,
       "version_minor": 0
      },
      "text/plain": [
       "Canvas(toolbar=Toolbar(toolitems=[('Home', 'Reset original view', 'home', 'home'), ('Back', 'Back to previous …"
      ]
     },
     "metadata": {},
     "output_type": "display_data"
    }
   ],
   "source": [
    "# Item RSA matrices\n",
    "inds_to_plot = range(0, 10, 2)\n",
    "fig, axss = dda.auto_subplots(len(inds_to_plot), n_curr, ax_dims=(4, 4))\n",
    "fig.suptitle('Mean RSA for items')\n",
    "\n",
    "for ind, axs in zip(inds_to_plot, axss):\n",
    "    for (label, res), ax in zip(curr_sets.items(), axs):\n",
    "        im = dda.plot_rsa(ax, res, 'item', ind, title_addon=label)#, item_order='type-outer')\n",
    "        fig.colorbar(im, ax=ax)\n",
    "\n",
    "fig.tight_layout()\n",
    "plt.show()"
   ]
  },
  {
   "cell_type": "code",
   "execution_count": 7,
   "metadata": {
    "collapsed": false,
    "jupyter": {
     "outputs_hidden": false
    },
    "pycharm": {
     "name": "#%%\n"
    }
   },
   "outputs": [
    {
     "data": {
      "application/vnd.jupyter.widget-view+json": {
       "model_id": "584d3c6d4fc843a185711084fc2f5c84",
       "version_major": 2,
       "version_minor": 0
      },
      "text/plain": [
       "Canvas(toolbar=Toolbar(toolitems=[('Home', 'Reset original view', 'home', 'home'), ('Back', 'Back to previous …"
      ]
     },
     "metadata": {},
     "output_type": "display_data"
    }
   ],
   "source": [
    "# Corresponding dendrograms\n",
    "fig, axss = dda.auto_subplots(len(inds_to_plot), n_curr, ax_dims=(4, 3))\n",
    "fig.suptitle('Item representation similarity')\n",
    "\n",
    "for ind, axs in zip(inds_to_plot, axss):\n",
    "    for (label, res), ax in zip(curr_sets.items(), axs):\n",
    "        dda.plot_repr_dendrogram(ax, res, 'item', ind, title_addon=label)\n",
    "\n",
    "fig.tight_layout()\n",
    "plt.show()"
   ]
  },
  {
   "cell_type": "code",
   "execution_count": 9,
   "metadata": {
    "collapsed": false,
    "jupyter": {
     "outputs_hidden": false
    },
    "pycharm": {
     "name": "#%%\n"
    }
   },
   "outputs": [
    {
     "data": {
      "application/vnd.jupyter.widget-view+json": {
       "model_id": "c4daaf9664cd41caa5211d85956a7b0c",
       "version_major": 2,
       "version_minor": 0
      },
      "text/plain": [
       "Canvas(toolbar=Toolbar(toolitems=[('Home', 'Reset original view', 'home', 'home'), ('Back', 'Back to previous …"
      ]
     },
     "metadata": {},
     "output_type": "display_data"
    }
   ],
   "source": [
    "# Context RSA matrix\n",
    "inds_to_plot = [-1]\n",
    "fig, axss = dda.auto_subplots(len(inds_to_plot), n_curr, ax_dims=(4, 4))\n",
    "fig.suptitle('Mean RSA for contexts')\n",
    "\n",
    "for ind, axs in zip(inds_to_plot, axss):\n",
    "    for (label, res), ax in zip(curr_sets.items(), axs):\n",
    "        dda.plot_rsa(ax, res, 'context', ind, title_addon=label, item_order='domain-inner')\n",
    "\n",
    "fig.tight_layout()\n",
    "plt.show()"
   ]
  },
  {
   "cell_type": "code",
   "execution_count": 11,
   "metadata": {
    "collapsed": false,
    "jupyter": {
     "outputs_hidden": false
    },
    "pycharm": {
     "name": "#%%\n"
    }
   },
   "outputs": [
    {
     "data": {
      "application/vnd.jupyter.widget-view+json": {
       "model_id": "a2b32af9a9e24e059f64656ea8618be8",
       "version_major": 2,
       "version_minor": 0
      },
      "text/plain": [
       "Canvas(toolbar=Toolbar(toolitems=[('Home', 'Reset original view', 'home', 'home'), ('Back', 'Back to previous …"
      ]
     },
     "metadata": {},
     "output_type": "display_data"
    }
   ],
   "source": [
    "# Corresponding context dendrograms\n",
    "fig, axss = dda.auto_subplots(len(inds_to_plot), n_curr, ax_dims=(4, 3))\n",
    "fig.suptitle('Context representation similarity')\n",
    "\n",
    "for ind, axs in zip(inds_to_plot, axss):\n",
    "    for (label, res), ax in zip(curr_sets.items(), axs):\n",
    "        dda.plot_repr_dendrogram(ax, res, 'context', ind, title_addon=label)\n",
    "\n",
    "fig.tight_layout()\n",
    "plt.show()"
   ]
  },
  {
   "cell_type": "code",
   "execution_count": 44,
   "metadata": {},
   "outputs": [
    {
     "data": {
      "application/vnd.jupyter.widget-view+json": {
       "model_id": "d98cc1743e77451284fedfa600c0d8ea",
       "version_major": 2,
       "version_minor": 0
      },
      "text/plain": [
       "Canvas(toolbar=Toolbar(toolitems=[('Home', 'Reset original view', 'home', 'home'), ('Back', 'Back to previous …"
      ]
     },
     "metadata": {},
     "output_type": "display_data"
    }
   ],
   "source": [
    "# Item rep RSA over all snapshots (useful maybe for finding interesting change points)\n",
    "fig, axs = dda.make_plot_grid(len(curr_sets), 2, ax_dims=(5, 5))\n",
    "\n",
    "for ax, (label, res) in zip(axs, curr_sets.items()):\n",
    "    n_snaps = len(res['snap_epochs'])\n",
    "    snap_freq = res['train_params']['snap_freq']\n",
    "    im = ax.imshow(res['repr_dists']['item']['all'],\n",
    "                   extent=(-0.5, n_snaps * snap_freq-0.5, n_snaps * snap_freq-0.5, -0.5))\n",
    "    ax.set_xticks(res['snap_epochs'][::4])\n",
    "    ax.tick_params(axis='x', labelrotation=45)\n",
    "    ax.set_yticks(res['snap_epochs'][::4])\n",
    "    ax.set_xlabel('Epochs')\n",
    "    ax.set_title(f'Item repr distances over training ({label})')\n",
    "    fig.colorbar(im, ax=ax, fraction=0.046, pad=0.04)\n",
    "    \n",
    "fig.tight_layout()\n",
    "plt.show()"
   ]
  },
  {
   "cell_type": "code",
   "execution_count": 36,
   "metadata": {
    "collapsed": false,
    "jupyter": {
     "outputs_hidden": false
    },
    "pycharm": {
     "name": "#%%\n"
    }
   },
   "outputs": [
    {
     "data": {
      "application/vnd.jupyter.widget-view+json": {
       "model_id": "3def2d29cd454f7490b13ae9bde99884",
       "version_major": 2,
       "version_minor": 0
      },
      "text/plain": [
       "Canvas(toolbar=Toolbar(toolitems=[('Home', 'Reset original view', 'home', 'home'), ('Back', 'Back to previous …"
      ]
     },
     "metadata": {},
     "output_type": "display_data"
    },
    {
     "data": {
      "application/vnd.jupyter.widget-view+json": {
       "model_id": "7e8fd1e1f644492c8dbb7e75339bb74a",
       "version_major": 2,
       "version_minor": 0
      },
      "text/plain": [
       "Canvas(toolbar=Toolbar(toolitems=[('Home', 'Reset original view', 'home', 'home'), ('Back', 'Back to previous …"
      ]
     },
     "metadata": {},
     "output_type": "display_data"
    }
   ],
   "source": [
    "# MDS of item representations over time\n",
    "for label, res in curr_sets.items():\n",
    "    dda.plot_repr_trajectories(res, 'item', dims=3, title_label=label)\n",
    "\n",
    "plt.show()"
   ]
  },
  {
   "cell_type": "code",
   "execution_count": 48,
   "metadata": {
    "collapsed": false,
    "jupyter": {
     "outputs_hidden": false
    },
    "pycharm": {
     "name": "#%%\n"
    }
   },
   "outputs": [
    {
     "data": {
      "application/vnd.jupyter.widget-view+json": {
       "model_id": "b279d16bedcc45b78a897cc62a0a9cce",
       "version_major": 2,
       "version_minor": 0
      },
      "text/plain": [
       "Canvas(toolbar=Toolbar(toolitems=[('Home', 'Reset original view', 'home', 'home'), ('Back', 'Back to previous …"
      ]
     },
     "metadata": {},
     "output_type": "display_data"
    },
    {
     "data": {
      "application/vnd.jupyter.widget-view+json": {
       "model_id": "e9a08d15649847a1918a0f3ec298b77f",
       "version_major": 2,
       "version_minor": 0
      },
      "text/plain": [
       "Canvas(toolbar=Toolbar(toolitems=[('Home', 'Reset original view', 'home', 'home'), ('Back', 'Back to previous …"
      ]
     },
     "metadata": {},
     "output_type": "display_data"
    }
   ],
   "source": [
    "import importlib\n",
    "importlib.reload(dda)\n",
    "\n",
    "for label, res in curr_sets.items():\n",
    "    dda.plot_repr_trajectories(res, 'context', dims=2, title_label=label)\n",
    "\n",
    "plt.show()"
   ]
  }
 ],
 "metadata": {
  "kernelspec": {
   "display_name": "Python 3",
   "language": "python",
   "name": "python3"
  },
  "language_info": {
   "codemirror_mode": {
    "name": "ipython",
    "version": 3
   },
   "file_extension": ".py",
   "mimetype": "text/x-python",
   "name": "python",
   "nbconvert_exporter": "python",
   "pygments_lexer": "ipython3",
   "version": "3.8.6"
  }
 },
 "nbformat": 4,
 "nbformat_minor": 4
}
