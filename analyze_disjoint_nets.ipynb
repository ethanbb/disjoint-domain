{
 "cells": [
  {
   "cell_type": "code",
   "execution_count": 8,
   "metadata": {
    "collapsed": false,
    "jupyter": {
     "outputs_hidden": false
    },
    "pycharm": {
     "name": "#%%\n"
    }
   },
   "outputs": [],
   "source": [
    "%matplotlib widget\n",
    "\n",
    "import numpy as np\n",
    "import matplotlib.pyplot as plt\n",
    "from matplotlib import cycler\n",
    "import importlib\n",
    "\n",
    "try:\n",
    "    importlib.reload(dda)\n",
    "except NameError:\n",
    "    import dd_analysis as dda"
   ]
  },
  {
   "cell_type": "code",
   "execution_count": null,
   "metadata": {
    "jupyter": {
     "source_hidden": true
    }
   },
   "outputs": [],
   "source": [
    "batchsize_runs = {\n",
    "    'B5': 'data/batchsize/batch5_dd_res_2020-12-29_16-37-09.npz',\n",
    "    'B10': 'data/batchsize/batch10_dd_res_2020-12-29_17-28-34.npz',\n",
    "    'B15': 'data/batchsize/batch15_dd_res_2020-12-29_18-10-11.npz',\n",
    "    'B16': 'data/batchsize/batch16_dd_res_2020-12-23_16-48-15.npz',\n",
    "    'B20': 'data/batchsize/batch20_dd_res_2020-12-29_18-30-34.npz',\n",
    "    'B25': 'data/batchsize/batch25_dd_res_2020-12-29_18-44-56.npz',\n",
    "    'B30': 'data/batchsize/batch30_dd_res_2020-12-29_18-59-20.npz',\n",
    "    'B31': 'data/batchsize/batch31_dd_res_2020-12-29_15-04-17.npz',\n",
    "    'B32': 'data/batchsize/batch32_dd_res_2020-12-23_16-13-07.npz',\n",
    "    'B35': 'data/batchsize/batch35_dd_res_2020-12-29_19-10-51.npz',\n",
    "    'B40': 'data/batchsize/batch40_dd_res_2020-12-29_19-22-28.npz',\n",
    "    'B45': 'data/batchsize/batch45_dd_res_2020-12-29_19-31-13.npz',\n",
    "    'B50': 'data/batchsize/batch50_dd_res_2020-12-29_19-40-00.npz',\n",
    "    'B55': 'data/batchsize/batch55_dd_res_2020-12-29_19-49-22.npz',\n",
    "    'B60': 'data/batchsize/batch60_dd_res_2020-12-29_20-07-49.npz',\n",
    "    'B64': 'data/batchsize/batch64_dd_res_2020-12-23_15-59-45.npz',\n",
    "    'B65': 'data/batchsize/batch65_dd_res_2020-12-29_20-17-04.npz'\n",
    "}"
   ]
  },
  {
   "cell_type": "code",
   "execution_count": null,
   "metadata": {
    "jupyter": {
     "source_hidden": true
    }
   },
   "outputs": [],
   "source": [
    "domain_holdout_runs = {\n",
    "    'original -> original': 'data/domain_ho_eqdist_dd_res_2020-12-24_14-56-49.npz',\n",
    "    'original -> equidistant': 'data/domain_ho_orig_dd_res_2020-12-25_09-29-54.npz',\n",
    "    'original -> 3-3-2': 'data/domain_ho_332_dd_res_2020-12-27_07-40-26.npz',\n",
    "    'original -> 5-1-2': 'data/domain_ho_512_from_orig_dd_res_2021-01-03_11-43-15.npz',\n",
    "    \n",
    "    'equidistant -> original': 'data/domain_ho_orig_from_eqdist_dd_res_2021-01-02_06-57-29.npz',\n",
    "    'equidistant -> equidistant': 'data/domain_ho_eqdist_from_eqdist_dd_res_2021-01-01_21-47-45.npz',\n",
    "    'equidistant -> 3-3-2': 'data/domain_ho_332_from_eqdist_dd_res_2021-01-02_16-15-20.npz',\n",
    "    'equidistant -> 5-1-2': 'data/domain_ho_512_from_eqdist_dd_res_2021-01-04_02-04-41.npz',\n",
    "    \n",
    "    '3-3-2 -> original': 'data/domain_ho_orig_from_332_dd_res_2020-12-31_02-11-40.npz',\n",
    "    '3-3-2 -> equidistant': 'data/domain_ho_eqdist_from_332_dd_res_2020-12-30_20-25-13.npz',\n",
    "    '3-3-2 -> 3-3-2': 'data/domain_ho_332_from_332_dd_res_2020-12-31_07-28-31.npz',\n",
    "    '3-3-2 -> 5-1-2': 'data/domain_ho_512_from_332_dd_res_2021-01-03_18-39-16.npz',\n",
    "    \n",
    "    '5-1-2 -> original': 'data/domain_ho_orig_from_512_dd_res_2021-01-04_06-53-28.npz',\n",
    "    '5-1-2 -> equidistant': 'data/domain_ho_eqdist_from_512_dd_res_2021-01-04_15-05-25.npz',\n",
    "    '5-1-2 -> 3-3-2': 'data/domain_ho_332_from_512_dd_res_2021-01-04_12-36-34.npz',\n",
    "    '5-1-2 -> 5-1-2': 'data/domain_ho_512_from_512_dd_res_2021-01-03_04-48-33.npz'\n",
    "}"
   ]
  },
  {
   "cell_type": "code",
   "execution_count": 46,
   "metadata": {
    "jupyter": {
     "source_hidden": true
    }
   },
   "outputs": [],
   "source": [
    "intergroup_runs = {\n",
    "    'intergroup near -> near': 'data/intergroup/near_to_near_dd_res_2021-01-10_10-55-52.npz',\n",
    "    'intergroup near -> far': 'data/intergroup/near_to_far_dd_res_2021-01-11_01-40-33.npz',\n",
    "    'intergroup far -> near': 'data/intergroup/far_to_near_dd_res_2021-01-11_11-13-03.npz',\n",
    "    'intergroup far -> far': 'data/intergroup/far_to_far_dd_res_2021-01-12_13-54-22.npz'\n",
    "}"
   ]
  },
  {
   "cell_type": "code",
   "execution_count": 13,
   "metadata": {
    "collapsed": false,
    "jupyter": {
     "outputs_hidden": false
    },
    "pycharm": {
     "name": "#%%\n"
    }
   },
   "outputs": [],
   "source": [
    "# Load data from previous runs\n",
    "\n",
    "try:\n",
    "    curr_res_paths = res_paths\n",
    "except NameError:\n",
    "    curr_res_paths = {}\n",
    "    res_data = {}\n",
    "    \n",
    "res_paths = {\n",
    "#     'Original': 'data/dd_res_2020-12-03_01-31-32.npz',\n",
    "#     'Shared repr.': 'data/merged_repr_dd_res_2020-12-04_05-15-35.npz',\n",
    "#    'Small item repr': 'data/small_item_repr_dd_res_2020-11-24_18-48-00.npz',\n",
    "#    'More compressed': 'data/all_ratios_0.5_dd_res_2020-11-24_21-17-07.npz',\n",
    "#    'Half-size HL': 'data/half_hidden_longer_dd_res_2020-11-25_01-06-37.npz',\n",
    "#     'Merged item repr.': 'data/no_item_repr_reallocate_dd_res_2020-12-04_06-30-32.npz',\n",
    "#     'Merged context repr.': 'data/no_ctx_repr_reallocate_dd_res_2020-12-04_07-48-18.npz',\n",
    "#     'All merged': 'data/no_repr_reallocate_dd_res_2020-12-03_03-24-49.npz',\n",
    "#     'Short original': 'data/short_save_params_dd_res_2020-11-26_11-44-16.npz',\n",
    "#     'Short no item repr': 'data/short_save_params_no_item_repr_dd_res_2020-11-26_11-58-59.npz',\n",
    "#     'Short no context repr': 'data/short_save_params_no_ctx_repr_dd_res_2020-11-26_12-05-47.npz'\n",
    "#     'One domain': 'data/1domain_dd_res_2020-12-14_12-57-53.npz',\n",
    "#     'Original (small init)': 'data/4domain_small_init_dd_res_2020-12-23_00-34-01.npz',\n",
    "#     'One domain (small init)': 'data/1domain_small_init_dd_res_2020-12-23_00-52-41.npz',\n",
    "#     **batchsize_runs,\n",
    "#     **domain_holdout_runs,\n",
    "#     'Original no reuse': 'data/original_no_reuse_dd_res_2021-01-06_17-15-11.npz',\n",
    "#     '4-4 equal': 'data/4-4_dd_res_2021-01-05_14-16-02.npz',\n",
    "#     '4-4 no reuse': 'data/4-4_no_reuse_dd_res_2021-01-06_14-51-28.npz',\n",
    "#     '4-4 unequal': 'data/4-4_unequal_dd_res_2021-01-06_19-37-51.npz',\n",
    "#     '4-4 equal independent': 'data/44_dho_dd_res_2021-01-09_06-31-41.npz',\n",
    "#     'Original independent': 'data/422_dho_dd_res_2021-01-09_21-57-46.npz',\n",
    "#     **intergroup_runs\n",
    "    'Original new': 'data/original_new_dd_res_2021-01-12_20-21-39.npz',\n",
    "    'Fixed biases': 'data/fixed_biases_dd_res_2021-01-12_20-30-39.npz',\n",
    "    'All merged fixed biases': 'data/all_merged_fixed_biases_dd_res_2021-01-13_01-04-31.npz'\n",
    "}\n",
    "\n",
    "# Avoid reloading data whenever possible\n",
    "try:\n",
    "    res_data = {name: (res_data[name] if name in curr_res_paths and curr_res_paths[name] == path\n",
    "                else dda.get_result_means(path, subsample_snaps=1, dist_metric='spearman', calc_all_repr_dists=False))\n",
    "                for name, path in res_paths.items()}\n",
    "except:\n",
    "    # Assume loading failed, revert\n",
    "    res_paths = curr_res_paths\n",
    "    raise"
   ]
  },
  {
   "cell_type": "code",
   "execution_count": 14,
   "metadata": {
    "collapsed": false,
    "jupyter": {
     "outputs_hidden": false
    },
    "pycharm": {
     "name": "#%%\n"
    }
   },
   "outputs": [],
   "source": [
    "# Get ready to look at some particular runs\n",
    "# curr_runs = ['Original independent', '4-4 equal independent']\n",
    "# curr_runs = [name for name in res_paths if name[0] == 'B' and int(name[1:]) % 5 == 0] # batch size runs\n",
    "#curr_runs = intergroup_runs.keys()\n",
    "curr_runs = res_paths.keys()\n",
    "\n",
    "# cluster_types = ['original', 'equidistant', '3-3-2', '5-1-2']\n",
    "# curr_runs = [c1 + ' -> ' + c2 for c1 in cluster_types for c2 in cluster_types]\n",
    "\n",
    "curr_sets = {name: res_data[name] for name in curr_runs if name in res_data.keys()}\n",
    "n_curr = len(curr_runs)\n",
    "\n",
    "# colors supposed to correspond to accuracy in original generalization test (deprecated)\n",
    "#prop_cycle = cycler(color=['chocolate', 'yellowgreen', 'royalblue', 'fuchsia', 'orangered'])\n",
    "\n",
    "# general cycle that supports up to 40 lines\n",
    "col_cycle = plt.rcParams['axes.prop_cycle']\n",
    "line_cycle = cycler(linestyle=['-', '--', ':', '-.'])\n",
    "prop_cycle = line_cycle * col_cycle\n",
    "# line_cols = col_cycle[:3].by_key()['color']\n",
    "# marker_cycle = cycler(mfc=line_cols, mec=line_cols)\n",
    "# prop_cycle = marker_cycle * col_cycle[:3]\n",
    "\n",
    "plt.close('all')"
   ]
  },
  {
   "cell_type": "code",
   "execution_count": 5,
   "metadata": {
    "pycharm": {
     "name": "#%%\n"
    }
   },
   "outputs": [
    {
     "data": {
      "application/vnd.jupyter.widget-view+json": {
       "model_id": "7dd55a3f02c54e5caead4bf5d6426c97",
       "version_major": 2,
       "version_minor": 0
      },
      "text/plain": [
       "Canvas(toolbar=Toolbar(toolitems=[('Home', 'Reset original view', 'home', 'home'), ('Back', 'Back to previous …"
      ]
     },
     "metadata": {},
     "output_type": "display_data"
    }
   ],
   "source": [
    "# Plot loss, accuracy, and test accuracy\n",
    "plot_types = ['loss', 'weighted_acc']#, 'etg_domain']\n",
    "fig, axs = dda.make_plot_grid(len(plot_types), 1, ax_dims=(9, 3),\n",
    "                              ravel=True, prop_cycle=prop_cycle)\n",
    "\n",
    "for i, (label, res) in enumerate(curr_sets.items()):\n",
    "    for ax, ptype in zip(axs, plot_types):\n",
    "        dda.plot_report(ax, res, ptype, label=label)\n",
    "        \n",
    "#     etg_ax = axs[2 + i // n_cluster_types]\n",
    "#     dda.plot_report(etg_ax, res, 'etg_domain', label=label)\n",
    "\n",
    "for ax in axs:\n",
    "    dda.outside_legend(ax)#, fontsize='x-small', ncol=2)\n",
    "\n",
    "fig.tight_layout()\n",
    "plt.show()"
   ]
  },
  {
   "cell_type": "code",
   "execution_count": 42,
   "metadata": {
    "jupyter": {
     "source_hidden": true
    }
   },
   "outputs": [],
   "source": [
    "# axs[2].set_xscale('log')\n",
    "# axs[2].get_legend().remove()\n",
    "# ylims = axs[2].get_ylim()\n",
    "# snap_epochs = curr_sets['Original']['snap_epochs']\n",
    "# for ind in [0, 1, 5, 10, 50, 100]:\n",
    "#     epoch = snap_epochs[ind]\n",
    "#     axs[2].plot([epoch, epoch], ylims, 'k--')\n",
    "\n",
    "# plt.show()"
   ]
  },
  {
   "cell_type": "code",
   "execution_count": 15,
   "metadata": {
    "pycharm": {
     "name": "#%%\n"
    }
   },
   "outputs": [
    {
     "data": {
      "application/vnd.jupyter.widget-view+json": {
       "model_id": "cf8f57b373b945b885e87717d688b0a8",
       "version_major": 2,
       "version_minor": 0
      },
      "text/plain": [
       "Canvas(toolbar=Toolbar(toolitems=[('Home', 'Reset original view', 'home', 'home'), ('Back', 'Back to previous …"
      ]
     },
     "metadata": {},
     "output_type": "display_data"
    }
   ],
   "source": [
    "# Item RSA matrices\n",
    "\n",
    "# run = [1]\n",
    "# curr_sets_1run = {\n",
    "#     name: dda.get_result_means(res_paths[name], runs=run)\n",
    "#     for name in curr_sets.keys()\n",
    "# }\n",
    "\n",
    "inds_to_plot = range(0, 30, 2)\n",
    "fig, axss = dda.auto_subplots(len(inds_to_plot), n_curr, ax_dims=(3.5, 3.5))\n",
    "fig.suptitle('Mean RSA for items (all layers)')\n",
    "\n",
    "for ind, axs in zip(inds_to_plot, axss):\n",
    "    for (label, res), ax in zip(curr_sets.items(), axs):\n",
    "        dda.plot_rsa(ax, res, 'item_full', ind, title_addon=label)#, item_order='group-outer')\n",
    "        for label in ax.get_xticklabels() + ax.get_yticklabels():\n",
    "            label.set_fontsize('x-small')\n",
    "\n",
    "fig.tight_layout(rect=(0, 0, 1, 0.98))\n",
    "plt.show()"
   ]
  },
  {
   "cell_type": "code",
   "execution_count": 47,
   "metadata": {},
   "outputs": [
    {
     "data": {
      "application/vnd.jupyter.widget-view+json": {
       "model_id": "fb64fcf05e9d472d97c2ca336fdc7ed3",
       "version_major": 2,
       "version_minor": 0
      },
      "text/plain": [
       "Canvas(toolbar=Toolbar(toolitems=[('Home', 'Reset original view', 'home', 'home'), ('Back', 'Back to previous …"
      ]
     },
     "metadata": {},
     "output_type": "display_data"
    }
   ],
   "source": [
    "# Dendrograms for just original\n",
    "fig, axs = dda.auto_subplots(1, len(inds_to_plot), ax_dims=(4.5, 3.5))\n",
    "for ind, ax in zip(inds_to_plot, axs.ravel()):\n",
    "    dda.plot_repr_dendrogram(ax, curr_sets['Original'], 'item', ind)\n",
    "    \n",
    "fig.tight_layout()\n",
    "plt.show()"
   ]
  },
  {
   "cell_type": "code",
   "execution_count": 15,
   "metadata": {
    "collapsed": false,
    "jupyter": {
     "outputs_hidden": false
    },
    "pycharm": {
     "name": "#%%\n"
    }
   },
   "outputs": [
    {
     "data": {
      "application/vnd.jupyter.widget-view+json": {
       "model_id": "52639feeb1ae4e5ea3b8a5bdabf111b2",
       "version_major": 2,
       "version_minor": 0
      },
      "text/plain": [
       "Canvas(toolbar=Toolbar(toolitems=[('Home', 'Reset original view', 'home', 'home'), ('Back', 'Back to previous …"
      ]
     },
     "metadata": {},
     "output_type": "display_data"
    }
   ],
   "source": [
    "# Corresponding dendrograms\n",
    "fig, axss = dda.auto_subplots(len(inds_to_plot), n_curr, ax_dims=(4, 3))\n",
    "fig.suptitle('Item representation similarity')\n",
    "\n",
    "for ind, axs in zip(inds_to_plot, axss):\n",
    "    for (label, res), ax in zip(curr_sets.items(), axs):\n",
    "        dda.plot_repr_dendrogram(ax, res, 'item_hidden', ind, title_addon=label)\n",
    "\n",
    "fig.tight_layout()\n",
    "plt.show()"
   ]
  },
  {
   "cell_type": "code",
   "execution_count": 6,
   "metadata": {},
   "outputs": [
    {
     "data": {
      "application/vnd.jupyter.widget-view+json": {
       "model_id": "34c9930a8b6340ff9fab3d03c114a0e3",
       "version_major": 2,
       "version_minor": 0
      },
      "text/plain": [
       "Canvas(toolbar=Toolbar(toolitems=[('Home', 'Reset original view', 'home', 'home'), ('Back', 'Back to previous …"
      ]
     },
     "metadata": {},
     "output_type": "display_data"
    }
   ],
   "source": [
    "# Look at RSA projections onto group, domain, and item models\n",
    "# First plot the models\n",
    "item_models = dda.make_ortho_item_rsa_models(**next(iter(curr_sets.values()))['net_params'])\n",
    "\n",
    "fig, axs = dda.auto_subplots(1, (len(item_models)), ax_dims=(3.4, 3.4))\n",
    "for ax, (mtype, model) in zip(axs.ravel(), item_models.items()):\n",
    "    dda.plot_rsa_model(ax, model, input_type='item')\n",
    "    for label in ax.get_xticklabels() + ax.get_yticklabels():\n",
    "        label.set_fontsize('x-small') \n",
    "    ax.set_title(mtype + ' model RDM')\n",
    "    \n",
    "fig.tight_layout()\n",
    "plt.show()"
   ]
  },
  {
   "cell_type": "code",
   "execution_count": 82,
   "metadata": {},
   "outputs": [
    {
     "data": {
      "application/vnd.jupyter.widget-view+json": {
       "model_id": "4e184735af3349fa8faf46c00278d291",
       "version_major": 2,
       "version_minor": 0
      },
      "text/plain": [
       "Canvas(toolbar=Toolbar(toolitems=[('Home', 'Reset original view', 'home', 'home'), ('Back', 'Back to previous …"
      ]
     },
     "metadata": {},
     "output_type": "display_data"
    }
   ],
   "source": [
    "# Context hidden layer projections\n",
    "# First plot models\n",
    "ctx_models = dda.make_ortho_context_rsa_models(**next(iter(curr_sets.values()))['net_params'])\n",
    "\n",
    "fig, axs = dda.auto_subplots(1, len(ctx_models), ax_dims=(3.4, 3.4))\n",
    "for ax, (mtype, model) in zip(axs.ravel(), ctx_models.items()):\n",
    "    dda.plot_rsa_model(ax, model, input_type='context')\n",
    "    for label in ax.get_xticklabels() + ax.get_yticklabels():\n",
    "        label.set_fontsize('x-small') \n",
    "    ax.set_title(mtype + ' model RDM')\n",
    "    \n",
    "fig.tight_layout()\n",
    "plt.show()"
   ]
  },
  {
   "cell_type": "code",
   "execution_count": 87,
   "metadata": {},
   "outputs": [
    {
     "data": {
      "application/vnd.jupyter.widget-view+json": {
       "model_id": "9125d3e08872490e813f365d465b21f5",
       "version_major": 2,
       "version_minor": 0
      },
      "text/plain": [
       "Canvas(toolbar=Toolbar(toolitems=[('Home', 'Reset original view', 'home', 'home'), ('Back', 'Back to previous …"
      ]
     },
     "metadata": {},
     "output_type": "display_data"
    }
   ],
   "source": [
    "def plot_snap_projections(snap_type):\n",
    "    n_plots = len(item_models) if 'item' in snap_type else len(ctx_models)\n",
    "    fig, axs = dda.make_plot_grid(n_plots, 1, ax_dims=(9, 3),\n",
    "                                  ravel=True, prop_cycle=prop_cycle)\n",
    "\n",
    "    for label, res in curr_sets.items():\n",
    "        if snap_type in res['repr_dists']:\n",
    "            dda.plot_rdm_projections(res, snap_type, axs, label=label, normalize=True)\n",
    "\n",
    "    for ax in axs:\n",
    "        dda.outside_legend(ax)\n",
    "\n",
    "    fig.tight_layout()\n",
    "    plt.show()\n",
    "\n",
    "# Item hidden layer projections\n",
    "plot_snap_projections('item_hidden')"
   ]
  },
  {
   "cell_type": "code",
   "execution_count": 88,
   "metadata": {},
   "outputs": [
    {
     "data": {
      "application/vnd.jupyter.widget-view+json": {
       "model_id": "38a3dbd333fb4176a339db27a522006b",
       "version_major": 2,
       "version_minor": 0
      },
      "text/plain": [
       "Canvas(toolbar=Toolbar(toolitems=[('Home', 'Reset original view', 'home', 'home'), ('Back', 'Back to previous …"
      ]
     },
     "metadata": {},
     "output_type": "display_data"
    }
   ],
   "source": [
    "# Item representation layer projections\n",
    "plot_snap_projections('item')"
   ]
  },
  {
   "cell_type": "code",
   "execution_count": 7,
   "metadata": {
    "collapsed": true,
    "jupyter": {
     "outputs_hidden": true
    }
   },
   "outputs": [
    {
     "data": {
      "application/vnd.jupyter.widget-view+json": {
       "model_id": "8e4b24a4723c41e1a27bf337805a0d15",
       "version_major": 2,
       "version_minor": 0
      },
      "text/plain": [
       "Canvas(toolbar=Toolbar(toolitems=[('Home', 'Reset original view', 'home', 'home'), ('Back', 'Back to previous …"
      ]
     },
     "metadata": {},
     "output_type": "display_data"
    }
   ],
   "source": [
    "# All layers item projection\n",
    "plot_snap_projections('item_full')"
   ]
  },
  {
   "cell_type": "code",
   "execution_count": 90,
   "metadata": {},
   "outputs": [
    {
     "data": {
      "application/vnd.jupyter.widget-view+json": {
       "model_id": "1a6b516e31f944219b98365d0961fdc0",
       "version_major": 2,
       "version_minor": 0
      },
      "text/plain": [
       "Canvas(toolbar=Toolbar(toolitems=[('Home', 'Reset original view', 'home', 'home'), ('Back', 'Back to previous …"
      ]
     },
     "metadata": {},
     "output_type": "display_data"
    }
   ],
   "source": [
    "# Context hidden layer projections\n",
    "plot_snap_projections('context_hidden')"
   ]
  },
  {
   "cell_type": "code",
   "execution_count": 91,
   "metadata": {},
   "outputs": [
    {
     "data": {
      "application/vnd.jupyter.widget-view+json": {
       "model_id": "035ffe3f30364d43aa8de8e331ef199a",
       "version_major": 2,
       "version_minor": 0
      },
      "text/plain": [
       "Canvas(toolbar=Toolbar(toolitems=[('Home', 'Reset original view', 'home', 'home'), ('Back', 'Back to previous …"
      ]
     },
     "metadata": {},
     "output_type": "display_data"
    }
   ],
   "source": [
    "# Context representation layer projections\n",
    "plot_snap_projections('context')"
   ]
  },
  {
   "cell_type": "code",
   "execution_count": 88,
   "metadata": {},
   "outputs": [
    {
     "data": {
      "application/vnd.jupyter.widget-view+json": {
       "model_id": "836a08f3af3146a9934271057483ad96",
       "version_major": 2,
       "version_minor": 0
      },
      "text/plain": [
       "Canvas(toolbar=Toolbar(toolitems=[('Home', 'Reset original view', 'home', 'home'), ('Back', 'Back to previous …"
      ]
     },
     "metadata": {},
     "output_type": "display_data"
    }
   ],
   "source": [
    "# All layers context projection\n",
    "plot_snap_projections('context_full')"
   ]
  },
  {
   "cell_type": "code",
   "execution_count": 19,
   "metadata": {},
   "outputs": [
    {
     "data": {
      "application/vnd.jupyter.widget-view+json": {
       "model_id": "cffc0b17c1fc4270b73bd6e69d2940c4",
       "version_major": 2,
       "version_minor": 0
      },
      "text/plain": [
       "Canvas(toolbar=Toolbar(toolitems=[('Home', 'Reset original view', 'home', 'home'), ('Back', 'Back to previous …"
      ]
     },
     "metadata": {},
     "output_type": "display_data"
    }
   ],
   "source": [
    "# special analysis of projections onto cross_domain_group_match model to look at batch size\n",
    "batch_sizes = np.array([res['train_params']['batch_size'] for res in curr_sets.values()])\n",
    "projections = np.stack([np.mean(dda.get_rdm_projections(res, snap_type='item_full')['cross_domain_group_match'], axis=0)\n",
    "                        for res in curr_sets.values()])\n",
    "\n",
    "fig, ax = plt.subplots(figsize=(8, 6))\n",
    "ax.matshow(projections)\n",
    "ax.set_title('Strength of cross-domain (checkerboard) pattern')\n",
    "ax.set_yticks(range(projections.shape[0]))\n",
    "ax.set_yticklabels(batch_sizes)\n",
    "ax.set_ylabel('Batch size')\n",
    "ax.set_xticks(range(0, projections.shape[1], 4))\n",
    "ax.set_xticklabels(curr_sets['B5']['snap_epochs'][::4])\n",
    "ax.set_xlabel('Training epoch')\n",
    "\n",
    "plt.show()"
   ]
  },
  {
   "cell_type": "code",
   "execution_count": 100,
   "metadata": {},
   "outputs": [],
   "source": [
    "# Fit linear models\n",
    "reg_data = dda.make_dict_for_regression(curr_sets.values())"
   ]
  },
  {
   "cell_type": "code",
   "execution_count": 94,
   "metadata": {
    "collapsed": true,
    "jupyter": {
     "outputs_hidden": true
    }
   },
   "outputs": [
    {
     "name": "stdout",
     "output_type": "stream",
     "text": [
      "                            OLS Regression Results                            \n",
      "==============================================================================\n",
      "Dep. Variable:      test_weighted_acc   R-squared:                       0.622\n",
      "Model:                            OLS   Adj. R-squared:                  0.622\n",
      "Method:                 Least Squares   F-statistic:                     5971.\n",
      "Date:                Tue, 08 Dec 2020   Prob (F-statistic):               0.00\n",
      "Time:                        17:46:18   Log-Likelihood:                 21863.\n",
      "No. Observations:               18180   AIC:                        -4.371e+04\n",
      "Df Residuals:                   18174   BIC:                        -4.367e+04\n",
      "Df Model:                           5                                         \n",
      "Covariance Type:            nonrobust                                         \n",
      "==============================================================================================================================\n",
      "                                                                 coef    std err          t      P>|t|      [0.025      0.975]\n",
      "------------------------------------------------------------------------------------------------------------------------------\n",
      "Intercept                                                      0.4602      0.002    275.500      0.000       0.457       0.463\n",
      "ctx_same_vs_different_domain                                   0.0067      0.000     27.872      0.000       0.006       0.007\n",
      "item_attribute_similarity                                     -0.0074      0.000    -34.945      0.000      -0.008      -0.007\n",
      "item_same_vs_different_domain                                  0.0088      0.000     42.185      0.000       0.008       0.009\n",
      "ctx_same_vs_different_domain:item_attribute_similarity         0.0034   4.14e-05     82.683      0.000       0.003       0.004\n",
      "ctx_same_vs_different_domain:item_same_vs_different_domain    -0.0027   5.23e-05    -51.654      0.000      -0.003      -0.003\n",
      "==============================================================================\n",
      "Omnibus:                      284.949   Durbin-Watson:                   0.075\n",
      "Prob(Omnibus):                  0.000   Jarque-Bera (JB):              342.126\n",
      "Skew:                           0.245   Prob(JB):                     5.11e-75\n",
      "Kurtosis:                       3.459   Cond. No.                         279.\n",
      "==============================================================================\n",
      "\n",
      "Notes:\n",
      "[1] Standard Errors assume that the covariance matrix of the errors is correctly specified.\n"
     ]
    }
   ],
   "source": [
    "# Fit model for context domain information interacting with item domain and attribute similarity (both potentially important)\n",
    "model1_res = dda.fit_linear_model('test_weighted_acc ~ ctx_same_vs_different_domain*(item_attribute_similarity + item_same_vs_different_domain)', reg_data)\n",
    "print(model1_res.summary())"
   ]
  },
  {
   "cell_type": "code",
   "execution_count": 101,
   "metadata": {
    "collapsed": true,
    "jupyter": {
     "outputs_hidden": true
    }
   },
   "outputs": [
    {
     "name": "stdout",
     "output_type": "stream",
     "text": [
      "                            OLS Regression Results                            \n",
      "==============================================================================\n",
      "Dep. Variable:      test_weighted_acc   R-squared:                       0.451\n",
      "Model:                            OLS   Adj. R-squared:                  0.450\n",
      "Method:                 Least Squares   F-statistic:                     7451.\n",
      "Date:                Tue, 08 Dec 2020   Prob (F-statistic):               0.00\n",
      "Time:                        18:36:17   Log-Likelihood:                 18472.\n",
      "No. Observations:               18180   AIC:                        -3.694e+04\n",
      "Df Residuals:                   18177   BIC:                        -3.691e+04\n",
      "Df Model:                           2                                         \n",
      "Covariance Type:            nonrobust                                         \n",
      "================================================================================================\n",
      "                                   coef    std err          t      P>|t|      [0.025      0.975]\n",
      "------------------------------------------------------------------------------------------------\n",
      "Intercept                        0.3969      0.002    225.245      0.000       0.393       0.400\n",
      "item_attribute_similarity        0.0069   8.76e-05     78.364      0.000       0.007       0.007\n",
      "ctx_same_vs_different_domain     0.0207      0.000    103.336      0.000       0.020       0.021\n",
      "==============================================================================\n",
      "Omnibus:                     1001.351   Durbin-Watson:                   0.048\n",
      "Prob(Omnibus):                  0.000   Jarque-Bera (JB):              869.952\n",
      "Skew:                           0.467   Prob(JB):                    1.24e-189\n",
      "Kurtosis:                       2.473   Cond. No.                         42.6\n",
      "==============================================================================\n",
      "\n",
      "Notes:\n",
      "[1] Standard Errors assume that the covariance matrix of the errors is correctly specified.\n"
     ]
    }
   ],
   "source": [
    "model2_res = dda.fit_linear_model('test_weighted_acc ~ item_attribute_similarity + ctx_same_vs_different_domain', reg_data)\n",
    "print(model2_res.summary())"
   ]
  },
  {
   "cell_type": "code",
   "execution_count": null,
   "metadata": {},
   "outputs": [],
   "source": [
    "# TODO: Try plotting a combination of item attribute similarity and context domain measures? Not sure if it makes sense."
   ]
  },
  {
   "cell_type": "code",
   "execution_count": 74,
   "metadata": {
    "collapsed": false,
    "jupyter": {
     "outputs_hidden": false
    },
    "pycharm": {
     "name": "#%%\n"
    }
   },
   "outputs": [
    {
     "data": {
      "application/vnd.jupyter.widget-view+json": {
       "model_id": "d4f1271774464b768d276e02755fc05a",
       "version_major": 2,
       "version_minor": 0
      },
      "text/plain": [
       "Canvas(toolbar=Toolbar(toolitems=[('Home', 'Reset original view', 'home', 'home'), ('Back', 'Back to previous …"
      ]
     },
     "metadata": {},
     "output_type": "display_data"
    }
   ],
   "source": [
    "# Context RSA matrix\n",
    "inds_to_plot = [0, 1, 4, 11, 12, 30, 50, -1]\n",
    "fig, axss = dda.auto_subplots(len(inds_to_plot), n_curr, ax_dims=(4, 4))\n",
    "fig.suptitle('Mean RSA for contexts')\n",
    "\n",
    "#ctx_sets = {name: res for name, res in curr_sets.items() if name in ['Original', 'Merged repr', 'No item repr']}\n",
    "\n",
    "for ind, axs in zip(inds_to_plot, axss):\n",
    "    for (label, res), ax in zip(curr_sets.items(), axs):\n",
    "        dda.plot_rsa(ax, res, 'context_hidden', ind, title_addon=label, item_order='domain-inner')\n",
    "\n",
    "fig.tight_layout()\n",
    "plt.show()"
   ]
  },
  {
   "cell_type": "code",
   "execution_count": 60,
   "metadata": {
    "collapsed": false,
    "jupyter": {
     "outputs_hidden": false
    },
    "pycharm": {
     "name": "#%%\n"
    }
   },
   "outputs": [
    {
     "data": {
      "application/vnd.jupyter.widget-view+json": {
       "model_id": "45de38763abe4be6991eb3f2791126a2",
       "version_major": 2,
       "version_minor": 0
      },
      "text/plain": [
       "Canvas(toolbar=Toolbar(toolitems=[('Home', 'Reset original view', 'home', 'home'), ('Back', 'Back to previous …"
      ]
     },
     "metadata": {},
     "output_type": "display_data"
    }
   ],
   "source": [
    "# Corresponding context dendrograms\n",
    "fig, axss = dda.auto_subplots(len(inds_to_plot), n_curr, ax_dims=(4, 3))\n",
    "fig.suptitle('Context representation similarity')\n",
    "\n",
    "for ind, axs in zip(inds_to_plot, axss):\n",
    "    for (label, res), ax in zip(curr_sets.items(), axs):\n",
    "        dda.plot_repr_dendrogram(ax, res, 'context', ind, title_addon=label)\n",
    "\n",
    "fig.tight_layout()\n",
    "plt.show()"
   ]
  },
  {
   "cell_type": "code",
   "execution_count": 79,
   "metadata": {},
   "outputs": [
    {
     "data": {
      "application/vnd.jupyter.widget-view+json": {
       "model_id": "ae007463c1db46b79de995032551b251",
       "version_major": 2,
       "version_minor": 0
      },
      "text/plain": [
       "Canvas(toolbar=Toolbar(toolitems=[('Home', 'Reset original view', 'home', 'home'), ('Back', 'Back to previous …"
      ]
     },
     "metadata": {},
     "output_type": "display_data"
    }
   ],
   "source": [
    "# Item rep RSA over all snapshots (useful maybe for finding interesting change points)\n",
    "fig, axs = dda.make_plot_grid(len(curr_sets), 2, ax_dims=(5, 5))\n",
    "\n",
    "for ax, (label, res) in zip(axs, curr_sets.items()):\n",
    "    n_snaps = len(res['snap_epochs'])\n",
    "    snap_freq = res['train_params']['snap_freq']\n",
    "    im = ax.imshow(res['repr_dists']['item']['all'],\n",
    "                   extent=(-0.5, n_snaps * snap_freq-0.5, n_snaps * snap_freq-0.5, -0.5))\n",
    "    ax.set_xticks(res['snap_epochs'][::4])\n",
    "    ax.tick_params(axis='x', labelrotation=45)\n",
    "    ax.set_yticks(res['snap_epochs'][::4])\n",
    "    ax.set_xlabel('Epochs')\n",
    "    ax.set_title(f'Item repr distances over training ({label})')\n",
    "    fig.colorbar(im, ax=ax, fraction=0.046, pad=0.04)\n",
    "    \n",
    "fig.tight_layout()\n",
    "plt.show()"
   ]
  },
  {
   "cell_type": "code",
   "execution_count": 51,
   "metadata": {
    "collapsed": false,
    "jupyter": {
     "outputs_hidden": false
    },
    "pycharm": {
     "name": "#%%\n"
    }
   },
   "outputs": [
    {
     "data": {
      "application/vnd.jupyter.widget-view+json": {
       "model_id": "6136ccd47a3d42d88cec8de9b4712f94",
       "version_major": 2,
       "version_minor": 0
      },
      "text/plain": [
       "Canvas(toolbar=Toolbar(toolitems=[('Home', 'Reset original view', 'home', 'home'), ('Back', 'Back to previous …"
      ]
     },
     "metadata": {},
     "output_type": "display_data"
    }
   ],
   "source": [
    "# MDS of item representations over time\n",
    "#for label, res in curr_sets.items():\n",
    "dda.plot_repr_trajectories(curr_sets['Original'], 'item', dims=3)#, title_label=label)\n",
    "\n",
    "plt.show()"
   ]
  },
  {
   "cell_type": "code",
   "execution_count": 81,
   "metadata": {
    "collapsed": false,
    "jupyter": {
     "outputs_hidden": false
    },
    "pycharm": {
     "name": "#%%\n"
    }
   },
   "outputs": [
    {
     "data": {
      "application/vnd.jupyter.widget-view+json": {
       "model_id": "6cc14ee2e8cf46d687c011862bb6a40f",
       "version_major": 2,
       "version_minor": 0
      },
      "text/plain": [
       "Canvas(toolbar=Toolbar(toolitems=[('Home', 'Reset original view', 'home', 'home'), ('Back', 'Back to previous …"
      ]
     },
     "metadata": {},
     "output_type": "display_data"
    },
    {
     "data": {
      "application/vnd.jupyter.widget-view+json": {
       "model_id": "fa640ab3d7b040729a0fead3912a000b",
       "version_major": 2,
       "version_minor": 0
      },
      "text/plain": [
       "Canvas(toolbar=Toolbar(toolitems=[('Home', 'Reset original view', 'home', 'home'), ('Back', 'Back to previous …"
      ]
     },
     "metadata": {},
     "output_type": "display_data"
    }
   ],
   "source": [
    "for label, res in curr_sets.items():\n",
    "    dda.plot_repr_trajectories(res, 'context', dims=2, title_label=label)\n",
    "\n",
    "plt.show()"
   ]
  },
  {
   "cell_type": "code",
   "execution_count": 48,
   "metadata": {},
   "outputs": [
    {
     "data": {
      "application/vnd.jupyter.widget-view+json": {
       "model_id": "e20b0bbca7ea4f449ed13d0e2f74bf73",
       "version_major": 2,
       "version_minor": 0
      },
      "text/plain": [
       "Canvas(toolbar=Toolbar(toolitems=[('Home', 'Reset original view', 'home', 'home'), ('Back', 'Back to previous …"
      ]
     },
     "metadata": {},
     "output_type": "display_data"
    }
   ],
   "source": [
    "import importlib\n",
    "importlib.reload(dda)\n",
    "\n",
    "fig, axs = dda.make_plot_grid(len(curr_runs), 2, ax_dims=(6, 15))\n",
    "run_num = 0\n",
    "snap_index = 5\n",
    "\n",
    "for (name, res), ax in zip(short_sets.items(), axs.ravel()):\n",
    "    dda.plot_hl_input_pattern_correlations(ax, res, run_num, snap_index, title_label=name)\n",
    "    \n",
    "fig.tight_layout()\n",
    "plt.show()"
   ]
  }
 ],
 "metadata": {
  "kernelspec": {
   "display_name": "Python 3",
   "language": "python",
   "name": "python3"
  },
  "language_info": {
   "codemirror_mode": {
    "name": "ipython",
    "version": 3
   },
   "file_extension": ".py",
   "mimetype": "text/x-python",
   "name": "python",
   "nbconvert_exporter": "python",
   "pygments_lexer": "ipython3",
   "version": "3.8.6"
  }
 },
 "nbformat": 4,
 "nbformat_minor": 4
}
