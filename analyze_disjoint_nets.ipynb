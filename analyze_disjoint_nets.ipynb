{
 "cells": [
  {
   "cell_type": "code",
   "execution_count": 23,
   "metadata": {
    "collapsed": false,
    "jupyter": {
     "outputs_hidden": false
    },
    "pycharm": {
     "name": "#%%\n"
    }
   },
   "outputs": [
    {
     "data": {
      "text/plain": [
       "<module 'dd_analysis' from 'D:\\\\neuroscience\\\\concept_learning_IS\\\\disjoint-domain\\\\dd_analysis.py'>"
      ]
     },
     "execution_count": 23,
     "metadata": {},
     "output_type": "execute_result"
    }
   ],
   "source": [
    "%matplotlib widget\n",
    "\n",
    "import matplotlib.pyplot as plt\n",
    "import matplotlib.colors as mcolors\n",
    "import importlib\n",
    "\n",
    "import dd_analysis as dda\n",
    "#importlib.reload(dda)"
   ]
  },
  {
   "cell_type": "code",
   "execution_count": 10,
   "metadata": {
    "collapsed": false,
    "jupyter": {
     "outputs_hidden": false
    },
    "pycharm": {
     "name": "#%%\n"
    }
   },
   "outputs": [],
   "source": [
    "# Load data from previous runs\n",
    "res_paths = {\n",
    "    'Original': 'data/dd_res_2020-12-03_01-31-32.npz',\n",
    "    'Merged repr': 'data/merged_repr_dd_res_2020-12-04_05-15-35.npz',\n",
    "#    'Small item repr': 'data/small_item_repr_dd_res_2020-11-24_18-48-00.npz',\n",
    "#    'More compressed': 'data/all_ratios_0.5_dd_res_2020-11-24_21-17-07.npz',\n",
    "#    'Half-size HL': 'data/half_hidden_longer_dd_res_2020-11-25_01-06-37.npz',\n",
    "    'No item repr': 'data/no_item_repr_reallocate_dd_res_2020-12-04_06-30-32.npz',\n",
    "    'No context repr': 'data/no_ctx_repr_reallocate_dd_res_2020-12-04_07-48-18.npz',\n",
    "    'No repr': 'data/no_repr_reallocate_dd_res_2020-12-03_03-24-49.npz',\n",
    "#     'Short original': 'data/short_save_params_dd_res_2020-11-26_11-44-16.npz',\n",
    "#     'Short no item repr': 'data/short_save_params_no_item_repr_dd_res_2020-11-26_11-58-59.npz',\n",
    "#     'Short no context repr': 'data/short_save_params_no_ctx_repr_dd_res_2020-11-26_12-05-47.npz'\n",
    "}\n",
    "\n",
    "res_data = {name: dda.get_result_means(path) for name, path in res_paths.items()}"
   ]
  },
  {
   "cell_type": "code",
   "execution_count": 11,
   "metadata": {
    "collapsed": false,
    "jupyter": {
     "outputs_hidden": false
    },
    "pycharm": {
     "name": "#%%\n"
    }
   },
   "outputs": [],
   "source": [
    "# Get ready to look at some particular runs\n",
    "curr_runs = ['Original', 'Merged repr', 'No item repr', 'No context repr', 'No repr']\n",
    "curr_sets = {name: data for name, data in res_data.items() if name in curr_runs}\n",
    "n_curr = len(curr_runs)\n",
    "\n",
    "# short_runs = ['Short original', 'Short no item repr', 'Short no context repr']\n",
    "# short_sets = {name: data for name, data in res_data.items() if name in short_runs}\n",
    "\n",
    "plt.close('all')"
   ]
  },
  {
   "cell_type": "code",
   "execution_count": 4,
   "metadata": {
    "pycharm": {
     "name": "#%%\n"
    }
   },
   "outputs": [
    {
     "data": {
      "application/vnd.jupyter.widget-view+json": {
       "model_id": "c85ddf7a38384b5bb2c244b427baf4d1",
       "version_major": 2,
       "version_minor": 0
      },
      "text/plain": [
       "Canvas(toolbar=Toolbar(toolitems=[('Home', 'Reset original view', 'home', 'home'), ('Back', 'Back to previous …"
      ]
     },
     "metadata": {},
     "output_type": "display_data"
    }
   ],
   "source": [
    "# Plot loss, accuracy, and test accuracy\n",
    "fig, axs = dda.make_plot_grid(3, 1, ax_dims=(7, 3), ravel=True)\n",
    "\n",
    "for (label, res), col in zip(curr_sets.items(), mcolors.TABLEAU_COLORS):\n",
    "    dda.plot_report(axs[0], res, 'loss', label=label)\n",
    "    dda.plot_report(axs[1], res, 'weighted_acc', label=label)\n",
    "    dda.plot_report(axs[2], res, 'test_weighted_acc', label=label)\n",
    "\n",
    "for ax in axs:\n",
    "    ax.legend()\n",
    "\n",
    "fig.tight_layout()\n",
    "plt.show()"
   ]
  },
  {
   "cell_type": "code",
   "execution_count": 25,
   "metadata": {
    "collapsed": false,
    "jupyter": {
     "outputs_hidden": false
    },
    "pycharm": {
     "name": "#%%\n"
    }
   },
   "outputs": [
    {
     "data": {
      "application/vnd.jupyter.widget-view+json": {
       "model_id": "8b1df13bc6854d608ca347a732eb9062",
       "version_major": 2,
       "version_minor": 0
      },
      "text/plain": [
       "Canvas(toolbar=Toolbar(toolitems=[('Home', 'Reset original view', 'home', 'home'), ('Back', 'Back to previous …"
      ]
     },
     "metadata": {},
     "output_type": "display_data"
    }
   ],
   "source": [
    "# Item RSA matrices\n",
    "inds_to_plot = [0, 1, 4, 11, 12, 30, 50, -1]\n",
    "fig, axss = dda.auto_subplots(len(inds_to_plot), n_curr, ax_dims=(3, 3))\n",
    "fig.suptitle('Mean RSA for items (hidden layer)')\n",
    "\n",
    "for ind, axs in zip(inds_to_plot, axss):\n",
    "    for (label, res), ax in zip(curr_sets.items(), axs):\n",
    "        dda.plot_rsa(ax, res, 'item_hidden', ind, title_addon=label)#, item_order='group-outer')\n",
    "\n",
    "fig.tight_layout()\n",
    "plt.show()"
   ]
  },
  {
   "cell_type": "code",
   "execution_count": 62,
   "metadata": {
    "collapsed": false,
    "jupyter": {
     "outputs_hidden": false
    },
    "pycharm": {
     "name": "#%%\n"
    }
   },
   "outputs": [
    {
     "data": {
      "application/vnd.jupyter.widget-view+json": {
       "model_id": "574a13bb6fd949b29c95b3d6f1fefa17",
       "version_major": 2,
       "version_minor": 0
      },
      "text/plain": [
       "Canvas(toolbar=Toolbar(toolitems=[('Home', 'Reset original view', 'home', 'home'), ('Back', 'Back to previous …"
      ]
     },
     "metadata": {},
     "output_type": "display_data"
    }
   ],
   "source": [
    "# Corresponding dendrograms\n",
    "fig, axss = dda.auto_subplots(len(inds_to_plot), n_curr, ax_dims=(4, 3))\n",
    "fig.suptitle('Item representation similarity')\n",
    "\n",
    "for ind, axs in zip(inds_to_plot, axss):\n",
    "    for (label, res), ax in zip(curr_sets.items(), axs):\n",
    "        dda.plot_repr_dendrogram(ax, res, 'item', ind, title_addon=label)\n",
    "\n",
    "fig.tight_layout()\n",
    "plt.show()"
   ]
  },
  {
   "cell_type": "code",
   "execution_count": 24,
   "metadata": {},
   "outputs": [
    {
     "data": {
      "application/vnd.jupyter.widget-view+json": {
       "model_id": "e50b6fa14c0140faaf21738e7cba1245",
       "version_major": 2,
       "version_minor": 0
      },
      "text/plain": [
       "Canvas(toolbar=Toolbar(toolitems=[('Home', 'Reset original view', 'home', 'home'), ('Back', 'Back to previous …"
      ]
     },
     "metadata": {},
     "output_type": "display_data"
    }
   ],
   "source": [
    "# Look at RSA projections onto group, domain, and item models\n",
    "# First plot the models\n",
    "n_domains = curr_sets['Original']['net_params']['n_domains']\n",
    "group_model = dda.get_group_model_rsa(n_domains)\n",
    "domain_model = dda.get_domain_model_rsa(n_domains)\n",
    "item_model = dda.get_item_model_rsa(n_domains)\n",
    "\n",
    "fig, axs = dda.make_plot_grid(3, 3, ax_dims=(4, 4), ravel=True)\n",
    "for ax, mtype, model in zip(axs, ['Cross-domain group', 'Domain', 'Item'], [group_model, domain_model, item_model]):\n",
    "    dda.plot_rsa(ax, curr_sets['Original'], 'item', 0, rsa_mat=model)\n",
    "    ax.set_title(mtype + ' model RDM')\n",
    "    \n",
    "fig.tight_layout()\n",
    "plt.show()"
   ]
  },
  {
   "cell_type": "code",
   "execution_count": 19,
   "metadata": {},
   "outputs": [
    {
     "data": {
      "application/vnd.jupyter.widget-view+json": {
       "model_id": "1f4cf3533e424c8ba6a4de9c7ffefbc0",
       "version_major": 2,
       "version_minor": 0
      },
      "text/plain": [
       "Canvas(toolbar=Toolbar(toolitems=[('Home', 'Reset original view', 'home', 'home'), ('Back', 'Back to previous …"
      ]
     },
     "metadata": {},
     "output_type": "display_data"
    }
   ],
   "source": [
    "# Item hidden layer projections\n",
    "fig, axs = dda.make_plot_grid(3, 1, ax_dims=(9, 3), ravel=True)\n",
    "\n",
    "snap_type = 'item_hidden'\n",
    "model_types=['group', 'domain', 'individual']\n",
    "\n",
    "for (label, res), col in zip(curr_sets.items(), mcolors.TABLEAU_COLORS):\n",
    "    dda.plot_rdm_projections(res, snap_type, model_types, axs, color=col, label=label)\n",
    "    \n",
    "for ax in axs:\n",
    "    dda.outside_legend(ax)\n",
    "\n",
    "fig.tight_layout()\n",
    "plt.show()"
   ]
  },
  {
   "cell_type": "code",
   "execution_count": 20,
   "metadata": {},
   "outputs": [
    {
     "data": {
      "application/vnd.jupyter.widget-view+json": {
       "model_id": "51cb24fcc1fe4ced8ef71b1fa76e8c8b",
       "version_major": 2,
       "version_minor": 0
      },
      "text/plain": [
       "Canvas(toolbar=Toolbar(toolitems=[('Home', 'Reset original view', 'home', 'home'), ('Back', 'Back to previous …"
      ]
     },
     "metadata": {},
     "output_type": "display_data"
    }
   ],
   "source": [
    "# Context hidden layer projections\n",
    "fig, axs = dda.make_plot_grid(2, 1, ax_dims=(9, 3), ravel=True)\n",
    "\n",
    "snap_type = 'context_hidden'\n",
    "model_types=['domain', 'individual']\n",
    "\n",
    "for (label, res), col in zip(curr_sets.items(), mcolors.TABLEAU_COLORS):\n",
    "    dda.plot_rdm_projections(res, snap_type, model_types, axs, color=col, label=label)\n",
    "    \n",
    "for ax in axs:\n",
    "    dda.outside_legend(ax)\n",
    "\n",
    "fig.tight_layout()\n",
    "plt.show()"
   ]
  },
  {
   "cell_type": "code",
   "execution_count": 21,
   "metadata": {},
   "outputs": [
    {
     "data": {
      "application/vnd.jupyter.widget-view+json": {
       "model_id": "bb1c155daaa0488eb22b1240d22f3a10",
       "version_major": 2,
       "version_minor": 0
      },
      "text/plain": [
       "Canvas(toolbar=Toolbar(toolitems=[('Home', 'Reset original view', 'home', 'home'), ('Back', 'Back to previous …"
      ]
     },
     "metadata": {},
     "output_type": "display_data"
    }
   ],
   "source": [
    "# Item representation layer projections\n",
    "fig, axs = dda.make_plot_grid(3, 1, ax_dims=(9, 3), ravel=True)\n",
    "\n",
    "snap_type = 'item'\n",
    "model_types=['group', 'domain', 'individual']\n",
    "\n",
    "for (label, res), col in zip(curr_sets.items(), mcolors.TABLEAU_COLORS):\n",
    "    # only plot if we actually have an item representation layer\n",
    "    if 'item' in res['repr_dists']:\n",
    "        dda.plot_rdm_projections(res, snap_type, model_types, axs, color=col, label=label)\n",
    "    \n",
    "for ax in axs:\n",
    "    dda.outside_legend(ax)\n",
    "\n",
    "fig.tight_layout()\n",
    "plt.show()"
   ]
  },
  {
   "cell_type": "code",
   "execution_count": 22,
   "metadata": {},
   "outputs": [
    {
     "data": {
      "application/vnd.jupyter.widget-view+json": {
       "model_id": "49078b120697498f8c9b1fd9294a797e",
       "version_major": 2,
       "version_minor": 0
      },
      "text/plain": [
       "Canvas(toolbar=Toolbar(toolitems=[('Home', 'Reset original view', 'home', 'home'), ('Back', 'Back to previous …"
      ]
     },
     "metadata": {},
     "output_type": "display_data"
    }
   ],
   "source": [
    "# Context representation layer projections\n",
    "fig, axs = dda.make_plot_grid(2, 1, ax_dims=(9, 3), ravel=True)\n",
    "\n",
    "snap_type = 'context'\n",
    "model_types=['domain', 'individual']\n",
    "\n",
    "for (label, res), col in zip(curr_sets.items(), mcolors.TABLEAU_COLORS):\n",
    "    # only plot if we actually have a context representation layer\n",
    "    if 'context' in res['repr_dists']:\n",
    "        dda.plot_rdm_projections(res, snap_type, model_types, axs, color=col, label=label)\n",
    "    \n",
    "for ax in axs:\n",
    "    dda.outside_legend(ax)\n",
    "\n",
    "fig.tight_layout()\n",
    "plt.show()"
   ]
  },
  {
   "cell_type": "code",
   "execution_count": 47,
   "metadata": {
    "collapsed": false,
    "jupyter": {
     "outputs_hidden": false
    },
    "pycharm": {
     "name": "#%%\n"
    }
   },
   "outputs": [
    {
     "data": {
      "application/vnd.jupyter.widget-view+json": {
       "model_id": "e8e17a31121a421d98f6689cf7205f06",
       "version_major": 2,
       "version_minor": 0
      },
      "text/plain": [
       "Canvas(toolbar=Toolbar(toolitems=[('Home', 'Reset original view', 'home', 'home'), ('Back', 'Back to previous …"
      ]
     },
     "metadata": {},
     "output_type": "display_data"
    }
   ],
   "source": [
    "# Context RSA matrix\n",
    "inds_to_plot = [0, 1, 4, 11, 12, 30, 50, -1]\n",
    "fig, axss = dda.auto_subplots(len(inds_to_plot), n_curr, ax_dims=(4, 4))\n",
    "fig.suptitle('Mean RSA for contexts')\n",
    "\n",
    "#ctx_sets = {name: res for name, res in curr_sets.items() if name in ['Original', 'Merged repr', 'No item repr']}\n",
    "\n",
    "for ind, axs in zip(inds_to_plot, axss):\n",
    "    for (label, res), ax in zip(curr_sets.items(), axs):\n",
    "        dda.plot_rsa(ax, res, 'context_hidden', ind, title_addon=label, item_order='domain-inner')\n",
    "\n",
    "fig.tight_layout()\n",
    "plt.show()"
   ]
  },
  {
   "cell_type": "code",
   "execution_count": 60,
   "metadata": {
    "collapsed": false,
    "jupyter": {
     "outputs_hidden": false
    },
    "pycharm": {
     "name": "#%%\n"
    }
   },
   "outputs": [
    {
     "data": {
      "application/vnd.jupyter.widget-view+json": {
       "model_id": "45de38763abe4be6991eb3f2791126a2",
       "version_major": 2,
       "version_minor": 0
      },
      "text/plain": [
       "Canvas(toolbar=Toolbar(toolitems=[('Home', 'Reset original view', 'home', 'home'), ('Back', 'Back to previous …"
      ]
     },
     "metadata": {},
     "output_type": "display_data"
    }
   ],
   "source": [
    "# Corresponding context dendrograms\n",
    "fig, axss = dda.auto_subplots(len(inds_to_plot), n_curr, ax_dims=(4, 3))\n",
    "fig.suptitle('Context representation similarity')\n",
    "\n",
    "for ind, axs in zip(inds_to_plot, axss):\n",
    "    for (label, res), ax in zip(curr_sets.items(), axs):\n",
    "        dda.plot_repr_dendrogram(ax, res, 'context', ind, title_addon=label)\n",
    "\n",
    "fig.tight_layout()\n",
    "plt.show()"
   ]
  },
  {
   "cell_type": "code",
   "execution_count": 79,
   "metadata": {},
   "outputs": [
    {
     "data": {
      "application/vnd.jupyter.widget-view+json": {
       "model_id": "ae007463c1db46b79de995032551b251",
       "version_major": 2,
       "version_minor": 0
      },
      "text/plain": [
       "Canvas(toolbar=Toolbar(toolitems=[('Home', 'Reset original view', 'home', 'home'), ('Back', 'Back to previous …"
      ]
     },
     "metadata": {},
     "output_type": "display_data"
    }
   ],
   "source": [
    "# Item rep RSA over all snapshots (useful maybe for finding interesting change points)\n",
    "fig, axs = dda.make_plot_grid(len(curr_sets), 2, ax_dims=(5, 5))\n",
    "\n",
    "for ax, (label, res) in zip(axs, curr_sets.items()):\n",
    "    n_snaps = len(res['snap_epochs'])\n",
    "    snap_freq = res['train_params']['snap_freq']\n",
    "    im = ax.imshow(res['repr_dists']['item']['all'],\n",
    "                   extent=(-0.5, n_snaps * snap_freq-0.5, n_snaps * snap_freq-0.5, -0.5))\n",
    "    ax.set_xticks(res['snap_epochs'][::4])\n",
    "    ax.tick_params(axis='x', labelrotation=45)\n",
    "    ax.set_yticks(res['snap_epochs'][::4])\n",
    "    ax.set_xlabel('Epochs')\n",
    "    ax.set_title(f'Item repr distances over training ({label})')\n",
    "    fig.colorbar(im, ax=ax, fraction=0.046, pad=0.04)\n",
    "    \n",
    "fig.tight_layout()\n",
    "plt.show()"
   ]
  },
  {
   "cell_type": "code",
   "execution_count": 35,
   "metadata": {
    "collapsed": false,
    "jupyter": {
     "outputs_hidden": false
    },
    "pycharm": {
     "name": "#%%\n"
    }
   },
   "outputs": [
    {
     "data": {
      "application/vnd.jupyter.widget-view+json": {
       "model_id": "a249c0e722964fd3a2074cdd3d968585",
       "version_major": 2,
       "version_minor": 0
      },
      "text/plain": [
       "Canvas(toolbar=Toolbar(toolitems=[('Home', 'Reset original view', 'home', 'home'), ('Back', 'Back to previous …"
      ]
     },
     "metadata": {},
     "output_type": "display_data"
    },
    {
     "data": {
      "application/vnd.jupyter.widget-view+json": {
       "model_id": "9a805c2ca5c8448e8113145d26eba004",
       "version_major": 2,
       "version_minor": 0
      },
      "text/plain": [
       "Canvas(toolbar=Toolbar(toolitems=[('Home', 'Reset original view', 'home', 'home'), ('Back', 'Back to previous …"
      ]
     },
     "metadata": {},
     "output_type": "display_data"
    },
    {
     "ename": "KeyError",
     "evalue": "'item'",
     "output_type": "error",
     "traceback": [
      "\u001b[1;31m---------------------------------------------------------------------------\u001b[0m",
      "\u001b[1;31mKeyError\u001b[0m                                  Traceback (most recent call last)",
      "\u001b[1;32m<ipython-input-35-266ad682d281>\u001b[0m in \u001b[0;36m<module>\u001b[1;34m\u001b[0m\n\u001b[0;32m      1\u001b[0m \u001b[1;31m# MDS of item representations over time\u001b[0m\u001b[1;33m\u001b[0m\u001b[1;33m\u001b[0m\u001b[1;33m\u001b[0m\u001b[0m\n\u001b[0;32m      2\u001b[0m \u001b[1;32mfor\u001b[0m \u001b[0mlabel\u001b[0m\u001b[1;33m,\u001b[0m \u001b[0mres\u001b[0m \u001b[1;32min\u001b[0m \u001b[0mcurr_sets\u001b[0m\u001b[1;33m.\u001b[0m\u001b[0mitems\u001b[0m\u001b[1;33m(\u001b[0m\u001b[1;33m)\u001b[0m\u001b[1;33m:\u001b[0m\u001b[1;33m\u001b[0m\u001b[1;33m\u001b[0m\u001b[0m\n\u001b[1;32m----> 3\u001b[1;33m     \u001b[0mdda\u001b[0m\u001b[1;33m.\u001b[0m\u001b[0mplot_repr_trajectories\u001b[0m\u001b[1;33m(\u001b[0m\u001b[0mres\u001b[0m\u001b[1;33m,\u001b[0m \u001b[1;34m'item'\u001b[0m\u001b[1;33m,\u001b[0m \u001b[0mdims\u001b[0m\u001b[1;33m=\u001b[0m\u001b[1;36m3\u001b[0m\u001b[1;33m,\u001b[0m \u001b[0mtitle_label\u001b[0m\u001b[1;33m=\u001b[0m\u001b[0mlabel\u001b[0m\u001b[1;33m)\u001b[0m\u001b[1;33m\u001b[0m\u001b[1;33m\u001b[0m\u001b[0m\n\u001b[0m\u001b[0;32m      4\u001b[0m \u001b[1;33m\u001b[0m\u001b[0m\n\u001b[0;32m      5\u001b[0m \u001b[0mplt\u001b[0m\u001b[1;33m.\u001b[0m\u001b[0mshow\u001b[0m\u001b[1;33m(\u001b[0m\u001b[1;33m)\u001b[0m\u001b[1;33m\u001b[0m\u001b[1;33m\u001b[0m\u001b[0m\n",
      "\u001b[1;32mD:\\neuroscience\\concept_learning_IS\\disjoint-domain\\dd_analysis.py\u001b[0m in \u001b[0;36mplot_repr_trajectories\u001b[1;34m(res, snap_type, dims, title_label)\u001b[0m\n\u001b[0;32m    211\u001b[0m     \"\"\"\n\u001b[0;32m    212\u001b[0m     \u001b[0membedding\u001b[0m \u001b[1;33m=\u001b[0m \u001b[0mMDS\u001b[0m\u001b[1;33m(\u001b[0m\u001b[0mn_components\u001b[0m\u001b[1;33m=\u001b[0m\u001b[0mdims\u001b[0m\u001b[1;33m,\u001b[0m \u001b[0mdissimilarity\u001b[0m\u001b[1;33m=\u001b[0m\u001b[1;34m'precomputed'\u001b[0m\u001b[1;33m)\u001b[0m\u001b[1;33m\u001b[0m\u001b[1;33m\u001b[0m\u001b[0m\n\u001b[1;32m--> 213\u001b[1;33m     \u001b[0mreprs_embedded\u001b[0m \u001b[1;33m=\u001b[0m \u001b[0membedding\u001b[0m\u001b[1;33m.\u001b[0m\u001b[0mfit_transform\u001b[0m\u001b[1;33m(\u001b[0m\u001b[0mres\u001b[0m\u001b[1;33m[\u001b[0m\u001b[1;34m'repr_dists'\u001b[0m\u001b[1;33m]\u001b[0m\u001b[1;33m[\u001b[0m\u001b[0msnap_type\u001b[0m\u001b[1;33m]\u001b[0m\u001b[1;33m[\u001b[0m\u001b[1;34m'all'\u001b[0m\u001b[1;33m]\u001b[0m\u001b[1;33m)\u001b[0m\u001b[1;33m\u001b[0m\u001b[1;33m\u001b[0m\u001b[0m\n\u001b[0m\u001b[0;32m    214\u001b[0m \u001b[1;33m\u001b[0m\u001b[0m\n\u001b[0;32m    215\u001b[0m     \u001b[1;31m# reshape and permute to aid plotting\u001b[0m\u001b[1;33m\u001b[0m\u001b[1;33m\u001b[0m\u001b[1;33m\u001b[0m\u001b[0m\n",
      "\u001b[1;31mKeyError\u001b[0m: 'item'"
     ]
    }
   ],
   "source": [
    "# MDS of item representations over time\n",
    "for label, res in curr_sets.items():\n",
    "    dda.plot_repr_trajectories(res, 'item', dims=3, title_label=label)\n",
    "\n",
    "plt.show()"
   ]
  },
  {
   "cell_type": "code",
   "execution_count": 81,
   "metadata": {
    "collapsed": false,
    "jupyter": {
     "outputs_hidden": false
    },
    "pycharm": {
     "name": "#%%\n"
    }
   },
   "outputs": [
    {
     "data": {
      "application/vnd.jupyter.widget-view+json": {
       "model_id": "6cc14ee2e8cf46d687c011862bb6a40f",
       "version_major": 2,
       "version_minor": 0
      },
      "text/plain": [
       "Canvas(toolbar=Toolbar(toolitems=[('Home', 'Reset original view', 'home', 'home'), ('Back', 'Back to previous …"
      ]
     },
     "metadata": {},
     "output_type": "display_data"
    },
    {
     "data": {
      "application/vnd.jupyter.widget-view+json": {
       "model_id": "fa640ab3d7b040729a0fead3912a000b",
       "version_major": 2,
       "version_minor": 0
      },
      "text/plain": [
       "Canvas(toolbar=Toolbar(toolitems=[('Home', 'Reset original view', 'home', 'home'), ('Back', 'Back to previous …"
      ]
     },
     "metadata": {},
     "output_type": "display_data"
    }
   ],
   "source": [
    "for label, res in curr_sets.items():\n",
    "    dda.plot_repr_trajectories(res, 'context', dims=2, title_label=label)\n",
    "\n",
    "plt.show()"
   ]
  },
  {
   "cell_type": "code",
   "execution_count": 48,
   "metadata": {},
   "outputs": [
    {
     "data": {
      "application/vnd.jupyter.widget-view+json": {
       "model_id": "e20b0bbca7ea4f449ed13d0e2f74bf73",
       "version_major": 2,
       "version_minor": 0
      },
      "text/plain": [
       "Canvas(toolbar=Toolbar(toolitems=[('Home', 'Reset original view', 'home', 'home'), ('Back', 'Back to previous …"
      ]
     },
     "metadata": {},
     "output_type": "display_data"
    }
   ],
   "source": [
    "import importlib\n",
    "importlib.reload(dda)\n",
    "\n",
    "fig, axs = dda.make_plot_grid(len(curr_runs), 2, ax_dims=(6, 15))\n",
    "run_num = 0\n",
    "snap_index = 5\n",
    "\n",
    "for (name, res), ax in zip(short_sets.items(), axs.ravel()):\n",
    "    dda.plot_hl_input_pattern_correlations(ax, res, run_num, snap_index, title_label=name)\n",
    "    \n",
    "fig.tight_layout()\n",
    "plt.show()"
   ]
  }
 ],
 "metadata": {
  "kernelspec": {
   "display_name": "Python 3",
   "language": "python",
   "name": "python3"
  },
  "language_info": {
   "codemirror_mode": {
    "name": "ipython",
    "version": 3
   },
   "file_extension": ".py",
   "mimetype": "text/x-python",
   "name": "python",
   "nbconvert_exporter": "python",
   "pygments_lexer": "ipython3",
   "version": "3.8.6"
  }
 },
 "nbformat": 4,
 "nbformat_minor": 4
}
