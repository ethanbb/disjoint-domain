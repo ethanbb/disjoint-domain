{
 "cells": [
  {
   "cell_type": "markdown",
   "metadata": {
    "collapsed": true,
    "pycharm": {
     "name": "#%% md\n"
    }
   },
   "source": [
    "# Rumelhart and Todd network (1993)\n",
    "\n",
    "### Ethan Blackwood\n",
    "### September 28, 2020\n",
    "\n",
    "**Goal**: Simulate the Rumelhart & Todd connectionist semantic memory network shown in Rogers & McClelland (2008)\n",
    "Figure 1, and replicate the results in Figure 3 regarding the similarity of internal item representations over time."
   ]
  },
  {
   "cell_type": "code",
   "execution_count": 1,
   "metadata": {
    "pycharm": {
     "name": "#%%\n"
    }
   },
   "outputs": [],
   "source": [
    "%matplotlib widget\n",
    "%config IPCompleter.greedy=True\n",
    "\n",
    "import itertools\n",
    "import numpy as np\n",
    "import matplotlib.pyplot as plt\n",
    "import torch\n",
    "import torch.nn as nn\n",
    "from scipy.cluster import hierarchy\n",
    "\n",
    "import ptree"
   ]
  },
  {
   "cell_type": "markdown",
   "metadata": {
    "pycharm": {
     "name": "#%% md\n"
    }
   },
   "source": [
    "First, build the tree that contains all our inputs and outputs."
   ]
  },
  {
   "cell_type": "code",
   "execution_count": 2,
   "metadata": {
    "pycharm": {
     "name": "#%%\n"
    }
   },
   "outputs": [
    {
     "name": "stdout",
     "output_type": "stream",
     "text": [
      "Items:  ['sunfish', 'daisy', 'oak', 'pine', 'rose', 'canary', 'robin', 'salmon']\n",
      "Relations:  ['can', 'is', 'has', 'ISA']\n",
      "Attributes:  ['plant', 'tree', 'grow', 'wings', 'oak', 'fly', 'pretty', 'canary', 'organism', 'swim', 'move', 'living', 'scales', 'daisy', 'pine', 'leaves', 'flower', 'sing', 'petals', 'robin', 'big', 'skin', 'yellow', 'red', 'bird', 'bark', 'feathers', 'animal', 'roots', 'sunfish', 'branches', 'rose', 'fish', 'gills', 'salmon', 'green']\n",
      "\n",
      "Some examples:\n",
      "daisy has: leaves, petals, roots\n",
      "robin can: grow, fly, move\n",
      "daisy is: pretty, living, yellow\n",
      "rose is: pretty, living, red\n"
     ]
    }
   ],
   "source": [
    "# can afford to use doubles for this\n",
    "torch.set_default_tensor_type(torch.DoubleTensor)\n",
    "\n",
    "rumeltree = ptree.from_xml('rumeltree.xml')\n",
    "\n",
    "# Convert to lists so we have a canonical order for items, relations, and attributes.\n",
    "items = list(rumeltree['items'])\n",
    "relations = list(rumeltree['relations'])\n",
    "attributes = list(rumeltree['attributes'])\n",
    "\n",
    "# Now make our inputs and outputs.\n",
    "item_vecs = torch.eye(len(items)).split(1)\n",
    "rel_vecs = torch.eye(len(relations)).split(1)\n",
    "xs = list(itertools.product(item_vecs, rel_vecs))\n",
    "\n",
    "y = torch.zeros((len(xs), len(attributes)))\n",
    "\n",
    "for kI in range(len(items)):\n",
    "    for kR in range(len(relations)):\n",
    "\n",
    "        # get attributes to associate\n",
    "        my_attrs = rumeltree['nodes'][items[kI]].get_related_attributes(relations[kR])\n",
    "        attr_inds = np.isin(attributes, list(my_attrs))\n",
    "        y[kI*len(relations) + kR, attr_inds] = 1\n",
    "            \n",
    "ys = y.split(1)\n",
    "\n",
    "# prepare for MultiLabelMarginLoss\n",
    "y_inds = torch.full((len(ys), len(attributes)), -1, dtype=torch.long)\n",
    "for i, y_vec in enumerate(ys):\n",
    "    y_ind = y_vec.nonzero(as_tuple=True)[1]\n",
    "    y_inds[i, :len(y_ind)] = y_ind\n",
    "\n",
    "y_inds = y_inds.split(1)\n",
    "\n",
    "print('Items: ', items)\n",
    "print('Relations: ', relations)\n",
    "print('Attributes: ', attributes)\n",
    "print()\n",
    "print('Some examples:')\n",
    "rng = np.random.default_rng()\n",
    "\n",
    "for k in rng.choice(len(xs), size=4, replace=False):\n",
    "    x = xs[k]\n",
    "    item_hot = x[0].numpy().squeeze().nonzero()[0]\n",
    "    item = items[item_hot[0]]\n",
    "    rel_hot = x[1].numpy().squeeze().nonzero()[0]\n",
    "    relation = relations[rel_hot[0]]\n",
    "    \n",
    "    attrs = [attributes[i] for i in y_inds[k][0] if i >= 0]\n",
    "    \n",
    "    print(f'{item} {relation}: {\", \".join(attrs) if len(attrs) > 0 else \"<nothing>\"}')\n"
   ]
  },
  {
   "cell_type": "markdown",
   "metadata": {},
   "source": [
    "Now build the network and training function."
   ]
  },
  {
   "cell_type": "code",
   "execution_count": 21,
   "metadata": {},
   "outputs": [],
   "source": [
    "class RumelNet(nn.Module):\n",
    "    def __init__(self, n_items, n_relations, n_attributes):\n",
    "        super(RumelNet, self).__init__()\n",
    "        \n",
    "        self.n_items = n_items\n",
    "        self.n_relations = n_relations\n",
    "        self.n_attributes = n_attributes\n",
    "        \n",
    "        rep_size = 8\n",
    "        hidden_size = 15\n",
    "        \n",
    "        # define layers\n",
    "        self.item_to_rep = nn.Linear(n_items, rep_size)\n",
    "        self.rep_to_hidden = nn.Linear(rep_size, hidden_size)\n",
    "        self.rel_to_hidden = nn.Linear(n_relations, hidden_size)\n",
    "        self.hidden_to_attr = nn.Linear(hidden_size, n_attributes)\n",
    "        \n",
    "        # make weights start small\n",
    "        with torch.no_grad():\n",
    "            for layer in (self.item_to_rep, self.rep_to_hidden, self.rel_to_hidden, self.hidden_to_attr):\n",
    "                layer.weight /= 100\n",
    "                layer.bias /= 100\n",
    "\n",
    "    def forward(self, x):\n",
    "        # split into item and relation\n",
    "        item, relation = x\n",
    "        \n",
    "        # flow inputs through network\n",
    "        rep = torch.sigmoid(self.item_to_rep(item))\n",
    "        hidden = torch.sigmoid(self.rep_to_hidden(rep) + self.rel_to_hidden(relation))\n",
    "        attr = torch.sigmoid(self.hidden_to_attr(hidden))\n",
    "        return attr"
   ]
  },
  {
   "cell_type": "code",
   "execution_count": 22,
   "metadata": {},
   "outputs": [],
   "source": [
    "def train_network(net, optimizer, num_epochs=200, snap_freq=20):\n",
    "    \n",
    "    n_snaps = num_epochs // snap_freq\n",
    "    n_items = net.n_items\n",
    "    n_rep = net.item_to_rep.out_features\n",
    "    \n",
    "    # Holds snapshots of input representation layer after probing with each item\n",
    "    rep_snapshots = np.ndarray((n_snaps, n_items, n_rep))\n",
    "    \n",
    "    criterion = nn.MultiLabelMarginLoss()\n",
    "    \n",
    "    for epoch in range(num_epochs):\n",
    "        # collect snapshot\n",
    "        if epoch % snap_freq == 0:\n",
    "            k_snap = epoch // snap_freq\n",
    "            \n",
    "            with torch.no_grad():\n",
    "                for k_item, item in enumerate(item_vecs):\n",
    "                    act = torch.sigmoid(net.item_to_rep(item))\n",
    "                    rep_snapshots[k_snap, k_item, :] = act\n",
    "        \n",
    "        running_loss = 0.0\n",
    "        running_accuracy = 0.0\n",
    "        \n",
    "        for ind in rng.permutation(len(xs)):\n",
    "            # train\n",
    "            optimizer.zero_grad()\n",
    "            outputs = net(xs[ind])\n",
    "            loss = criterion(outputs, y_inds[ind])\n",
    "            loss.backward()\n",
    "            optimizer.step()\n",
    "            \n",
    "            with torch.no_grad():\n",
    "                running_loss += loss.item()\n",
    "                accuracy = torch.mean(((outputs > 0.5).to(torch.double) == ys[ind]).to(torch.double))\n",
    "                running_accuracy += accuracy.item()\n",
    "            \n",
    "        print(f'Epoch {epoch} end: mean loss = {running_loss / len(xs):.3f}, mean accuracy = {running_accuracy / len(xs):.3f}')\n",
    "        \n",
    "    return rep_snapshots"
   ]
  },
  {
   "cell_type": "markdown",
   "metadata": {},
   "source": [
    "Moment of truth, time to run it"
   ]
  },
  {
   "cell_type": "code",
   "execution_count": 23,
   "metadata": {
    "scrolled": true
   },
   "outputs": [
    {
     "name": "stdout",
     "output_type": "stream",
     "text": [
      "Epoch 0 end: mean loss = 2.625, mean accuracy = 0.648\n",
      "Epoch 1 end: mean loss = 2.516, mean accuracy = 0.674\n",
      "Epoch 2 end: mean loss = 2.427, mean accuracy = 0.712\n",
      "Epoch 3 end: mean loss = 2.356, mean accuracy = 0.706\n",
      "Epoch 4 end: mean loss = 2.298, mean accuracy = 0.706\n",
      "Epoch 5 end: mean loss = 2.248, mean accuracy = 0.706\n",
      "Epoch 6 end: mean loss = 2.205, mean accuracy = 0.706\n",
      "Epoch 7 end: mean loss = 2.167, mean accuracy = 0.706\n",
      "Epoch 8 end: mean loss = 2.134, mean accuracy = 0.706\n",
      "Epoch 9 end: mean loss = 2.106, mean accuracy = 0.706\n",
      "Epoch 10 end: mean loss = 2.081, mean accuracy = 0.706\n",
      "Epoch 11 end: mean loss = 2.060, mean accuracy = 0.706\n",
      "Epoch 12 end: mean loss = 2.041, mean accuracy = 0.706\n",
      "Epoch 13 end: mean loss = 2.025, mean accuracy = 0.706\n",
      "Epoch 14 end: mean loss = 2.010, mean accuracy = 0.706\n",
      "Epoch 15 end: mean loss = 1.998, mean accuracy = 0.706\n",
      "Epoch 16 end: mean loss = 1.987, mean accuracy = 0.706\n",
      "Epoch 17 end: mean loss = 1.978, mean accuracy = 0.706\n",
      "Epoch 18 end: mean loss = 1.969, mean accuracy = 0.706\n",
      "Epoch 19 end: mean loss = 1.962, mean accuracy = 0.706\n",
      "Epoch 20 end: mean loss = 1.955, mean accuracy = 0.706\n",
      "Epoch 21 end: mean loss = 1.950, mean accuracy = 0.706\n",
      "Epoch 22 end: mean loss = 1.945, mean accuracy = 0.706\n",
      "Epoch 23 end: mean loss = 1.940, mean accuracy = 0.706\n",
      "Epoch 24 end: mean loss = 1.936, mean accuracy = 0.706\n",
      "Epoch 25 end: mean loss = 1.932, mean accuracy = 0.706\n",
      "Epoch 26 end: mean loss = 1.929, mean accuracy = 0.706\n",
      "Epoch 27 end: mean loss = 1.926, mean accuracy = 0.706\n",
      "Epoch 28 end: mean loss = 1.923, mean accuracy = 0.706\n",
      "Epoch 29 end: mean loss = 1.921, mean accuracy = 0.706\n",
      "Epoch 30 end: mean loss = 1.919, mean accuracy = 0.706\n",
      "Epoch 31 end: mean loss = 1.917, mean accuracy = 0.706\n",
      "Epoch 32 end: mean loss = 1.915, mean accuracy = 0.706\n",
      "Epoch 33 end: mean loss = 1.913, mean accuracy = 0.706\n",
      "Epoch 34 end: mean loss = 1.911, mean accuracy = 0.706\n",
      "Epoch 35 end: mean loss = 1.910, mean accuracy = 0.706\n",
      "Epoch 36 end: mean loss = 1.909, mean accuracy = 0.706\n",
      "Epoch 37 end: mean loss = 1.907, mean accuracy = 0.706\n",
      "Epoch 38 end: mean loss = 1.906, mean accuracy = 0.706\n",
      "Epoch 39 end: mean loss = 1.905, mean accuracy = 0.706\n",
      "Epoch 40 end: mean loss = 1.904, mean accuracy = 0.706\n",
      "Epoch 41 end: mean loss = 1.903, mean accuracy = 0.706\n",
      "Epoch 42 end: mean loss = 1.902, mean accuracy = 0.706\n",
      "Epoch 43 end: mean loss = 1.902, mean accuracy = 0.706\n",
      "Epoch 44 end: mean loss = 1.901, mean accuracy = 0.706\n",
      "Epoch 45 end: mean loss = 1.900, mean accuracy = 0.706\n",
      "Epoch 46 end: mean loss = 1.899, mean accuracy = 0.706\n",
      "Epoch 47 end: mean loss = 1.899, mean accuracy = 0.706\n",
      "Epoch 48 end: mean loss = 1.898, mean accuracy = 0.706\n",
      "Epoch 49 end: mean loss = 1.897, mean accuracy = 0.706\n",
      "Epoch 50 end: mean loss = 1.897, mean accuracy = 0.706\n",
      "Epoch 51 end: mean loss = 1.896, mean accuracy = 0.706\n",
      "Epoch 52 end: mean loss = 1.896, mean accuracy = 0.706\n",
      "Epoch 53 end: mean loss = 1.895, mean accuracy = 0.706\n",
      "Epoch 54 end: mean loss = 1.895, mean accuracy = 0.706\n",
      "Epoch 55 end: mean loss = 1.894, mean accuracy = 0.706\n",
      "Epoch 56 end: mean loss = 1.894, mean accuracy = 0.706\n",
      "Epoch 57 end: mean loss = 1.894, mean accuracy = 0.706\n",
      "Epoch 58 end: mean loss = 1.893, mean accuracy = 0.706\n",
      "Epoch 59 end: mean loss = 1.893, mean accuracy = 0.706\n",
      "Epoch 60 end: mean loss = 1.893, mean accuracy = 0.706\n",
      "Epoch 61 end: mean loss = 1.892, mean accuracy = 0.706\n",
      "Epoch 62 end: mean loss = 1.892, mean accuracy = 0.706\n",
      "Epoch 63 end: mean loss = 1.892, mean accuracy = 0.706\n",
      "Epoch 64 end: mean loss = 1.891, mean accuracy = 0.706\n",
      "Epoch 65 end: mean loss = 1.891, mean accuracy = 0.706\n",
      "Epoch 66 end: mean loss = 1.891, mean accuracy = 0.706\n",
      "Epoch 67 end: mean loss = 1.890, mean accuracy = 0.706\n",
      "Epoch 68 end: mean loss = 1.890, mean accuracy = 0.706\n",
      "Epoch 69 end: mean loss = 1.890, mean accuracy = 0.706\n",
      "Epoch 70 end: mean loss = 1.890, mean accuracy = 0.706\n",
      "Epoch 71 end: mean loss = 1.889, mean accuracy = 0.706\n",
      "Epoch 72 end: mean loss = 1.889, mean accuracy = 0.706\n",
      "Epoch 73 end: mean loss = 1.889, mean accuracy = 0.706\n",
      "Epoch 74 end: mean loss = 1.889, mean accuracy = 0.706\n",
      "Epoch 75 end: mean loss = 1.889, mean accuracy = 0.706\n",
      "Epoch 76 end: mean loss = 1.888, mean accuracy = 0.706\n",
      "Epoch 77 end: mean loss = 1.888, mean accuracy = 0.706\n",
      "Epoch 78 end: mean loss = 1.888, mean accuracy = 0.706\n",
      "Epoch 79 end: mean loss = 1.888, mean accuracy = 0.706\n",
      "Epoch 80 end: mean loss = 1.888, mean accuracy = 0.706\n",
      "Epoch 81 end: mean loss = 1.888, mean accuracy = 0.706\n",
      "Epoch 82 end: mean loss = 1.887, mean accuracy = 0.706\n",
      "Epoch 83 end: mean loss = 1.887, mean accuracy = 0.706\n",
      "Epoch 84 end: mean loss = 1.887, mean accuracy = 0.706\n",
      "Epoch 85 end: mean loss = 1.887, mean accuracy = 0.706\n",
      "Epoch 86 end: mean loss = 1.887, mean accuracy = 0.706\n",
      "Epoch 87 end: mean loss = 1.887, mean accuracy = 0.706\n",
      "Epoch 88 end: mean loss = 1.887, mean accuracy = 0.706\n",
      "Epoch 89 end: mean loss = 1.886, mean accuracy = 0.706\n",
      "Epoch 90 end: mean loss = 1.886, mean accuracy = 0.706\n",
      "Epoch 91 end: mean loss = 1.886, mean accuracy = 0.706\n",
      "Epoch 92 end: mean loss = 1.886, mean accuracy = 0.706\n",
      "Epoch 93 end: mean loss = 1.886, mean accuracy = 0.706\n",
      "Epoch 94 end: mean loss = 1.886, mean accuracy = 0.706\n",
      "Epoch 95 end: mean loss = 1.886, mean accuracy = 0.706\n",
      "Epoch 96 end: mean loss = 1.886, mean accuracy = 0.706\n",
      "Epoch 97 end: mean loss = 1.885, mean accuracy = 0.706\n",
      "Epoch 98 end: mean loss = 1.885, mean accuracy = 0.706\n",
      "Epoch 99 end: mean loss = 1.885, mean accuracy = 0.706\n",
      "Epoch 100 end: mean loss = 1.885, mean accuracy = 0.706\n",
      "Epoch 101 end: mean loss = 1.885, mean accuracy = 0.706\n",
      "Epoch 102 end: mean loss = 1.885, mean accuracy = 0.706\n",
      "Epoch 103 end: mean loss = 1.885, mean accuracy = 0.706\n",
      "Epoch 104 end: mean loss = 1.885, mean accuracy = 0.706\n",
      "Epoch 105 end: mean loss = 1.885, mean accuracy = 0.706\n",
      "Epoch 106 end: mean loss = 1.885, mean accuracy = 0.706\n",
      "Epoch 107 end: mean loss = 1.884, mean accuracy = 0.706\n",
      "Epoch 108 end: mean loss = 1.884, mean accuracy = 0.706\n",
      "Epoch 109 end: mean loss = 1.884, mean accuracy = 0.706\n",
      "Epoch 110 end: mean loss = 1.884, mean accuracy = 0.706\n",
      "Epoch 111 end: mean loss = 1.884, mean accuracy = 0.706\n",
      "Epoch 112 end: mean loss = 1.884, mean accuracy = 0.706\n",
      "Epoch 113 end: mean loss = 1.884, mean accuracy = 0.706\n",
      "Epoch 114 end: mean loss = 1.884, mean accuracy = 0.706\n",
      "Epoch 115 end: mean loss = 1.884, mean accuracy = 0.706\n",
      "Epoch 116 end: mean loss = 1.884, mean accuracy = 0.706\n",
      "Epoch 117 end: mean loss = 1.884, mean accuracy = 0.706\n",
      "Epoch 118 end: mean loss = 1.884, mean accuracy = 0.706\n",
      "Epoch 119 end: mean loss = 1.884, mean accuracy = 0.706\n",
      "Epoch 120 end: mean loss = 1.884, mean accuracy = 0.706\n",
      "Epoch 121 end: mean loss = 1.883, mean accuracy = 0.706\n",
      "Epoch 122 end: mean loss = 1.883, mean accuracy = 0.706\n",
      "Epoch 123 end: mean loss = 1.883, mean accuracy = 0.706\n",
      "Epoch 124 end: mean loss = 1.883, mean accuracy = 0.706\n",
      "Epoch 125 end: mean loss = 1.883, mean accuracy = 0.706\n",
      "Epoch 126 end: mean loss = 1.883, mean accuracy = 0.706\n",
      "Epoch 127 end: mean loss = 1.883, mean accuracy = 0.706\n",
      "Epoch 128 end: mean loss = 1.883, mean accuracy = 0.706\n",
      "Epoch 129 end: mean loss = 1.883, mean accuracy = 0.706\n",
      "Epoch 130 end: mean loss = 1.883, mean accuracy = 0.706\n",
      "Epoch 131 end: mean loss = 1.883, mean accuracy = 0.706\n",
      "Epoch 132 end: mean loss = 1.883, mean accuracy = 0.706\n",
      "Epoch 133 end: mean loss = 1.883, mean accuracy = 0.706\n",
      "Epoch 134 end: mean loss = 1.883, mean accuracy = 0.706\n",
      "Epoch 135 end: mean loss = 1.883, mean accuracy = 0.706\n",
      "Epoch 136 end: mean loss = 1.883, mean accuracy = 0.706\n",
      "Epoch 137 end: mean loss = 1.883, mean accuracy = 0.706\n",
      "Epoch 138 end: mean loss = 1.883, mean accuracy = 0.706\n",
      "Epoch 139 end: mean loss = 1.882, mean accuracy = 0.706\n",
      "Epoch 140 end: mean loss = 1.882, mean accuracy = 0.706\n",
      "Epoch 141 end: mean loss = 1.882, mean accuracy = 0.706\n",
      "Epoch 142 end: mean loss = 1.882, mean accuracy = 0.706\n",
      "Epoch 143 end: mean loss = 1.882, mean accuracy = 0.706\n",
      "Epoch 144 end: mean loss = 1.882, mean accuracy = 0.706\n",
      "Epoch 145 end: mean loss = 1.882, mean accuracy = 0.706\n",
      "Epoch 146 end: mean loss = 1.882, mean accuracy = 0.706\n",
      "Epoch 147 end: mean loss = 1.882, mean accuracy = 0.706\n",
      "Epoch 148 end: mean loss = 1.882, mean accuracy = 0.706\n",
      "Epoch 149 end: mean loss = 1.882, mean accuracy = 0.706\n",
      "Epoch 150 end: mean loss = 1.882, mean accuracy = 0.706\n",
      "Epoch 151 end: mean loss = 1.882, mean accuracy = 0.706\n",
      "Epoch 152 end: mean loss = 1.882, mean accuracy = 0.706\n",
      "Epoch 153 end: mean loss = 1.882, mean accuracy = 0.706\n",
      "Epoch 154 end: mean loss = 1.882, mean accuracy = 0.706\n"
     ]
    },
    {
     "name": "stdout",
     "output_type": "stream",
     "text": [
      "Epoch 155 end: mean loss = 1.882, mean accuracy = 0.706\n",
      "Epoch 156 end: mean loss = 1.882, mean accuracy = 0.706\n",
      "Epoch 157 end: mean loss = 1.882, mean accuracy = 0.706\n",
      "Epoch 158 end: mean loss = 1.882, mean accuracy = 0.706\n",
      "Epoch 159 end: mean loss = 1.882, mean accuracy = 0.706\n",
      "Epoch 160 end: mean loss = 1.882, mean accuracy = 0.706\n",
      "Epoch 161 end: mean loss = 1.882, mean accuracy = 0.706\n",
      "Epoch 162 end: mean loss = 1.882, mean accuracy = 0.706\n",
      "Epoch 163 end: mean loss = 1.882, mean accuracy = 0.706\n",
      "Epoch 164 end: mean loss = 1.881, mean accuracy = 0.706\n",
      "Epoch 165 end: mean loss = 1.881, mean accuracy = 0.706\n",
      "Epoch 166 end: mean loss = 1.881, mean accuracy = 0.706\n",
      "Epoch 167 end: mean loss = 1.881, mean accuracy = 0.706\n",
      "Epoch 168 end: mean loss = 1.881, mean accuracy = 0.706\n",
      "Epoch 169 end: mean loss = 1.881, mean accuracy = 0.706\n",
      "Epoch 170 end: mean loss = 1.881, mean accuracy = 0.706\n",
      "Epoch 171 end: mean loss = 1.881, mean accuracy = 0.706\n",
      "Epoch 172 end: mean loss = 1.881, mean accuracy = 0.706\n",
      "Epoch 173 end: mean loss = 1.881, mean accuracy = 0.706\n",
      "Epoch 174 end: mean loss = 1.881, mean accuracy = 0.706\n",
      "Epoch 175 end: mean loss = 1.881, mean accuracy = 0.706\n",
      "Epoch 176 end: mean loss = 1.881, mean accuracy = 0.706\n",
      "Epoch 177 end: mean loss = 1.881, mean accuracy = 0.706\n",
      "Epoch 178 end: mean loss = 1.881, mean accuracy = 0.706\n",
      "Epoch 179 end: mean loss = 1.881, mean accuracy = 0.706\n",
      "Epoch 180 end: mean loss = 1.881, mean accuracy = 0.706\n",
      "Epoch 181 end: mean loss = 1.881, mean accuracy = 0.706\n",
      "Epoch 182 end: mean loss = 1.881, mean accuracy = 0.706\n",
      "Epoch 183 end: mean loss = 1.881, mean accuracy = 0.706\n",
      "Epoch 184 end: mean loss = 1.881, mean accuracy = 0.706\n",
      "Epoch 185 end: mean loss = 1.881, mean accuracy = 0.706\n",
      "Epoch 186 end: mean loss = 1.881, mean accuracy = 0.706\n",
      "Epoch 187 end: mean loss = 1.881, mean accuracy = 0.706\n",
      "Epoch 188 end: mean loss = 1.881, mean accuracy = 0.706\n",
      "Epoch 189 end: mean loss = 1.881, mean accuracy = 0.706\n",
      "Epoch 190 end: mean loss = 1.881, mean accuracy = 0.706\n",
      "Epoch 191 end: mean loss = 1.881, mean accuracy = 0.706\n",
      "Epoch 192 end: mean loss = 1.881, mean accuracy = 0.706\n",
      "Epoch 193 end: mean loss = 1.881, mean accuracy = 0.706\n",
      "Epoch 194 end: mean loss = 1.881, mean accuracy = 0.706\n",
      "Epoch 195 end: mean loss = 1.881, mean accuracy = 0.706\n",
      "Epoch 196 end: mean loss = 1.881, mean accuracy = 0.706\n",
      "Epoch 197 end: mean loss = 1.881, mean accuracy = 0.706\n",
      "Epoch 198 end: mean loss = 1.881, mean accuracy = 0.706\n",
      "Epoch 199 end: mean loss = 1.881, mean accuracy = 0.706\n"
     ]
    }
   ],
   "source": [
    "net = RumelNet(len(items), len(relations), len(attributes))\n",
    "optimizer = torch.optim.SGD(net.parameters(), lr=0.1)\n",
    "\n",
    "rep_snapshots = train_network(net, optimizer)"
   ]
  },
  {
   "cell_type": "code",
   "execution_count": 24,
   "metadata": {},
   "outputs": [
    {
     "data": {
      "application/vnd.jupyter.widget-view+json": {
       "model_id": "3e90593948c44646a2b4b83c763ee267",
       "version_major": 2,
       "version_minor": 0
      },
      "text/plain": [
       "Canvas(toolbar=Toolbar(toolitems=[('Home', 'Reset original view', 'home', 'home'), ('Back', 'Back to previous …"
      ]
     },
     "metadata": {},
     "output_type": "display_data"
    }
   ],
   "source": [
    "z = hierarchy.linkage(rep_snapshots[-1], method='median')\n",
    "plt.figure()\n",
    "hierarchy.dendrogram(z, labels=items)\n",
    "plt.show()"
   ]
  },
  {
   "cell_type": "code",
   "execution_count": 25,
   "metadata": {},
   "outputs": [
    {
     "data": {
      "application/vnd.jupyter.widget-view+json": {
       "model_id": "fe23e10b34e04ccfb104df8c1df8c99f",
       "version_major": 2,
       "version_minor": 0
      },
      "text/plain": [
       "Canvas(toolbar=Toolbar(toolitems=[('Home', 'Reset original view', 'home', 'home'), ('Back', 'Back to previous …"
      ]
     },
     "metadata": {},
     "output_type": "display_data"
    }
   ],
   "source": [
    "# Test trained net\n",
    "with torch.no_grad():\n",
    "    ind = 31\n",
    "    \n",
    "    item_vec, rel_vec = [t.squeeze().numpy() == 1 for t in xs[ind]]\n",
    "    item = np.array(items)[item_vec][0]\n",
    "    relation = np.array(relations)[rel_vec][0]\n",
    "    \n",
    "    fig, ax = plt.subplots(figsize=(8, 15))\n",
    "    h1 = ax.barh(range(len(attributes)), net(xs[ind]).squeeze().numpy(),\n",
    "                 align='edge', height=0.4, tick_label=attributes)\n",
    "    h2 = ax.barh(range(len(attributes)), ys[ind].squeeze().numpy(),\n",
    "                 align='edge', height=-0.4, tick_label=attributes)\n",
    "    ax.legend([h1, h2], ['Actual', 'Expected'])\n",
    "    ax.set_title(f'{item} {relation}...', size='x-large')\n",
    "    fig.show()"
   ]
  }
 ],
 "metadata": {
  "@webio": {
   "lastCommId": null,
   "lastKernelId": null
  },
  "kernelspec": {
   "display_name": "Python 3",
   "language": "python",
   "name": "python3"
  },
  "language_info": {
   "codemirror_mode": {
    "name": "ipython",
    "version": 3
   },
   "file_extension": ".py",
   "mimetype": "text/x-python",
   "name": "python",
   "nbconvert_exporter": "python",
   "pygments_lexer": "ipython3",
   "version": "3.8.5"
  }
 },
 "nbformat": 4,
 "nbformat_minor": 1
}
