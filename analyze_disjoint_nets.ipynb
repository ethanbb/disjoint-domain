{
 "cells": [
  {
   "cell_type": "code",
   "execution_count": 96,
   "metadata": {
    "collapsed": false,
    "jupyter": {
     "outputs_hidden": false
    },
    "pycharm": {
     "name": "#%%\n"
    }
   },
   "outputs": [],
   "source": [
    "%matplotlib widget\n",
    "\n",
    "import matplotlib.pyplot as plt\n",
    "import matplotlib.colors as mcolors\n",
    "import importlib\n",
    "\n",
    "try:\n",
    "    importlib.reload(dda)\n",
    "except NameError:\n",
    "    import dd_analysis as dda"
   ]
  },
  {
   "cell_type": "code",
   "execution_count": 3,
   "metadata": {
    "collapsed": false,
    "jupyter": {
     "outputs_hidden": false
    },
    "pycharm": {
     "name": "#%%\n"
    }
   },
   "outputs": [
    {
     "name": "stderr",
     "output_type": "stream",
     "text": [
      "C:\\Users\\ethan\\anaconda3\\envs\\cuda11\\lib\\site-packages\\scipy\\stats\\_distn_infrastructure.py:2023: RuntimeWarning: invalid value encountered in multiply\n",
      "  lower_bound = _a * scale + loc\n",
      "C:\\Users\\ethan\\anaconda3\\envs\\cuda11\\lib\\site-packages\\scipy\\stats\\_distn_infrastructure.py:2024: RuntimeWarning: invalid value encountered in multiply\n",
      "  upper_bound = _b * scale + loc\n"
     ]
    }
   ],
   "source": [
    "# Load data from previous runs\n",
    "res_paths = {\n",
    "    'Original': 'data/dd_res_2020-12-03_01-31-32.npz',\n",
    "    'Merged repr': 'data/merged_repr_dd_res_2020-12-04_05-15-35.npz',\n",
    "#    'Small item repr': 'data/small_item_repr_dd_res_2020-11-24_18-48-00.npz',\n",
    "#    'More compressed': 'data/all_ratios_0.5_dd_res_2020-11-24_21-17-07.npz',\n",
    "#    'Half-size HL': 'data/half_hidden_longer_dd_res_2020-11-25_01-06-37.npz',\n",
    "    'No item repr': 'data/no_item_repr_reallocate_dd_res_2020-12-04_06-30-32.npz',\n",
    "    'No context repr': 'data/no_ctx_repr_reallocate_dd_res_2020-12-04_07-48-18.npz',\n",
    "    'No repr': 'data/no_repr_reallocate_dd_res_2020-12-03_03-24-49.npz',\n",
    "#     'Short original': 'data/short_save_params_dd_res_2020-11-26_11-44-16.npz',\n",
    "#     'Short no item repr': 'data/short_save_params_no_item_repr_dd_res_2020-11-26_11-58-59.npz',\n",
    "#     'Short no context repr': 'data/short_save_params_no_ctx_repr_dd_res_2020-11-26_12-05-47.npz'\n",
    "}\n",
    "\n",
    "res_data = {name: dda.get_result_means(path) for name, path in res_paths.items()}"
   ]
  },
  {
   "cell_type": "code",
   "execution_count": 4,
   "metadata": {
    "collapsed": false,
    "jupyter": {
     "outputs_hidden": false
    },
    "pycharm": {
     "name": "#%%\n"
    }
   },
   "outputs": [],
   "source": [
    "# Get ready to look at some particular runs\n",
    "curr_runs = ['Original', 'Merged repr', 'No item repr', 'No context repr', 'No repr']\n",
    "curr_sets = {name: data for name, data in res_data.items() if name in curr_runs}\n",
    "n_curr = len(curr_runs)\n",
    "\n",
    "# short_runs = ['Short original', 'Short no item repr', 'Short no context repr']\n",
    "# short_sets = {name: data for name, data in res_data.items() if name in short_runs}\n",
    "\n",
    "plt.close('all')"
   ]
  },
  {
   "cell_type": "code",
   "execution_count": 19,
   "metadata": {
    "pycharm": {
     "name": "#%%\n"
    }
   },
   "outputs": [
    {
     "data": {
      "application/vnd.jupyter.widget-view+json": {
       "model_id": "a7305ad5cdfa416db61b105d55abb30d",
       "version_major": 2,
       "version_minor": 0
      },
      "text/plain": [
       "Canvas(toolbar=Toolbar(toolitems=[('Home', 'Reset original view', 'home', 'home'), ('Back', 'Back to previous …"
      ]
     },
     "metadata": {},
     "output_type": "display_data"
    }
   ],
   "source": [
    "# Plot loss, accuracy, and test accuracy\n",
    "fig, axs = dda.make_plot_grid(3, 1, ax_dims=(7, 3), ravel=True)\n",
    "\n",
    "for (label, res), col in zip(curr_sets.items(), mcolors.TABLEAU_COLORS):\n",
    "    dda.plot_report(axs[0], res, 'loss', label=label)\n",
    "    dda.plot_report(axs[1], res, 'weighted_acc', label=label)\n",
    "    dda.plot_report(axs[2], res, 'test_weighted_acc', label=label)\n",
    "\n",
    "for ax in axs:\n",
    "    ax.legend()\n",
    "\n",
    "fig.tight_layout()\n",
    "plt.show()"
   ]
  },
  {
   "cell_type": "code",
   "execution_count": 20,
   "metadata": {
    "collapsed": false,
    "jupyter": {
     "outputs_hidden": false
    },
    "pycharm": {
     "name": "#%%\n"
    }
   },
   "outputs": [
    {
     "data": {
      "application/vnd.jupyter.widget-view+json": {
       "model_id": "4645de39a3194edf806b7041e1241881",
       "version_major": 2,
       "version_minor": 0
      },
      "text/plain": [
       "Canvas(toolbar=Toolbar(toolitems=[('Home', 'Reset original view', 'home', 'home'), ('Back', 'Back to previous …"
      ]
     },
     "metadata": {},
     "output_type": "display_data"
    }
   ],
   "source": [
    "# Item RSA matrices\n",
    "inds_to_plot = [0, 1, 4, 11, 12, 30, 50, -1]\n",
    "fig, axss = dda.auto_subplots(len(inds_to_plot), n_curr, ax_dims=(3, 3))\n",
    "fig.suptitle('Mean RSA for items (hidden layer)')\n",
    "\n",
    "for ind, axs in zip(inds_to_plot, axss):\n",
    "    for (label, res), ax in zip(curr_sets.items(), axs):\n",
    "        dda.plot_rsa(ax, res, 'item_hidden', ind, title_addon=label)#, item_order='group-outer')\n",
    "\n",
    "fig.tight_layout()\n",
    "plt.show()"
   ]
  },
  {
   "cell_type": "code",
   "execution_count": 15,
   "metadata": {
    "collapsed": false,
    "jupyter": {
     "outputs_hidden": false
    },
    "pycharm": {
     "name": "#%%\n"
    }
   },
   "outputs": [
    {
     "data": {
      "application/vnd.jupyter.widget-view+json": {
       "model_id": "52639feeb1ae4e5ea3b8a5bdabf111b2",
       "version_major": 2,
       "version_minor": 0
      },
      "text/plain": [
       "Canvas(toolbar=Toolbar(toolitems=[('Home', 'Reset original view', 'home', 'home'), ('Back', 'Back to previous …"
      ]
     },
     "metadata": {},
     "output_type": "display_data"
    }
   ],
   "source": [
    "# Corresponding dendrograms\n",
    "fig, axss = dda.auto_subplots(len(inds_to_plot), n_curr, ax_dims=(4, 3))\n",
    "fig.suptitle('Item representation similarity')\n",
    "\n",
    "for ind, axs in zip(inds_to_plot, axss):\n",
    "    for (label, res), ax in zip(curr_sets.items(), axs):\n",
    "        dda.plot_repr_dendrogram(ax, res, 'item_hidden', ind, title_addon=label)\n",
    "\n",
    "fig.tight_layout()\n",
    "plt.show()"
   ]
  },
  {
   "cell_type": "code",
   "execution_count": 79,
   "metadata": {},
   "outputs": [
    {
     "data": {
      "application/vnd.jupyter.widget-view+json": {
       "model_id": "936fdb8003eb4baba83c272c96e7f694",
       "version_major": 2,
       "version_minor": 0
      },
      "text/plain": [
       "Canvas(toolbar=Toolbar(toolitems=[('Home', 'Reset original view', 'home', 'home'), ('Back', 'Back to previous …"
      ]
     },
     "metadata": {},
     "output_type": "display_data"
    }
   ],
   "source": [
    "# Look at RSA projections onto group, domain, and item models\n",
    "# First plot the models\n",
    "item_models = dda.make_ortho_item_rsa_models(**next(iter(curr_sets.values()))['net_params'])\n",
    "\n",
    "fig, axs = dda.auto_subplots(2, (len(item_models)+1)//2, ax_dims=(3.4, 3.4))\n",
    "for ax, (mtype, model) in zip(axs.ravel(), item_models.items()):\n",
    "    dda.plot_rsa_model(ax, model, input_type='item')\n",
    "    for label in ax.get_xticklabels() + ax.get_yticklabels():\n",
    "        label.set_fontsize('x-small') \n",
    "    ax.set_title(mtype + ' model RDM')\n",
    "    \n",
    "fig.tight_layout()\n",
    "plt.show()"
   ]
  },
  {
   "cell_type": "code",
   "execution_count": 87,
   "metadata": {},
   "outputs": [
    {
     "data": {
      "application/vnd.jupyter.widget-view+json": {
       "model_id": "9125d3e08872490e813f365d465b21f5",
       "version_major": 2,
       "version_minor": 0
      },
      "text/plain": [
       "Canvas(toolbar=Toolbar(toolitems=[('Home', 'Reset original view', 'home', 'home'), ('Back', 'Back to previous …"
      ]
     },
     "metadata": {},
     "output_type": "display_data"
    }
   ],
   "source": [
    "# Item hidden layer projections\n",
    "fig, axs = dda.make_plot_grid(len(item_models), 1, ax_dims=(9, 3), ravel=True)\n",
    "\n",
    "snap_type = 'item_hidden'\n",
    "\n",
    "for (label, res), col in zip(curr_sets.items(), mcolors.TABLEAU_COLORS):\n",
    "    dda.plot_rdm_projections(res, snap_type, axs, color=col, label=label, normalize=True)\n",
    "    \n",
    "for ax in axs:\n",
    "    dda.outside_legend(ax)\n",
    "\n",
    "fig.tight_layout()\n",
    "plt.show()"
   ]
  },
  {
   "cell_type": "code",
   "execution_count": 88,
   "metadata": {},
   "outputs": [
    {
     "data": {
      "application/vnd.jupyter.widget-view+json": {
       "model_id": "38a3dbd333fb4176a339db27a522006b",
       "version_major": 2,
       "version_minor": 0
      },
      "text/plain": [
       "Canvas(toolbar=Toolbar(toolitems=[('Home', 'Reset original view', 'home', 'home'), ('Back', 'Back to previous …"
      ]
     },
     "metadata": {},
     "output_type": "display_data"
    }
   ],
   "source": [
    "# Item representation layer projections\n",
    "fig, axs = dda.make_plot_grid(len(item_models), 1, ax_dims=(9, 3), ravel=True)\n",
    "\n",
    "snap_type = 'item'\n",
    "\n",
    "for (label, res), col in zip(curr_sets.items(), mcolors.TABLEAU_COLORS):\n",
    "    # only plot if we actually have an item representation layer\n",
    "    if 'item' in res['repr_dists']:\n",
    "        dda.plot_rdm_projections(res, snap_type, axs, color=col, label=label, normalize=True)\n",
    "    \n",
    "for ax in axs:\n",
    "    dda.outside_legend(ax)\n",
    "\n",
    "fig.tight_layout()\n",
    "plt.show()"
   ]
  },
  {
   "cell_type": "code",
   "execution_count": 89,
   "metadata": {},
   "outputs": [
    {
     "data": {
      "application/vnd.jupyter.widget-view+json": {
       "model_id": "de6ade47c7d043679cfcc6c4beb97da4",
       "version_major": 2,
       "version_minor": 0
      },
      "text/plain": [
       "Canvas(toolbar=Toolbar(toolitems=[('Home', 'Reset original view', 'home', 'home'), ('Back', 'Back to previous …"
      ]
     },
     "metadata": {},
     "output_type": "display_data"
    }
   ],
   "source": [
    "# Context hidden layer projections\n",
    "# First plot models\n",
    "ctx_models = dda.make_ortho_context_rsa_models(**next(iter(curr_sets.values()))['net_params'])\n",
    "\n",
    "fig, axs = dda.auto_subplots(1, len(ctx_models), ax_dims=(3.4, 3.4))\n",
    "for ax, (mtype, model) in zip(axs.ravel(), ctx_models.items()):\n",
    "    dda.plot_rsa_model(ax, model, input_type='context')\n",
    "    for label in ax.get_xticklabels() + ax.get_yticklabels():\n",
    "        label.set_fontsize('x-small') \n",
    "    ax.set_title(mtype + ' model RDM')\n",
    "    \n",
    "fig.tight_layout()\n",
    "plt.show()"
   ]
  },
  {
   "cell_type": "code",
   "execution_count": 90,
   "metadata": {},
   "outputs": [
    {
     "data": {
      "application/vnd.jupyter.widget-view+json": {
       "model_id": "1a6b516e31f944219b98365d0961fdc0",
       "version_major": 2,
       "version_minor": 0
      },
      "text/plain": [
       "Canvas(toolbar=Toolbar(toolitems=[('Home', 'Reset original view', 'home', 'home'), ('Back', 'Back to previous …"
      ]
     },
     "metadata": {},
     "output_type": "display_data"
    }
   ],
   "source": [
    "fig, axs = dda.make_plot_grid(2, 1, ax_dims=(9, 3), ravel=True)\n",
    "\n",
    "snap_type = 'context_hidden'\n",
    "\n",
    "for (label, res), col in zip(curr_sets.items(), mcolors.TABLEAU_COLORS):\n",
    "    dda.plot_rdm_projections(res, snap_type, axs, color=col, label=label)\n",
    "    \n",
    "for ax in axs:\n",
    "    dda.outside_legend(ax)\n",
    "\n",
    "fig.tight_layout()\n",
    "plt.show()"
   ]
  },
  {
   "cell_type": "code",
   "execution_count": 91,
   "metadata": {},
   "outputs": [
    {
     "data": {
      "application/vnd.jupyter.widget-view+json": {
       "model_id": "035ffe3f30364d43aa8de8e331ef199a",
       "version_major": 2,
       "version_minor": 0
      },
      "text/plain": [
       "Canvas(toolbar=Toolbar(toolitems=[('Home', 'Reset original view', 'home', 'home'), ('Back', 'Back to previous …"
      ]
     },
     "metadata": {},
     "output_type": "display_data"
    }
   ],
   "source": [
    "# Context representation layer projections\n",
    "fig, axs = dda.make_plot_grid(2, 1, ax_dims=(9, 3), ravel=True)\n",
    "\n",
    "snap_type = 'context'\n",
    "\n",
    "for (label, res), col in zip(curr_sets.items(), mcolors.TABLEAU_COLORS):\n",
    "    # only plot if we actually have a context representation layer\n",
    "    if 'context' in res['repr_dists']:\n",
    "        dda.plot_rdm_projections(res, snap_type, axs, color=col, label=label)\n",
    "    \n",
    "for ax in axs:\n",
    "    dda.outside_legend(ax)\n",
    "\n",
    "fig.tight_layout()\n",
    "plt.show()"
   ]
  },
  {
   "cell_type": "code",
   "execution_count": 98,
   "metadata": {},
   "outputs": [
    {
     "data": {
      "application/vnd.jupyter.widget-view+json": {
       "model_id": "421951a2d05542b3bf40e7038aac325b",
       "version_major": 2,
       "version_minor": 0
      },
      "text/plain": [
       "Canvas(toolbar=Toolbar(toolitems=[('Home', 'Reset original view', 'home', 'home'), ('Back', 'Back to previous …"
      ]
     },
     "metadata": {},
     "output_type": "display_data"
    }
   ],
   "source": [
    "# All layers item projection\n",
    "fig, axs = dda.make_plot_grid(4, 1, ax_dims=(9, 3), ravel=True)\n",
    "\n",
    "snap_type = 'item_full'\n",
    "\n",
    "for (label, res), col in zip(curr_sets.items(), mcolors.TABLEAU_COLORS):\n",
    "    dda.plot_rdm_projections(res, snap_type, axs, color=col, label=label, normalize=True)\n",
    "    \n",
    "for ax in axs:\n",
    "    dda.outside_legend(ax)\n",
    "\n",
    "fig.tight_layout()\n",
    "plt.show()"
   ]
  },
  {
   "cell_type": "code",
   "execution_count": 99,
   "metadata": {},
   "outputs": [
    {
     "data": {
      "application/vnd.jupyter.widget-view+json": {
       "model_id": "9524c07569b3420db6ae4ab09de7a1e0",
       "version_major": 2,
       "version_minor": 0
      },
      "text/plain": [
       "Canvas(toolbar=Toolbar(toolitems=[('Home', 'Reset original view', 'home', 'home'), ('Back', 'Back to previous …"
      ]
     },
     "metadata": {},
     "output_type": "display_data"
    }
   ],
   "source": [
    "# All layers context projection\n",
    "fig, axs = dda.make_plot_grid(2, 1, ax_dims=(9, 3), ravel=True)\n",
    "\n",
    "snap_type = 'context_full'\n",
    "\n",
    "for (label, res), col in zip(curr_sets.items(), mcolors.TABLEAU_COLORS):\n",
    "    dda.plot_rdm_projections(res, snap_type, axs, color=col, label=label)\n",
    "    \n",
    "for ax in axs:\n",
    "    dda.outside_legend(ax)\n",
    "\n",
    "fig.tight_layout()\n",
    "plt.show()"
   ]
  },
  {
   "cell_type": "code",
   "execution_count": 100,
   "metadata": {},
   "outputs": [],
   "source": [
    "# Fit linear models\n",
    "reg_data = dda.make_dict_for_regression(curr_sets.values())"
   ]
  },
  {
   "cell_type": "code",
   "execution_count": 94,
   "metadata": {},
   "outputs": [
    {
     "name": "stdout",
     "output_type": "stream",
     "text": [
      "                            OLS Regression Results                            \n",
      "==============================================================================\n",
      "Dep. Variable:      test_weighted_acc   R-squared:                       0.622\n",
      "Model:                            OLS   Adj. R-squared:                  0.622\n",
      "Method:                 Least Squares   F-statistic:                     5971.\n",
      "Date:                Tue, 08 Dec 2020   Prob (F-statistic):               0.00\n",
      "Time:                        17:46:18   Log-Likelihood:                 21863.\n",
      "No. Observations:               18180   AIC:                        -4.371e+04\n",
      "Df Residuals:                   18174   BIC:                        -4.367e+04\n",
      "Df Model:                           5                                         \n",
      "Covariance Type:            nonrobust                                         \n",
      "==============================================================================================================================\n",
      "                                                                 coef    std err          t      P>|t|      [0.025      0.975]\n",
      "------------------------------------------------------------------------------------------------------------------------------\n",
      "Intercept                                                      0.4602      0.002    275.500      0.000       0.457       0.463\n",
      "ctx_same_vs_different_domain                                   0.0067      0.000     27.872      0.000       0.006       0.007\n",
      "item_attribute_similarity                                     -0.0074      0.000    -34.945      0.000      -0.008      -0.007\n",
      "item_same_vs_different_domain                                  0.0088      0.000     42.185      0.000       0.008       0.009\n",
      "ctx_same_vs_different_domain:item_attribute_similarity         0.0034   4.14e-05     82.683      0.000       0.003       0.004\n",
      "ctx_same_vs_different_domain:item_same_vs_different_domain    -0.0027   5.23e-05    -51.654      0.000      -0.003      -0.003\n",
      "==============================================================================\n",
      "Omnibus:                      284.949   Durbin-Watson:                   0.075\n",
      "Prob(Omnibus):                  0.000   Jarque-Bera (JB):              342.126\n",
      "Skew:                           0.245   Prob(JB):                     5.11e-75\n",
      "Kurtosis:                       3.459   Cond. No.                         279.\n",
      "==============================================================================\n",
      "\n",
      "Notes:\n",
      "[1] Standard Errors assume that the covariance matrix of the errors is correctly specified.\n"
     ]
    }
   ],
   "source": [
    "# Fit model for context domain information interacting with item domain and attribute similarity (both potentially important)\n",
    "model1_res = dda.fit_linear_model('test_weighted_acc ~ ctx_same_vs_different_domain*(item_attribute_similarity + item_same_vs_different_domain)', reg_data)\n",
    "print(model1_res.summary())"
   ]
  },
  {
   "cell_type": "code",
   "execution_count": 101,
   "metadata": {},
   "outputs": [
    {
     "name": "stdout",
     "output_type": "stream",
     "text": [
      "                            OLS Regression Results                            \n",
      "==============================================================================\n",
      "Dep. Variable:      test_weighted_acc   R-squared:                       0.451\n",
      "Model:                            OLS   Adj. R-squared:                  0.450\n",
      "Method:                 Least Squares   F-statistic:                     7451.\n",
      "Date:                Tue, 08 Dec 2020   Prob (F-statistic):               0.00\n",
      "Time:                        18:36:17   Log-Likelihood:                 18472.\n",
      "No. Observations:               18180   AIC:                        -3.694e+04\n",
      "Df Residuals:                   18177   BIC:                        -3.691e+04\n",
      "Df Model:                           2                                         \n",
      "Covariance Type:            nonrobust                                         \n",
      "================================================================================================\n",
      "                                   coef    std err          t      P>|t|      [0.025      0.975]\n",
      "------------------------------------------------------------------------------------------------\n",
      "Intercept                        0.3969      0.002    225.245      0.000       0.393       0.400\n",
      "item_attribute_similarity        0.0069   8.76e-05     78.364      0.000       0.007       0.007\n",
      "ctx_same_vs_different_domain     0.0207      0.000    103.336      0.000       0.020       0.021\n",
      "==============================================================================\n",
      "Omnibus:                     1001.351   Durbin-Watson:                   0.048\n",
      "Prob(Omnibus):                  0.000   Jarque-Bera (JB):              869.952\n",
      "Skew:                           0.467   Prob(JB):                    1.24e-189\n",
      "Kurtosis:                       2.473   Cond. No.                         42.6\n",
      "==============================================================================\n",
      "\n",
      "Notes:\n",
      "[1] Standard Errors assume that the covariance matrix of the errors is correctly specified.\n"
     ]
    }
   ],
   "source": [
    "model2_res = dda.fit_linear_model('test_weighted_acc ~ item_attribute_similarity + ctx_same_vs_different_domain', reg_data)\n",
    "print(model2_res.summary())"
   ]
  },
  {
   "cell_type": "code",
   "execution_count": null,
   "metadata": {},
   "outputs": [],
   "source": [
    "# TODO: Try plotting a combination of item attribute similarity and context domain measures? Not sure if it makes sense."
   ]
  },
  {
   "cell_type": "code",
   "execution_count": 26,
   "metadata": {
    "collapsed": false,
    "jupyter": {
     "outputs_hidden": false
    },
    "pycharm": {
     "name": "#%%\n"
    }
   },
   "outputs": [
    {
     "data": {
      "application/vnd.jupyter.widget-view+json": {
       "model_id": "6e691d5619934584ba298824b73cf85b",
       "version_major": 2,
       "version_minor": 0
      },
      "text/plain": [
       "Canvas(toolbar=Toolbar(toolitems=[('Home', 'Reset original view', 'home', 'home'), ('Back', 'Back to previous …"
      ]
     },
     "metadata": {},
     "output_type": "display_data"
    }
   ],
   "source": [
    "# Context RSA matrix\n",
    "inds_to_plot = [0, 1, 4, 11, 12, 30, 50, -1]\n",
    "fig, axss = dda.auto_subplots(len(inds_to_plot), n_curr, ax_dims=(4, 4))\n",
    "fig.suptitle('Mean RSA for contexts')\n",
    "\n",
    "#ctx_sets = {name: res for name, res in curr_sets.items() if name in ['Original', 'Merged repr', 'No item repr']}\n",
    "\n",
    "for ind, axs in zip(inds_to_plot, axss):\n",
    "    for (label, res), ax in zip(curr_sets.items(), axs):\n",
    "        dda.plot_rsa(ax, res, 'context_hidden', ind, title_addon=label, item_order='domain-inner')\n",
    "\n",
    "fig.tight_layout()\n",
    "plt.show()"
   ]
  },
  {
   "cell_type": "code",
   "execution_count": 60,
   "metadata": {
    "collapsed": false,
    "jupyter": {
     "outputs_hidden": false
    },
    "pycharm": {
     "name": "#%%\n"
    }
   },
   "outputs": [
    {
     "data": {
      "application/vnd.jupyter.widget-view+json": {
       "model_id": "45de38763abe4be6991eb3f2791126a2",
       "version_major": 2,
       "version_minor": 0
      },
      "text/plain": [
       "Canvas(toolbar=Toolbar(toolitems=[('Home', 'Reset original view', 'home', 'home'), ('Back', 'Back to previous …"
      ]
     },
     "metadata": {},
     "output_type": "display_data"
    }
   ],
   "source": [
    "# Corresponding context dendrograms\n",
    "fig, axss = dda.auto_subplots(len(inds_to_plot), n_curr, ax_dims=(4, 3))\n",
    "fig.suptitle('Context representation similarity')\n",
    "\n",
    "for ind, axs in zip(inds_to_plot, axss):\n",
    "    for (label, res), ax in zip(curr_sets.items(), axs):\n",
    "        dda.plot_repr_dendrogram(ax, res, 'context', ind, title_addon=label)\n",
    "\n",
    "fig.tight_layout()\n",
    "plt.show()"
   ]
  },
  {
   "cell_type": "code",
   "execution_count": 79,
   "metadata": {},
   "outputs": [
    {
     "data": {
      "application/vnd.jupyter.widget-view+json": {
       "model_id": "ae007463c1db46b79de995032551b251",
       "version_major": 2,
       "version_minor": 0
      },
      "text/plain": [
       "Canvas(toolbar=Toolbar(toolitems=[('Home', 'Reset original view', 'home', 'home'), ('Back', 'Back to previous …"
      ]
     },
     "metadata": {},
     "output_type": "display_data"
    }
   ],
   "source": [
    "# Item rep RSA over all snapshots (useful maybe for finding interesting change points)\n",
    "fig, axs = dda.make_plot_grid(len(curr_sets), 2, ax_dims=(5, 5))\n",
    "\n",
    "for ax, (label, res) in zip(axs, curr_sets.items()):\n",
    "    n_snaps = len(res['snap_epochs'])\n",
    "    snap_freq = res['train_params']['snap_freq']\n",
    "    im = ax.imshow(res['repr_dists']['item']['all'],\n",
    "                   extent=(-0.5, n_snaps * snap_freq-0.5, n_snaps * snap_freq-0.5, -0.5))\n",
    "    ax.set_xticks(res['snap_epochs'][::4])\n",
    "    ax.tick_params(axis='x', labelrotation=45)\n",
    "    ax.set_yticks(res['snap_epochs'][::4])\n",
    "    ax.set_xlabel('Epochs')\n",
    "    ax.set_title(f'Item repr distances over training ({label})')\n",
    "    fig.colorbar(im, ax=ax, fraction=0.046, pad=0.04)\n",
    "    \n",
    "fig.tight_layout()\n",
    "plt.show()"
   ]
  },
  {
   "cell_type": "code",
   "execution_count": 35,
   "metadata": {
    "collapsed": false,
    "jupyter": {
     "outputs_hidden": false
    },
    "pycharm": {
     "name": "#%%\n"
    }
   },
   "outputs": [
    {
     "data": {
      "application/vnd.jupyter.widget-view+json": {
       "model_id": "a249c0e722964fd3a2074cdd3d968585",
       "version_major": 2,
       "version_minor": 0
      },
      "text/plain": [
       "Canvas(toolbar=Toolbar(toolitems=[('Home', 'Reset original view', 'home', 'home'), ('Back', 'Back to previous …"
      ]
     },
     "metadata": {},
     "output_type": "display_data"
    },
    {
     "data": {
      "application/vnd.jupyter.widget-view+json": {
       "model_id": "9a805c2ca5c8448e8113145d26eba004",
       "version_major": 2,
       "version_minor": 0
      },
      "text/plain": [
       "Canvas(toolbar=Toolbar(toolitems=[('Home', 'Reset original view', 'home', 'home'), ('Back', 'Back to previous …"
      ]
     },
     "metadata": {},
     "output_type": "display_data"
    },
    {
     "ename": "KeyError",
     "evalue": "'item'",
     "output_type": "error",
     "traceback": [
      "\u001b[1;31m---------------------------------------------------------------------------\u001b[0m",
      "\u001b[1;31mKeyError\u001b[0m                                  Traceback (most recent call last)",
      "\u001b[1;32m<ipython-input-35-266ad682d281>\u001b[0m in \u001b[0;36m<module>\u001b[1;34m\u001b[0m\n\u001b[0;32m      1\u001b[0m \u001b[1;31m# MDS of item representations over time\u001b[0m\u001b[1;33m\u001b[0m\u001b[1;33m\u001b[0m\u001b[1;33m\u001b[0m\u001b[0m\n\u001b[0;32m      2\u001b[0m \u001b[1;32mfor\u001b[0m \u001b[0mlabel\u001b[0m\u001b[1;33m,\u001b[0m \u001b[0mres\u001b[0m \u001b[1;32min\u001b[0m \u001b[0mcurr_sets\u001b[0m\u001b[1;33m.\u001b[0m\u001b[0mitems\u001b[0m\u001b[1;33m(\u001b[0m\u001b[1;33m)\u001b[0m\u001b[1;33m:\u001b[0m\u001b[1;33m\u001b[0m\u001b[1;33m\u001b[0m\u001b[0m\n\u001b[1;32m----> 3\u001b[1;33m     \u001b[0mdda\u001b[0m\u001b[1;33m.\u001b[0m\u001b[0mplot_repr_trajectories\u001b[0m\u001b[1;33m(\u001b[0m\u001b[0mres\u001b[0m\u001b[1;33m,\u001b[0m \u001b[1;34m'item'\u001b[0m\u001b[1;33m,\u001b[0m \u001b[0mdims\u001b[0m\u001b[1;33m=\u001b[0m\u001b[1;36m3\u001b[0m\u001b[1;33m,\u001b[0m \u001b[0mtitle_label\u001b[0m\u001b[1;33m=\u001b[0m\u001b[0mlabel\u001b[0m\u001b[1;33m)\u001b[0m\u001b[1;33m\u001b[0m\u001b[1;33m\u001b[0m\u001b[0m\n\u001b[0m\u001b[0;32m      4\u001b[0m \u001b[1;33m\u001b[0m\u001b[0m\n\u001b[0;32m      5\u001b[0m \u001b[0mplt\u001b[0m\u001b[1;33m.\u001b[0m\u001b[0mshow\u001b[0m\u001b[1;33m(\u001b[0m\u001b[1;33m)\u001b[0m\u001b[1;33m\u001b[0m\u001b[1;33m\u001b[0m\u001b[0m\n",
      "\u001b[1;32mD:\\neuroscience\\concept_learning_IS\\disjoint-domain\\dd_analysis.py\u001b[0m in \u001b[0;36mplot_repr_trajectories\u001b[1;34m(res, snap_type, dims, title_label)\u001b[0m\n\u001b[0;32m    211\u001b[0m     \"\"\"\n\u001b[0;32m    212\u001b[0m     \u001b[0membedding\u001b[0m \u001b[1;33m=\u001b[0m \u001b[0mMDS\u001b[0m\u001b[1;33m(\u001b[0m\u001b[0mn_components\u001b[0m\u001b[1;33m=\u001b[0m\u001b[0mdims\u001b[0m\u001b[1;33m,\u001b[0m \u001b[0mdissimilarity\u001b[0m\u001b[1;33m=\u001b[0m\u001b[1;34m'precomputed'\u001b[0m\u001b[1;33m)\u001b[0m\u001b[1;33m\u001b[0m\u001b[1;33m\u001b[0m\u001b[0m\n\u001b[1;32m--> 213\u001b[1;33m     \u001b[0mreprs_embedded\u001b[0m \u001b[1;33m=\u001b[0m \u001b[0membedding\u001b[0m\u001b[1;33m.\u001b[0m\u001b[0mfit_transform\u001b[0m\u001b[1;33m(\u001b[0m\u001b[0mres\u001b[0m\u001b[1;33m[\u001b[0m\u001b[1;34m'repr_dists'\u001b[0m\u001b[1;33m]\u001b[0m\u001b[1;33m[\u001b[0m\u001b[0msnap_type\u001b[0m\u001b[1;33m]\u001b[0m\u001b[1;33m[\u001b[0m\u001b[1;34m'all'\u001b[0m\u001b[1;33m]\u001b[0m\u001b[1;33m)\u001b[0m\u001b[1;33m\u001b[0m\u001b[1;33m\u001b[0m\u001b[0m\n\u001b[0m\u001b[0;32m    214\u001b[0m \u001b[1;33m\u001b[0m\u001b[0m\n\u001b[0;32m    215\u001b[0m     \u001b[1;31m# reshape and permute to aid plotting\u001b[0m\u001b[1;33m\u001b[0m\u001b[1;33m\u001b[0m\u001b[1;33m\u001b[0m\u001b[0m\n",
      "\u001b[1;31mKeyError\u001b[0m: 'item'"
     ]
    }
   ],
   "source": [
    "# MDS of item representations over time\n",
    "for label, res in curr_sets.items():\n",
    "    dda.plot_repr_trajectories(res, 'item', dims=3, title_label=label)\n",
    "\n",
    "plt.show()"
   ]
  },
  {
   "cell_type": "code",
   "execution_count": 81,
   "metadata": {
    "collapsed": false,
    "jupyter": {
     "outputs_hidden": false
    },
    "pycharm": {
     "name": "#%%\n"
    }
   },
   "outputs": [
    {
     "data": {
      "application/vnd.jupyter.widget-view+json": {
       "model_id": "6cc14ee2e8cf46d687c011862bb6a40f",
       "version_major": 2,
       "version_minor": 0
      },
      "text/plain": [
       "Canvas(toolbar=Toolbar(toolitems=[('Home', 'Reset original view', 'home', 'home'), ('Back', 'Back to previous …"
      ]
     },
     "metadata": {},
     "output_type": "display_data"
    },
    {
     "data": {
      "application/vnd.jupyter.widget-view+json": {
       "model_id": "fa640ab3d7b040729a0fead3912a000b",
       "version_major": 2,
       "version_minor": 0
      },
      "text/plain": [
       "Canvas(toolbar=Toolbar(toolitems=[('Home', 'Reset original view', 'home', 'home'), ('Back', 'Back to previous …"
      ]
     },
     "metadata": {},
     "output_type": "display_data"
    }
   ],
   "source": [
    "for label, res in curr_sets.items():\n",
    "    dda.plot_repr_trajectories(res, 'context', dims=2, title_label=label)\n",
    "\n",
    "plt.show()"
   ]
  },
  {
   "cell_type": "code",
   "execution_count": 48,
   "metadata": {},
   "outputs": [
    {
     "data": {
      "application/vnd.jupyter.widget-view+json": {
       "model_id": "e20b0bbca7ea4f449ed13d0e2f74bf73",
       "version_major": 2,
       "version_minor": 0
      },
      "text/plain": [
       "Canvas(toolbar=Toolbar(toolitems=[('Home', 'Reset original view', 'home', 'home'), ('Back', 'Back to previous …"
      ]
     },
     "metadata": {},
     "output_type": "display_data"
    }
   ],
   "source": [
    "import importlib\n",
    "importlib.reload(dda)\n",
    "\n",
    "fig, axs = dda.make_plot_grid(len(curr_runs), 2, ax_dims=(6, 15))\n",
    "run_num = 0\n",
    "snap_index = 5\n",
    "\n",
    "for (name, res), ax in zip(short_sets.items(), axs.ravel()):\n",
    "    dda.plot_hl_input_pattern_correlations(ax, res, run_num, snap_index, title_label=name)\n",
    "    \n",
    "fig.tight_layout()\n",
    "plt.show()"
   ]
  }
 ],
 "metadata": {
  "kernelspec": {
   "display_name": "Python 3",
   "language": "python",
   "name": "python3"
  },
  "language_info": {
   "codemirror_mode": {
    "name": "ipython",
    "version": 3
   },
   "file_extension": ".py",
   "mimetype": "text/x-python",
   "name": "python",
   "nbconvert_exporter": "python",
   "pygments_lexer": "ipython3",
   "version": "3.8.6"
  }
 },
 "nbformat": 4,
 "nbformat_minor": 4
}
