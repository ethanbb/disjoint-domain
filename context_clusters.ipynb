{
 "cells": [
  {
   "cell_type": "code",
   "execution_count": 4,
   "metadata": {},
   "outputs": [],
   "source": [
    "%matplotlib widget\n",
    "import numpy as np\n",
    "import matplotlib.pyplot as plt\n",
    "from sklearn.decomposition import PCA\n",
    "import disjoint_domain as dd\n",
    "import dd_analysis as dda\n",
    "\n",
    "_, ctx_names = dd.get_contexts()\n",
    "pca = PCA(n_components=2)\n",
    "colors = dd.get_domain_colors()"
   ]
  },
  {
   "cell_type": "code",
   "execution_count": 12,
   "metadata": {},
   "outputs": [],
   "source": [
    "original_path = 'data/original_longer_dd_res_2021-07-22_01-25-47.npz'\n",
    "repeated_attrs_path = 'data/repeated_attrs_longer_dd_res_2021-07-22_03-11-12.npz'"
   ]
  },
  {
   "cell_type": "code",
   "execution_count": 17,
   "metadata": {},
   "outputs": [
    {
     "data": {
      "application/vnd.jupyter.widget-view+json": {
       "model_id": "5188ed3c554b400997c5c5af51eef75d",
       "version_major": 2,
       "version_minor": 0
      },
      "text/plain": [
       "Canvas(toolbar=Toolbar(toolitems=[('Home', 'Reset original view', 'home', 'home'), ('Back', 'Back to previous …"
      ]
     },
     "metadata": {},
     "output_type": "display_data"
    }
   ],
   "source": [
    "# Plot PCA of final context reprs for one of the runs\n",
    "run_num = 2\n",
    "\n",
    "with np.load(original_path, allow_pickle=True) as resfile:\n",
    "    resfile_snaps = resfile['snapshots'].item()\n",
    "\n",
    "ctx_repr_2D = pca.fit_transform(resfile_snaps['context'][run_num, -1])\n",
    "\n",
    "fig, ax = plt.subplots()\n",
    "ax.scatter(*ctx_repr_2D.T, c=np.tile(colors[:4], 4))\n",
    "for c in range(16):\n",
    "    ax.annotate(ctx_names[c], ctx_repr_2D[c])\n",
    "ax.set_title('Attrs are different for each domain - no context clusters?')\n",
    "plt.show()"
   ]
  },
  {
   "cell_type": "code",
   "execution_count": 18,
   "metadata": {},
   "outputs": [
    {
     "data": {
      "application/vnd.jupyter.widget-view+json": {
       "model_id": "cd9ee5fb7ca243fe8cca9240d645adda",
       "version_major": 2,
       "version_minor": 0
      },
      "text/plain": [
       "Canvas(toolbar=Toolbar(toolitems=[('Home', 'Reset original view', 'home', 'home'), ('Back', 'Back to previous …"
      ]
     },
     "metadata": {},
     "output_type": "display_data"
    }
   ],
   "source": [
    "# Repeated attrs version - each domain is the same modulo outputting on its own units\n",
    "run_num = 2\n",
    "\n",
    "with np.load(repeated_attrs_path, allow_pickle=True) as resfile_rep_attrs:\n",
    "    resfile_rep_attrs_snaps = resfile_rep_attrs['snapshots'].item()\n",
    "\n",
    "ctx_repr_2D_rep_attrs = pca.fit_transform(resfile_rep_attrs_snaps['context'][run_num, -1])\n",
    "\n",
    "fig, ax = plt.subplots()\n",
    "ax.scatter(*ctx_repr_2D_rep_attrs.T, c=np.tile(colors[:4], 4))\n",
    "for c in range(16):\n",
    "    ax.annotate(ctx_names[c], ctx_repr_2D_rep_attrs[c])\n",
    "ax.set_title('Figure R6 - contexts cluster w/ repeated attrs across domains')\n",
    "plt.show()"
   ]
  },
  {
   "cell_type": "code",
   "execution_count": 19,
   "metadata": {},
   "outputs": [
    {
     "name": "stderr",
     "output_type": "stream",
     "text": [
      "C:\\Users\\ethan\\.conda\\envs\\cuda11\\lib\\site-packages\\scipy\\stats\\_distn_infrastructure.py:2098: RuntimeWarning: invalid value encountered in multiply\n",
      "  lower_bound = _a * scale + loc\n",
      "C:\\Users\\ethan\\.conda\\envs\\cuda11\\lib\\site-packages\\scipy\\stats\\_distn_infrastructure.py:2099: RuntimeWarning: invalid value encountered in multiply\n",
      "  upper_bound = _b * scale + loc\n"
     ]
    }
   ],
   "source": [
    "# Dendrogram, combine multiple runs\n",
    "res_orig = dda.get_result_means(original_path, calc_all_repr_dists=False)\n",
    "res_rep_attr = dda.get_result_means(repeated_attrs_path, calc_all_repr_dists=False)"
   ]
  },
  {
   "cell_type": "code",
   "execution_count": 23,
   "metadata": {},
   "outputs": [
    {
     "data": {
      "application/vnd.jupyter.widget-view+json": {
       "model_id": "8e271460494f4849a349b195d0571654",
       "version_major": 2,
       "version_minor": 0
      },
      "text/plain": [
       "Canvas(toolbar=Toolbar(toolitems=[('Home', 'Reset original view', 'home', 'home'), ('Back', 'Back to previous …"
      ]
     },
     "metadata": {},
     "output_type": "display_data"
    }
   ],
   "source": [
    "_, axs = dda.make_plot_grid(2, n_cols=2)\n",
    "for ax, res, label in zip(axs, [res_orig, res_rep_attr], ['Original', 'Repeated attrs']):\n",
    "    dda.plot_repr_dendrogram(ax, res, 'context', -1, title_addon=label)\n",
    "    ax.tick_params(labelsize='small')"
   ]
  }
 ],
 "metadata": {
  "kernelspec": {
   "display_name": "Python 3",
   "language": "python",
   "name": "python3"
  },
  "language_info": {
   "codemirror_mode": {
    "name": "ipython",
    "version": 3
   },
   "file_extension": ".py",
   "mimetype": "text/x-python",
   "name": "python",
   "nbconvert_exporter": "python",
   "pygments_lexer": "ipython3",
   "version": "3.8.6"
  }
 },
 "nbformat": 4,
 "nbformat_minor": 4
}
