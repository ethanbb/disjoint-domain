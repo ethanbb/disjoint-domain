{
 "cells": [
  {
   "cell_type": "code",
   "execution_count": 1,
   "metadata": {
    "collapsed": false,
    "jupyter": {
     "outputs_hidden": false
    },
    "pycharm": {
     "name": "#%%\n"
    }
   },
   "outputs": [],
   "source": [
    "%matplotlib widget\n",
    "\n",
    "import numpy as np\n",
    "import matplotlib.pyplot as plt\n",
    "from matplotlib import cycler\n",
    "import importlib\n",
    "\n",
    "try:\n",
    "    importlib.reload(dda)\n",
    "except NameError:\n",
    "    import dd_analysis as dda\n",
    "    \n",
    "try:\n",
    "    importlib.reload(dd)\n",
    "except NameError:\n",
    "    import disjoint_domain as dd"
   ]
  },
  {
   "cell_type": "code",
   "execution_count": 1,
   "metadata": {
    "jupyter": {
     "source_hidden": true
    }
   },
   "outputs": [],
   "source": [
    "batchsize_runs = {\n",
    "    'B5': 'data/batchsize/batch5_dd_res_2020-12-29_16-37-09.npz',\n",
    "    'B10': 'data/batchsize/batch10_dd_res_2020-12-29_17-28-34.npz',\n",
    "    'B15': 'data/batchsize/batch15_dd_res_2020-12-29_18-10-11.npz',\n",
    "    'B16': 'data/batchsize/batch16_dd_res_2020-12-23_16-48-15.npz',\n",
    "    'B20': 'data/batchsize/batch20_dd_res_2020-12-29_18-30-34.npz',\n",
    "    'B25': 'data/batchsize/batch25_dd_res_2020-12-29_18-44-56.npz',\n",
    "    'B30': 'data/batchsize/batch30_dd_res_2020-12-29_18-59-20.npz',\n",
    "    'B31': 'data/batchsize/batch31_dd_res_2020-12-29_15-04-17.npz',\n",
    "    'B32': 'data/batchsize/batch32_dd_res_2020-12-23_16-13-07.npz',\n",
    "    'B35': 'data/batchsize/batch35_dd_res_2020-12-29_19-10-51.npz',\n",
    "    'B40': 'data/batchsize/batch40_dd_res_2020-12-29_19-22-28.npz',\n",
    "    'B45': 'data/batchsize/batch45_dd_res_2020-12-29_19-31-13.npz',\n",
    "    'B50': 'data/batchsize/batch50_dd_res_2020-12-29_19-40-00.npz',\n",
    "    'B55': 'data/batchsize/batch55_dd_res_2020-12-29_19-49-22.npz',\n",
    "    'B60': 'data/batchsize/batch60_dd_res_2020-12-29_20-07-49.npz',\n",
    "    'B64': 'data/batchsize/batch64_dd_res_2020-12-23_15-59-45.npz',\n",
    "    'B65': 'data/batchsize/batch65_dd_res_2020-12-29_20-17-04.npz'\n",
    "}"
   ]
  },
  {
   "cell_type": "code",
   "execution_count": 14,
   "metadata": {
    "jupyter": {
     "source_hidden": true
    }
   },
   "outputs": [],
   "source": [
    "domain_holdout_runs = {\n",
    "    'original -> original': 'data/domain_ho_eqdist_dd_res_2020-12-24_14-56-49.npz',\n",
    "    'original -> equidistant': 'data/domain_ho_orig_dd_res_2020-12-25_09-29-54.npz',\n",
    "    'original -> 3-3-2': 'data/domain_ho_332_dd_res_2020-12-27_07-40-26.npz',\n",
    "    'original -> 5-1-2': 'data/domain_ho_512_from_orig_dd_res_2021-01-03_11-43-15.npz',\n",
    "    \n",
    "    'equidistant -> original': 'data/domain_ho_orig_from_eqdist_dd_res_2021-01-02_06-57-29.npz',\n",
    "    'equidistant -> equidistant': 'data/domain_ho_eqdist_from_eqdist_dd_res_2021-01-01_21-47-45.npz',\n",
    "    'equidistant -> 3-3-2': 'data/domain_ho_332_from_eqdist_dd_res_2021-01-02_16-15-20.npz',\n",
    "    'equidistant -> 5-1-2': 'data/domain_ho_512_from_eqdist_dd_res_2021-01-04_02-04-41.npz',\n",
    "    \n",
    "    '3-3-2 -> original': 'data/domain_ho_orig_from_332_dd_res_2020-12-31_02-11-40.npz',\n",
    "    '3-3-2 -> equidistant': 'data/domain_ho_eqdist_from_332_dd_res_2020-12-30_20-25-13.npz',\n",
    "    '3-3-2 -> 3-3-2': 'data/domain_ho_332_from_332_dd_res_2020-12-31_07-28-31.npz',\n",
    "    '3-3-2 -> 5-1-2': 'data/domain_ho_512_from_332_dd_res_2021-01-03_18-39-16.npz',\n",
    "    \n",
    "    '5-1-2 -> original': 'data/domain_ho_orig_from_512_dd_res_2021-01-04_06-53-28.npz',\n",
    "    '5-1-2 -> equidistant': 'data/domain_ho_eqdist_from_512_dd_res_2021-01-04_15-05-25.npz',\n",
    "    '5-1-2 -> 3-3-2': 'data/domain_ho_332_from_512_dd_res_2021-01-04_12-36-34.npz',\n",
    "    '5-1-2 -> 5-1-2': 'data/domain_ho_512_from_512_dd_res_2021-01-03_04-48-33.npz'\n",
    "}"
   ]
  },
  {
   "cell_type": "code",
   "execution_count": 27,
   "metadata": {
    "jupyter": {
     "source_hidden": true
    }
   },
   "outputs": [],
   "source": [
    "dho_runs_share_context = {\n",
    "    'original --> original': 'data/domain_ho_sharedctx/orig_to_orig_dd_res_2021-09-05_06-28-59.npz',\n",
    "    'original --> equidistant': 'data/domain_ho_sharedctx/orig_to_eqdist_dd_res_2021-09-05_11-25-31.npz',\n",
    "    'original --> 3-3-2': 'data/domain_ho_sharedctx/orig_to_332_dd_res_2021-09-05_23-59-22.npz',\n",
    "    'original --> 5-1-2': 'data/domain_ho_sharedctx/orig_to_512_dd_res_2021-09-06_11-55-36.npz',\n",
    "    \n",
    "    'equidistant --> original': 'data/domain_ho_sharedctx/eqdist_to_orig_dd_res_2021-09-06_23-56-33.npz',\n",
    "    'equidistant --> equidistant': 'data/domain_ho_sharedctx/eqdist_to_eqdist_dd_res_2021-09-07_03-49-14.npz',\n",
    "    'equidistant --> 3-3-2': 'data/domain_ho_sharedctx/eqdist_to_332_dd_res_2021-09-07_16-02-18.npz',\n",
    "    'equidistant --> 5-1-2': 'data/domain_ho_sharedctx/eqdist_to_512_dd_res_2021-09-08_05-45-44.npz',\n",
    "}"
   ]
  },
  {
   "cell_type": "code",
   "execution_count": 2,
   "metadata": {
    "jupyter": {
     "source_hidden": true
    }
   },
   "outputs": [],
   "source": [
    "simple_domain_holdout_runs = {\n",
    "    'original => original': 'data/simple_domain_ho/orig_from_orig_dd_res_2021-08-11_19-09-03.npz',\n",
    "    'original => equidistant': 'data/simple_domain_ho/eqdist_from_orig_dd_res_2021-08-11_19-50-03.npz',\n",
    "    'original => 3-3-2': 'data/simple_domain_ho/332_from_orig_dd_res_2021-08-11_21-34-27.npz',\n",
    "    'original => 5-1-2': 'data/simple_domain_ho/512_from_orig_dd_res_2021-08-11_22-57-21.npz',\n",
    "    \n",
    "    'equidistant => original': 'data/simple_domain_ho/orig_from_eqdist_dd_res_2021-08-12_13-25-54.npz',\n",
    "    'equidistant => equidistant': 'data/simple_domain_ho/eqdist_from_eqdist_dd_res_2021-08-12_16-20-01.npz',\n",
    "    'equidistant => 3-3-2': 'data/simple_domain_ho/332_from_eqdist_dd_res_2021-08-12_18-42-53.npz',\n",
    "    'equidistant => 5-1-2': 'data/simple_domain_ho/512_from_eqdist_dd_res_2021-08-12_20-35-28.npz',\n",
    "    \n",
    "    '3-3-2 => original': 'data/simple_domain_ho/orig_from_332_dd_res_2021-08-12_22-37-28.npz',\n",
    "    '3-3-2 => equidistant': 'data/simple_domain_ho/eqdist_from_332_dd_res_2021-08-12_23-30-34.npz',\n",
    "    '3-3-2 => 3-3-2': 'data/simple_domain_ho/332_from_332_dd_res_2021-08-13_01-50-16.npz',\n",
    "    '3-3-2 => 5-1-2': 'data/simple_domain_ho/512_from_332_dd_res_2021-08-13_03-41-42.npz',\n",
    "    \n",
    "    '5-1-2 => original': 'data/simple_domain_ho/orig_from_512_dd_res_2021-08-13_05-44-59.npz',\n",
    "    '5-1-2 => equidistant': 'data/simple_domain_ho/eqdist_from_512_dd_res_2021-08-13_06-33-54.npz',\n",
    "    '5-1-2 => 3-3-2': 'data/simple_domain_ho/332_from_512_dd_res_2021-08-13_08-42-32.npz',\n",
    "    '5-1-2 => 5-1-2': 'data/simple_domain_ho/512_from_512_dd_res_2021-08-13_10-34-13.npz'\n",
    "}"
   ]
  },
  {
   "cell_type": "code",
   "execution_count": 4,
   "metadata": {
    "jupyter": {
     "source_hidden": true
    }
   },
   "outputs": [],
   "source": [
    "simple_dho_runs_repeat_attrs = {\n",
    "    'original ==> original': 'data/simple_domain_ho_repeat_attrs/orig_from_orig_dd_res_2021-08-05_18-57-10.npz',\n",
    "    'original ==> equidistant': 'data/simple_domain_ho_repeat_attrs/eqdist_from_orig_dd_res_2021-08-05_19-26-44.npz',\n",
    "    'original ==> 3-3-2': 'data/simple_domain_ho_repeat_attrs/332_from_orig_dd_res_2021-08-05_20-42-45.npz',\n",
    "    'original ==> 5-1-2': 'data/simple_domain_ho_repeat_attrs/512_from_orig_dd_res_2021-08-05_21-41-50.npz',\n",
    "    \n",
    "    'equidistant ==> original': 'data/simple_domain_ho_repeat_attrs/orig_from_eqdist_dd_res_2021-08-05_23-15-50.npz',\n",
    "    'equidistant ==> equidistant': 'data/simple_domain_ho_repeat_attrs/eqdist_from_eqdist_dd_res_2021-08-06_02-05-52.npz',\n",
    "    'equidistant ==> 3-3-2': 'data/simple_domain_ho_repeat_attrs/332_from_eqdist_dd_res_2021-08-06_03-43-58.npz',\n",
    "    'equidistant ==> 5-1-2': 'data/simple_domain_ho_repeat_attrs/512_from_eqdist_dd_res_2021-08-06_04-58-49.npz',\n",
    "    \n",
    "    '3-3-2 ==> original': 'data/simple_domain_ho_repeat_attrs/orig_from_332_dd_res_2021-08-06_06-06-50.npz',\n",
    "    '3-3-2 ==> equidistant': 'data/simple_domain_ho_repeat_attrs/eqdist_from_332_dd_res_2021-08-06_06-34-02.npz',\n",
    "    '3-3-2 ==> 3-3-2': 'data/simple_domain_ho_repeat_attrs/332_from_332_dd_res_2021-08-06_07-46-33.npz',\n",
    "    '3-3-2 ==> 5-1-2': 'data/simple_domain_ho_repeat_attrs/512_from_332_dd_res_2021-08-06_08-43-41.npz',\n",
    "    \n",
    "    '5-1-2 ==> original': 'data/simple_domain_ho_repeat_attrs/orig_from_512_dd_res_2021-08-06_09-48-24.npz',\n",
    "    '5-1-2 ==> equidistant': 'data/simple_domain_ho_repeat_attrs/eqdist_from_512_dd_res_2021-08-06_10-13-01.npz',\n",
    "    '5-1-2 ==> 3-3-2': 'data/simple_domain_ho_repeat_attrs/332_from_512_dd_res_2021-08-06_11-19-02.npz',\n",
    "    '5-1-2 ==> 5-1-2': 'data/simple_domain_ho_repeat_attrs/512_from_512_dd_res_2021-08-06_12-12-53.npz'\n",
    "}"
   ]
  },
  {
   "cell_type": "code",
   "execution_count": 155,
   "metadata": {
    "jupyter": {
     "source_hidden": true
    }
   },
   "outputs": [],
   "source": [
    "intergroup_runs = {\n",
    "    'intergroup near -> near': 'data/intergroup/near_to_near_dd_res_2021-01-10_10-55-52.npz',\n",
    "    'intergroup near -> far': 'data/intergroup/near_to_far_dd_res_2021-01-11_01-40-33.npz',\n",
    "    'intergroup far -> near': 'data/intergroup/far_to_near_dd_res_2021-01-11_11-13-03.npz',\n",
    "    'intergroup far -> far': 'data/intergroup/far_to_far_dd_res_2021-01-12_13-54-22.npz'\n",
    "}"
   ]
  },
  {
   "cell_type": "code",
   "execution_count": 2,
   "metadata": {
    "collapsed": false,
    "jupyter": {
     "outputs_hidden": false
    },
    "pycharm": {
     "name": "#%%\n"
    }
   },
   "outputs": [
    {
     "name": "stderr",
     "output_type": "stream",
     "text": [
      "C:\\Users\\ethan\\.conda\\envs\\cuda11\\lib\\site-packages\\scipy\\stats\\_distn_infrastructure.py:2098: RuntimeWarning: invalid value encountered in multiply\n",
      "  lower_bound = _a * scale + loc\n",
      "C:\\Users\\ethan\\.conda\\envs\\cuda11\\lib\\site-packages\\scipy\\stats\\_distn_infrastructure.py:2099: RuntimeWarning: invalid value encountered in multiply\n",
      "  upper_bound = _b * scale + loc\n",
      "Z:\\eblackwood\\anna_stuff\\disjoint-domain\\dd_analysis.py:86: RuntimeWarning: Mean of empty slice\n",
      "  mean_dists_snaps = np.nanmean(dists_snaps, axis=0)\n"
     ]
    }
   ],
   "source": [
    "# Load data from previous runs\n",
    "\n",
    "try:\n",
    "    curr_load_settings = load_settings\n",
    "except NameError:\n",
    "    curr_load_settings = {}\n",
    "    \n",
    "load_settings = {\n",
    "    'dist_metric': 'correlation',\n",
    "    'calc_all_repr_dists': False,\n",
    "    'include_individual_rdms': True,\n",
    "    'subsample_snaps': 1\n",
    "}\n",
    "\n",
    "curr_res_paths = {}\n",
    "if load_settings == curr_load_settings:\n",
    "    try:\n",
    "        curr_res_paths = res_paths\n",
    "    except NameError:\n",
    "        res_data = {}\n",
    "else:\n",
    "    res_data = {}\n",
    "    \n",
    "res_paths = {\n",
    "#     'Original': 'data/dd_res_2020-12-03_01-31-32.npz',\n",
    "#     'Shared repr.': 'data/merged_repr_dd_res_2020-12-04_05-15-35.npz',\n",
    "#     'Small item repr': 'data/small_item_repr_dd_res_2020-11-24_18-48-00.npz',\n",
    "#     'More compressed': 'data/all_ratios_0.5_dd_res_2020-11-24_21-17-07.npz',\n",
    "#     'Half-size HL': 'data/half_hidden_longer_dd_res_2020-11-25_01-06-37.npz',\n",
    "#     'Merged item repr.': 'data/no_item_repr_reallocate_dd_res_2020-12-04_06-30-32.npz',\n",
    "#     'Merged context repr.': 'data/no_ctx_repr_reallocate_dd_res_2020-12-04_07-48-18.npz',\n",
    "#     'All merged': 'data/no_repr_reallocate_dd_res_2020-12-03_03-24-49.npz',\n",
    "#     'One domain': 'data/1domain_dd_res_2020-12-14_12-57-53.npz',\n",
    "#     'Original (small init)': 'data/4domain_small_init_dd_res_2020-12-23_00-34-01.npz',\n",
    "#     'One domain (small init)': 'data/1domain_small_init_dd_res_2020-12-23_00-52-41.npz',\n",
    "#     **batchsize_runs,\n",
    "#     **domain_holdout_runs,\n",
    "#     **dho_runs_share_context,\n",
    "#     **simple_domain_holdout_runs,\n",
    "#     **simple_dho_runs_repeat_attrs,\n",
    "#     'Original no reuse': 'data/original_no_reuse_dd_res_2021-01-06_17-15-11.npz',\n",
    "#     '4-4 equal': 'data/4-4_dd_res_2021-01-05_14-16-02.npz',\n",
    "#     '4-4 no reuse': 'data/4-4_no_reuse_dd_res_2021-01-06_14-51-28.npz',\n",
    "#     '4-4 unequal': 'data/4-4_unequal_dd_res_2021-01-06_19-37-51.npz',\n",
    "#     '4-4 equal independent': 'data/44_dho_dd_res_2021-01-09_06-31-41.npz',\n",
    "#     'Original independent': 'data/422_dho_dd_res_2021-01-09_21-57-46.npz',\n",
    "#      **intergroup_runs,\n",
    "#     'Original (new)': 'data/original_new_dd_res_2021-01-12_20-21-39.npz',\n",
    "#     'Fixed biases': 'data/fixed_biases_dd_res_2021-01-12_20-30-39.npz',\n",
    "#     'All merged fixed biases': 'data/all_merged_fixed_biases_44_dd_res_2021-01-15_13-26-57.npz',\n",
    "#     '2domain test': 'data/2domain_weight_test_dd_res_2021-01-15_15-19-33.npz',\n",
    "#     'All merged 2 groups': 'data/all_merged_2group_dd_res_2021-01-18_15-12-35.npz',\n",
    "#     'All merged 3-3-2': 'data/all_merged_332_dd_res_2021-01-18_15-18-12.npz',\n",
    "#     'All merged 5-1-2': 'data/all_merged_512_dd_res_2021-01-18_15-24-33.npz',\n",
    "#     'Original longer': 'data/original_longer_dd_res_2021-07-22_01-25-47.npz',\n",
    "#     'Repeated attrs': 'data/repeated_attrs_longer_dd_res_2021-07-22_03-11-12.npz',\n",
    "#     'Clustered, unequal freq.': 'data/dissoc/simple_lowerlr_structured_uneq_freq_dd_res_2021-08-11_12-44-14.npz',\n",
    "#     'Clustered, equal freq.': 'data/dissoc/simple_lowerlr_structured_eq_freq_dd_res_2021-08-11_13-12-12.npz',\n",
    "#     'Flat, equal freq.': 'data/dissoc/simple_lowerlr_unstructured_eq_freq_dd_res_2021-08-11_13-39-58.npz',\n",
    "#     'Flat, unequal freq.': 'data/dissoc/simple_lowerlr_unstructured_uneq_freq_dd_res_2021-08-11_14-07-54.npz',\n",
    "#     'Dissoc. net, orig': 'data/dissoc/simple_orig_dd_res_2021-08-09_20-57-19.npz',\n",
    "#     'Dissoc. orig weightdrop': 'data/dissoc/simple_orig_weightdrop_dd_res_2021-08-10_00-58-28.npz',\n",
    "#     'Dissoc. orig lowerlr': 'data/dissoc/simple_orig_lower_lr_dd_res_2021-08-10_23-19-32.npz',\n",
    "#     'Dissoc. orig lowerlr2': 'data/dissoc/simple_orig_lower_lr2_dd_res_2021-08-11_00-39-02.npz',\n",
    "#     'Merged ctx, 1 ctx/domain': 'data/merged_ctx_repr_1ctx_nopadding_dd_res_2021-07-29_14-24-47.npz',\n",
    "#     'Merged ctx, 1 ctx/domain, padded': 'data/merged_ctx_repr_1ctx_dd_res_2021-07-29_13-31-08.npz',\n",
    "#     'Identity activations': 'data/merged_ctx_1ctx_id_act_dd_res_2021-07-29_17-59-18.npz',\n",
    "#     'No context': 'data/no_ctx_dd_res_2021-07-29_21-27-10.npz',\n",
    "#     'No context, no biases': 'data/no_ctx_no_bias_dd_res_2021-07-30_10-48-23.npz',\n",
    "#     'All merged, no ctx no biases': 'data/all_merged_no_bias_dd_res_2021-08-02_11-56-29.npz',\n",
    "#     'All merged, no ctx, smaller HL': 'data/all_merged_no_bias_fewer_dd_res_2021-09-07_17-09-26.npz',\n",
    "#     'No reprs, same size HL': 'data/short_save_params_no_repr_dd_res_2020-11-26_12-11-26.npz',\n",
    "#     'One domain': 'data/combo_1domain_dd_res_2021-08-10_12-48-04.npz',\n",
    "#     'Combo test, separate': 'data/combo_repattrs_separatectx_dd_res_2021-09-02_17-43-32.npz',\n",
    "#     'Combo test, shared': 'data/combo_repattrs_sharedctx_dd_res_2021-09-03_18-26-27.npz',\n",
    "    'Sigmoid, 1HL': 'data/iomat_snapshot/sigmoid_1hl_dd_res_2021-09-13_14-44-35.npz',\n",
    "    'Sigmoid, 2HL': 'data/iomat_snapshot/sigmoid_2hl_dd_res_2021-09-13_14-21-21.npz',\n",
    "    'Linear, 2HL': 'data/iomat_snapshot/linear_2hl_dd_res_2021-09-13_15-59-52.npz',\n",
    "    'Sigmoid, 2HL compressed': 'data/iomat_snapshot/sigmoid_2hl_compress8_dd_res_2021-09-16_17-50-15.npz',\n",
    "    'Sigmoid, 1HL compressed': 'data/iomat_snapshot/sigmoid_1hl_compress8_dd_res_2021-09-17_01-22-39.npz',\n",
    "    'ReLU, 2HL': 'data/iomat_snapshot/relu_2hl_dd_res_2021-09-17_11-30-14.npz',\n",
    "    'ReLU, 2HL compressed': 'data/iomat_snapshot/relu_2hl_compress8_dd_res_2021-09-17_14-15-27.npz',\n",
    "    'ReLU, 2HL compressed linoutput': 'data/iomat_snapshot/relu_2hl_compress8_linoutput_dd_res_2021-09-19_23-07-13.npz'\n",
    "}\n",
    "\n",
    "# Avoid reloading data whenever possible\n",
    "try:\n",
    "    res_data = {name: (res_data[name] if name in curr_res_paths and curr_res_paths[name] == path\n",
    "                else dda.get_result_means(path, **load_settings))\n",
    "                for name, path in res_paths.items()}\n",
    "except:\n",
    "    # Assume loading failed, revert\n",
    "    res_paths = curr_res_paths\n",
    "    raise"
   ]
  },
  {
   "cell_type": "code",
   "execution_count": 3,
   "metadata": {
    "collapsed": false,
    "jupyter": {
     "outputs_hidden": false
    },
    "pycharm": {
     "name": "#%%\n"
    }
   },
   "outputs": [],
   "source": [
    "# Get ready to look at some particular runs\n",
    "# curr_runs = ['Merged item repr.', 'Merged context repr.', 'All merged', 'Shared repr.']\n",
    "# curr_runs = ['Original independent', '4-4 equal independent']\n",
    "# curr_runs = [name for name in res_paths if name[0] == 'B' and int(name[1:]) % 5 == 0] # batch size runs\n",
    "# curr_runs = res_paths.keys()\n",
    "# curr_runs = intergroup_runs.keys()\n",
    "# curr_runs = ['Original (new)', 'All merged', 'All merged 3-3-2', 'All merged 5-1-2']\n",
    "# curr_runs = ['No context', 'No context, no biases', 'All merged, no ctx no biases', 'All merged, no ctx, smaller HL']\n",
    "# curr_runs = ['Original longer', 'Repeated attrs']\n",
    "# curr_runs = ['Clustered, unequal freq.', 'Clustered, equal freq.', 'Flat, unequal freq.', 'Flat, equal freq.']\n",
    "# curr_runs = ['Dissoc. net, orig', 'Dissoc. orig lowerlr', 'Dissoc. orig lowerlr2', 'No context, no biases']\n",
    "# curr_runs = ['4-4 unequal', '4-4 equal independent']\n",
    "# curr_runs = ['Original_new', 'Merged_item_new', 'Merged_ctx_new', 'One domain']\n",
    "# curr_runs = ['Original']\n",
    "# curr_runs = ['Combo test, separate', 'Combo test, shared']\n",
    "curr_runs = ['Sigmoid, 1HL', 'Sigmoid, 2HL', 'Linear, 2HL', 'Sigmoid, 1HL compressed',\n",
    "             'Sigmoid, 2HL compressed', 'ReLU, 2HL', 'ReLU, 2HL compressed', 'ReLU, 2HL compressed linoutput']\n",
    "\n",
    "cluster_types = ['original', 'equidistant', '3-3-2', '5-1-2']\n",
    "# arrow types (hacky): -> = old/full network, --> = shared context,\n",
    "# => = simplified network w/ separately generated attrs, ==> = simplified network w/ repeated attrs across domains\n",
    "# curr_runs = [c1 + ' --> ' + c2 for c1 in cluster_types for c2 in cluster_types]\n",
    "# curr_runs = [f'{c} => {c}' for c in cluster_types] # just use one of each trained type\n",
    "\n",
    "curr_sets = {name: res_data[name] for name in curr_runs if name in res_data.keys()}\n",
    "n_curr = len(curr_runs)\n",
    "\n",
    "# colors supposed to correspond to accuracy in original generalization test (deprecated)\n",
    "#prop_cycle = cycler(color=['chocolate', 'yellowgreen', 'royalblue', 'fuchsia', 'orangered'])\n",
    "\n",
    "# general cycle that supports up to 40 lines\n",
    "col_cycle = plt.rcParams['axes.prop_cycle']\n",
    "line_cycle = cycler(linestyle=['-', '--', ':', '-.'])\n",
    "prop_cycle = line_cycle * col_cycle[:4]\n",
    "# line_cols = col_cycle[:3].by_key()['color']\n",
    "# marker_cycle = cycler(mfc=line_cols, mec=line_cols)\n",
    "# prop_cycle = marker_cycle * col_cycle[:3]\n",
    "\n",
    "plt.close('all')"
   ]
  },
  {
   "cell_type": "code",
   "execution_count": 5,
   "metadata": {},
   "outputs": [
    {
     "data": {
      "application/vnd.jupyter.widget-view+json": {
       "model_id": "29a804b3409d4d3984a7f9e1bda7db6f",
       "version_major": 2,
       "version_minor": 0
      },
      "text/plain": [
       "Canvas(toolbar=Toolbar(toolitems=[('Home', 'Reset original view', 'home', 'home'), ('Back', 'Back to previous …"
      ]
     },
     "metadata": {},
     "output_type": "display_data"
    }
   ],
   "source": [
    "# Plot attribute dendrograms\n",
    "fig, axs = dda.make_plot_grid(len(curr_sets), 2, ax_dims=(5, 3), ravel=True)\n",
    "for ax, (label, res) in zip(axs, curr_sets.items()):\n",
    "    dd.plot_item_attribute_dendrogram(ax=ax, metric='cityblock', **res['net_params'])\n",
    "    ax.set_title(f'Item attribute distance ({label})')\n",
    "\n",
    "fig.tight_layout()\n",
    "plt.show()"
   ]
  },
  {
   "cell_type": "code",
   "execution_count": 5,
   "metadata": {},
   "outputs": [
    {
     "data": {
      "application/vnd.jupyter.widget-view+json": {
       "model_id": "4e2a40c159b642c3b8d45480dedd448e",
       "version_major": 2,
       "version_minor": 0
      },
      "text/plain": [
       "Canvas(toolbar=Toolbar(toolitems=[('Home', 'Reset original view', 'home', 'home'), ('Back', 'Back to previous …"
      ]
     },
     "metadata": {},
     "output_type": "display_data"
    },
    {
     "name": "stderr",
     "output_type": "stream",
     "text": [
      "Z:\\eblackwood\\anna_stuff\\disjoint-domain\\dd_analysis.py:387: RuntimeWarning: divide by zero encountered in log2\n",
      "  mode_entropies[i] = -sum(domain_norms * np.log2(domain_norms))\n",
      "Z:\\eblackwood\\anna_stuff\\disjoint-domain\\dd_analysis.py:387: RuntimeWarning: invalid value encountered in multiply\n",
      "  mode_entropies[i] = -sum(domain_norms * np.log2(domain_norms))\n",
      "Z:\\eblackwood\\anna_stuff\\disjoint-domain\\dd_analysis.py:387: RuntimeWarning: divide by zero encountered in log2\n",
      "  mode_entropies[i] = -sum(domain_norms * np.log2(domain_norms))\n",
      "Z:\\eblackwood\\anna_stuff\\disjoint-domain\\dd_analysis.py:387: RuntimeWarning: invalid value encountered in multiply\n",
      "  mode_entropies[i] = -sum(domain_norms * np.log2(domain_norms))\n",
      "C:\\Users\\ethan\\.conda\\envs\\cuda11\\lib\\site-packages\\scipy\\stats\\_distn_infrastructure.py:2098: RuntimeWarning: invalid value encountered in multiply\n",
      "  lower_bound = _a * scale + loc\n",
      "C:\\Users\\ethan\\.conda\\envs\\cuda11\\lib\\site-packages\\scipy\\stats\\_distn_infrastructure.py:2099: RuntimeWarning: invalid value encountered in multiply\n",
      "  upper_bound = _b * scale + loc\n",
      "C:\\Users\\ethan\\.conda\\envs\\cuda11\\lib\\site-packages\\scipy\\stats\\_distn_infrastructure.py:2098: RuntimeWarning: invalid value encountered in multiply\n",
      "  lower_bound = _a * scale + loc\n",
      "C:\\Users\\ethan\\.conda\\envs\\cuda11\\lib\\site-packages\\scipy\\stats\\_distn_infrastructure.py:2099: RuntimeWarning: invalid value encountered in multiply\n",
      "  upper_bound = _b * scale + loc\n",
      "C:\\Users\\ethan\\.conda\\envs\\cuda11\\lib\\site-packages\\scipy\\stats\\_distn_infrastructure.py:2098: RuntimeWarning: invalid value encountered in multiply\n",
      "  lower_bound = _a * scale + loc\n",
      "C:\\Users\\ethan\\.conda\\envs\\cuda11\\lib\\site-packages\\scipy\\stats\\_distn_infrastructure.py:2099: RuntimeWarning: invalid value encountered in multiply\n",
      "  upper_bound = _b * scale + loc\n",
      "C:\\Users\\ethan\\.conda\\envs\\cuda11\\lib\\site-packages\\scipy\\stats\\_distn_infrastructure.py:2098: RuntimeWarning: invalid value encountered in multiply\n",
      "  lower_bound = _a * scale + loc\n",
      "C:\\Users\\ethan\\.conda\\envs\\cuda11\\lib\\site-packages\\scipy\\stats\\_distn_infrastructure.py:2099: RuntimeWarning: invalid value encountered in multiply\n",
      "  upper_bound = _b * scale + loc\n",
      "C:\\Users\\ethan\\.conda\\envs\\cuda11\\lib\\site-packages\\scipy\\stats\\_distn_infrastructure.py:2098: RuntimeWarning: invalid value encountered in multiply\n",
      "  lower_bound = _a * scale + loc\n",
      "C:\\Users\\ethan\\.conda\\envs\\cuda11\\lib\\site-packages\\scipy\\stats\\_distn_infrastructure.py:2099: RuntimeWarning: invalid value encountered in multiply\n",
      "  upper_bound = _b * scale + loc\n",
      "C:\\Users\\ethan\\.conda\\envs\\cuda11\\lib\\site-packages\\scipy\\stats\\_distn_infrastructure.py:2098: RuntimeWarning: invalid value encountered in multiply\n",
      "  lower_bound = _a * scale + loc\n",
      "C:\\Users\\ethan\\.conda\\envs\\cuda11\\lib\\site-packages\\scipy\\stats\\_distn_infrastructure.py:2099: RuntimeWarning: invalid value encountered in multiply\n",
      "  upper_bound = _b * scale + loc\n",
      "C:\\Users\\ethan\\.conda\\envs\\cuda11\\lib\\site-packages\\scipy\\stats\\_distn_infrastructure.py:2098: RuntimeWarning: invalid value encountered in multiply\n",
      "  lower_bound = _a * scale + loc\n",
      "C:\\Users\\ethan\\.conda\\envs\\cuda11\\lib\\site-packages\\scipy\\stats\\_distn_infrastructure.py:2099: RuntimeWarning: invalid value encountered in multiply\n",
      "  upper_bound = _b * scale + loc\n"
     ]
    }
   ],
   "source": [
    "# SVD domain mixing scores and I/O corr ranks over training\n",
    "\n",
    "fig, axs = dda.auto_subplots(2, 1, ax_dims=(8, 4))\n",
    " \n",
    "for ax, fn in zip(axs.ravel(), [dda.plot_domain_mixing_scores, dda.plot_io_corr_ranks]):\n",
    "    for i, (label, res) in enumerate(curr_sets.items()):\n",
    "        fn(ax, res, label=label)\n",
    "#     ax.legend()\n",
    "axs.ravel()[0].legend()\n",
    "\n",
    "fig.tight_layout()\n",
    "plt.show()"
   ]
  },
  {
   "cell_type": "code",
   "execution_count": 69,
   "metadata": {
    "pycharm": {
     "name": "#%%\n"
    }
   },
   "outputs": [
    {
     "data": {
      "image/png": "[encoded data removed]",
      "text/plain": [
       "<Figure size 648x432 with 2 Axes>"
      ]
     },
     "metadata": {
      "needs_background": "light"
     },
     "output_type": "display_data"
    }
   ],
   "source": [
    "# Plot loss, accuracy, and test accuracy - normal version\n",
    "plot_types = ['loss', 'weighted_acc'] #, 'test_weighted_acc']\n",
    "fig, axs = dda.make_plot_grid(len(plot_types),\n",
    "                              1, ax_dims=(9, 3),\n",
    "                              ravel=True) #, prop_cycle=prop_cycle)\n",
    "\n",
    "for i, (label, res) in enumerate(curr_sets.items()):\n",
    "    for ax, ptype in zip(axs, plot_types):\n",
    "        dda.plot_report(ax, res, ptype, label=label)\n",
    "\n",
    "# for ax in axs:\n",
    "#     ax.legend()\n",
    "axs[0].legend()\n",
    "\n",
    "fig.tight_layout()\n",
    "plt.show()"
   ]
  },
  {
   "cell_type": "code",
   "execution_count": 30,
   "metadata": {
    "pycharm": {
     "name": "#%%\n"
    }
   },
   "outputs": [
    {
     "data": {
      "application/vnd.jupyter.widget-view+json": {
       "model_id": "f01f87bfda1743118087f1678c43486c",
       "version_major": 2,
       "version_minor": 0
      },
      "text/plain": [
       "Canvas(toolbar=Toolbar(toolitems=[('Home', 'Reset original view', 'home', 'home'), ('Back', 'Back to previous …"
      ]
     },
     "metadata": {},
     "output_type": "display_data"
    }
   ],
   "source": [
    "# Plot loss, accuracy, and test accuracy - hold-out test version\n",
    "plot_types = ['loss', 'weighted_acc']\n",
    "fig, axs = dda.make_plot_grid(len(plot_types) + 4,\n",
    "                              1, ax_dims=(9, 3),\n",
    "                              ravel=True, prop_cycle=prop_cycle)\n",
    "\n",
    "for i, (label, res) in enumerate(curr_sets.items()):\n",
    "    for ax, ptype in zip(axs, plot_types):\n",
    "        dda.plot_report(ax, res, ptype, label=label)\n",
    "        \n",
    "    etg_ax = axs[2 + i % len(cluster_types)]\n",
    "    type1 = label.split()[0]\n",
    "    type2 = label.split()[-1]\n",
    "    if type1 == type2:\n",
    "        linewidth = 2\n",
    "    else:\n",
    "        linewidth = 0.25\n",
    "    dda.plot_report(etg_ax, res, 'etg_domain', label=label, lw=linewidth)\n",
    "\n",
    "for ax in axs[:2]:\n",
    "    dda.outside_legend(ax, fontsize='x-small', ncol=2)\n",
    "\n",
    "for ax in axs[2:]:\n",
    "    ax.legend(ncol=2)\n",
    "    ax.set_xlabel('Epochs training domains 1-3')\n",
    "    ax.set_ylabel('Epochs to 85% on 4th domain')\n",
    "    curr_ylims = ax.get_ylim()\n",
    "    ax.set_ylim((curr_ylims[0], curr_ylims[1] * 1.2))\n",
    "\n",
    "fig.tight_layout()\n",
    "plt.show()"
   ]
  },
  {
   "cell_type": "code",
   "execution_count": 10,
   "metadata": {},
   "outputs": [
    {
     "data": {
      "application/vnd.jupyter.widget-view+json": {
       "model_id": "c082d5ca95e2454284e1ef6d33c2472b",
       "version_major": 2,
       "version_minor": 0
      },
      "text/plain": [
       "Canvas(toolbar=Toolbar(toolitems=[('Home', 'Reset original view', 'home', 'home'), ('Back', 'Back to previous …"
      ]
     },
     "metadata": {},
     "output_type": "display_data"
    }
   ],
   "source": [
    "# Plot hypothesized item distance measures on training data that representation distances may correspond to\n",
    "dist_fns = [dda.get_svd_dist_mats, dda.get_attr_freq_dist_mats]\n",
    "dist_fn_names = ['SVD mode distance', 'Mean attr freq difference']\n",
    "\n",
    "fig, axss = dda.auto_subplots(len(dist_fns), n_curr)\n",
    "fig.suptitle('Hypothesized item distance metrics')\n",
    "\n",
    "for fn, fn_name, axs in zip(dist_fns, dist_fn_names, axss):\n",
    "    for (label, res), ax in zip(curr_sets.items(), axs):\n",
    "        dist_mats = fn(res)\n",
    "        input_names = dda._get_names_for_snapshots('item', **res['net_params'])\n",
    "        im = dda.plot_matrix_with_labels(ax, np.mean(dist_mats, axis=0), input_names)\n",
    "        ax.set_title(f'{fn_name}\\n({label})')\n",
    "        for label in ax.get_xticklabels() + ax.get_yticklabels():\n",
    "            label.set_fontsize('x-small')\n",
    "\n",
    "fig.tight_layout(rect=(0, 0, 1, 0.98))\n",
    "# fig.canvas.layout.width = '1300px'\n",
    "plt.show()"
   ]
  },
  {
   "cell_type": "code",
   "execution_count": 42,
   "metadata": {},
   "outputs": [],
   "source": [
    "# axs[2].set_xscale('log')\n",
    "# axs[2].get_legend().remove()\n",
    "# ylims = axs[2].get_ylim()\n",
    "# snap_epochs = curr_sets['Original']['snap_epochs']\n",
    "# for ind in [0, 1, 5, 10, 50, 100]:\n",
    "#     epoch = snap_epochs[ind]\n",
    "#     axs[2].plot([epoch, epoch], ylims, 'k--')\n",
    "\n",
    "# plt.show()"
   ]
  },
  {
   "cell_type": "code",
   "execution_count": 33,
   "metadata": {
    "pycharm": {
     "name": "#%%\n"
    }
   },
   "outputs": [
    {
     "data": {
      "application/vnd.jupyter.widget-view+json": {
       "model_id": "95f2133494844e4db11930a97325d54a",
       "version_major": 2,
       "version_minor": 0
      },
      "text/plain": [
       "Canvas(toolbar=Toolbar(toolitems=[('Home', 'Reset original view', 'home', 'home'), ('Back', 'Back to previous …"
      ]
     },
     "metadata": {},
     "output_type": "display_data"
    }
   ],
   "source": [
    "# Item RSA matrices\n",
    "\n",
    "# this and commented parts are for plotting just one run rather than the mean\n",
    "run_num = 0\n",
    "\n",
    "inds_to_plot = np.arange(0, 1000, 20)\n",
    "# layers = ['item', 'item_hidden']\n",
    "layer_names = {'item': 'Item repr.', 'item_hidden': 'Hidden'}\n",
    "layer = 'item_hidden'\n",
    "fig, axss = dda.auto_subplots(len(inds_to_plot), n_curr, ax_dims=(3,3))\n",
    "# fig, axss = dda.auto_subplots(len(layers), len(inds_to_plot))\n",
    "# fig.suptitle(f'Mean {load_settings[\"dist_metric\"]} distance') # for {layer}') #, run {run_num}')\n",
    "\n",
    "# for layer, axs in zip(layers, axss):\n",
    "for ind, axs in zip(inds_to_plot, axss):\n",
    "    for (label, res), ax in zip(curr_sets.items(), axs):            \n",
    "#         label = 'Original'\n",
    "        res = curr_sets[label]\n",
    "#     for layer, ax in zip(layers, axs):\n",
    "        if ind < len(res['snap_epochs']):\n",
    "            dda.plot_rsa(ax, res, layer, ind, title_addon=f'{label}, {layer_names[layer]}',\n",
    "                      rsa_mat=res['repr_dists']['item_full']['snaps_each'][run_num, ind])\n",
    "\n",
    "fig.tight_layout(rect=(0, 0, 1, 0.98))\n",
    "plt.show()"
   ]
  },
  {
   "cell_type": "code",
   "execution_count": 4,
   "metadata": {},
   "outputs": [
    {
     "data": {
      "application/vnd.jupyter.widget-view+json": {
       "model_id": "8c4c99db69f64fc5bd3c0e5eb13d5a6c",
       "version_major": 2,
       "version_minor": 0
      },
      "text/plain": [
       "Canvas(toolbar=Toolbar(toolitems=[('Home', 'Reset original view', 'home', 'home'), ('Back', 'Back to previous …"
      ]
     },
     "metadata": {},
     "output_type": "display_data"
    }
   ],
   "source": [
    "# SVD loading matrices\n",
    "\n",
    "run_num = 0\n",
    "inds_to_plot = np.arange(0, 1000, 20)\n",
    "n_modes = 12\n",
    "\n",
    "fig, axss = dda.auto_subplots(len(inds_to_plot), n_curr, ax_dims=(3,3))\n",
    "for ind, axs in zip(inds_to_plot, axss):\n",
    "    for (label, res), ax in zip(curr_sets.items(), axs):\n",
    "        res = curr_sets[label]\n",
    "        if ind < len(res['snap_epochs']):\n",
    "            dda.plot_item_svd_loadings(ax, res, ind, run_num, n_modes=n_modes, title_addon=label)\n",
    "            \n",
    "fig.tight_layout(rect=(0, 0, 1, 0.98))\n",
    "plt.show()"
   ]
  },
  {
   "cell_type": "code",
   "execution_count": 34,
   "metadata": {
    "collapsed": true,
    "jupyter": {
     "outputs_hidden": true
    }
   },
   "outputs": [
    {
     "data": {
      "application/vnd.jupyter.widget-view+json": {
       "model_id": "44021bccea254cd7814baa698f238c9b",
       "version_major": 2,
       "version_minor": 0
      },
      "text/plain": [
       "Canvas(toolbar=Toolbar(toolitems=[('Home', 'Reset original view', 'home', 'home'), ('Back', 'Back to previous …"
      ]
     },
     "metadata": {},
     "output_type": "display_data"
    }
   ],
   "source": [
    "# Plot regressors for quantitative analysis of item correlations\n",
    "dist_fns = [lambda x: dda.get_svd_dist_mats(x, normalize=True),\n",
    "            lambda x: dda.get_attr_freq_dist_mats(x, normalize=True) - dda.get_svd_dist_mats(x, normalize=True)]\n",
    "dist_fn_names = ['SVD mode distance (normalized)', 'Attr freq difference (normalized) - \\n SVD mode distance (normalized)']\n",
    "\n",
    "fig, axss = dda.auto_subplots(len(dist_fns), n_curr)\n",
    "fig.suptitle('Item distance regressors')\n",
    "\n",
    "for fn, fn_name, axs in zip(dist_fns, dist_fn_names, axss):\n",
    "    for (label, res), ax in zip(curr_sets.items(), axs):\n",
    "        dist_mats = fn(res)\n",
    "        input_names = dda._get_names_for_snapshots('item', **res['net_params'])\n",
    "        im = dda.plot_matrix_with_labels(ax, np.mean(dist_mats, axis=0), input_names)\n",
    "        ax.set_title(f'{fn_name}\\n({label})')\n",
    "        for label in ax.get_xticklabels() + ax.get_yticklabels():\n",
    "            label.set_fontsize('x-small')\n",
    "\n",
    "fig.tight_layout(rect=(0, 0, 1, 0.98))\n",
    "fig.canvas.layout.width = '1300px'\n",
    "plt.show()"
   ]
  },
  {
   "cell_type": "code",
   "execution_count": 182,
   "metadata": {},
   "outputs": [
    {
     "data": {
      "application/vnd.jupyter.widget-view+json": {
       "model_id": "f4349f334422478b9c7290bd75b4a055",
       "version_major": 2,
       "version_minor": 0
      },
      "text/plain": [
       "Canvas(toolbar=Toolbar(toolitems=[('Home', 'Reset original view', 'home', 'home'), ('Back', 'Back to previous …"
      ]
     },
     "metadata": {},
     "output_type": "display_data"
    },
    {
     "data": {
      "text/plain": [
       "Text(0.5, 0.98, 'Attribute frequency similarity')"
      ]
     },
     "execution_count": 182,
     "metadata": {},
     "output_type": "execute_result"
    }
   ],
   "source": [
    "# Show attribute frequency measure (to compare to above RDMs)\n",
    "run_num = 0\n",
    "#train_items = slice(24)\n",
    "train_items=slice(None)\n",
    "\n",
    "fig, axs = dda.make_plot_grid(n_curr, n_curr, ax_dims=(3.5, 3.5))\n",
    "for (label, res), ax in zip(curr_sets.items(), axs):\n",
    "    attr_freq_dist = dda.get_attr_freq_dist_mats(res, train_items=train_items)\n",
    "    input_names = dda._get_names_for_snapshots('item_full', **res['net_params'])\n",
    "    dda.plot_matrix_with_labels(ax, attr_freq_dist[run_num], input_names[train_items])\n",
    "    ax.set_title(f'{label}, run {run_num}')\n",
    "    \n",
    "fig.suptitle('Attribute frequency similarity')"
   ]
  },
  {
   "cell_type": "code",
   "execution_count": 152,
   "metadata": {},
   "outputs": [
    {
     "data": {
      "application/vnd.jupyter.widget-view+json": {
       "model_id": "25ef8dfde9dc40f59533f2c80f92321e",
       "version_major": 2,
       "version_minor": 0
      },
      "text/plain": [
       "Canvas(toolbar=Toolbar(toolitems=[('Home', 'Reset original view', 'home', 'home'), ('Back', 'Back to previous …"
      ]
     },
     "metadata": {},
     "output_type": "display_data"
    },
    {
     "data": {
      "text/plain": [
       "<matplotlib.legend.Legend at 0x1e64e5e5af0>"
      ]
     },
     "execution_count": 152,
     "metadata": {},
     "output_type": "execute_result"
    }
   ],
   "source": [
    "# Try correlating attribute frequency measure to RDMs\n",
    "fig, ax = plt.subplots(figsize=(8, 4))\n",
    "for label, res in curr_sets.items():\n",
    "    dda.plot_attr_freq_dist_correlation(ax, res, label=label, train_items=train_items)\n",
    "    \n",
    "ax.set_xlim([0, 2001])\n",
    "ax.legend()"
   ]
  },
  {
   "cell_type": "code",
   "execution_count": 47,
   "metadata": {},
   "outputs": [
    {
     "data": {
      "application/vnd.jupyter.widget-view+json": {
       "model_id": "fb64fcf05e9d472d97c2ca336fdc7ed3",
       "version_major": 2,
       "version_minor": 0
      },
      "text/plain": [
       "Canvas(toolbar=Toolbar(toolitems=[('Home', 'Reset original view', 'home', 'home'), ('Back', 'Back to previous …"
      ]
     },
     "metadata": {},
     "output_type": "display_data"
    }
   ],
   "source": [
    "# Dendrograms for just original\n",
    "fig, axs = dda.auto_subplots(1, len(inds_to_plot), ax_dims=(4.5, 3.5))\n",
    "for ind, ax in zip(inds_to_plot, axs.ravel()):\n",
    "    dda.plot_repr_dendrogram(ax, curr_sets['Original'], 'item', ind)\n",
    "    \n",
    "fig.tight_layout()\n",
    "plt.show()"
   ]
  },
  {
   "cell_type": "code",
   "execution_count": 15,
   "metadata": {
    "collapsed": false,
    "jupyter": {
     "outputs_hidden": false
    },
    "pycharm": {
     "name": "#%%\n"
    }
   },
   "outputs": [
    {
     "data": {
      "application/vnd.jupyter.widget-view+json": {
       "model_id": "52639feeb1ae4e5ea3b8a5bdabf111b2",
       "version_major": 2,
       "version_minor": 0
      },
      "text/plain": [
       "Canvas(toolbar=Toolbar(toolitems=[('Home', 'Reset original view', 'home', 'home'), ('Back', 'Back to previous …"
      ]
     },
     "metadata": {},
     "output_type": "display_data"
    }
   ],
   "source": [
    "# Corresponding dendrograms\n",
    "fig, axss = dda.auto_subplots(len(inds_to_plot), n_curr, ax_dims=(4, 3))\n",
    "fig.suptitle('Item representation similarity')\n",
    "\n",
    "for ind, axs in zip(inds_to_plot, axss):\n",
    "    for (label, res), ax in zip(curr_sets.items(), axs):\n",
    "        dda.plot_repr_dendrogram(ax, res, 'item_hidden', ind, title_addon=label)\n",
    "\n",
    "fig.tight_layout()\n",
    "plt.show()"
   ]
  },
  {
   "cell_type": "code",
   "execution_count": 5,
   "metadata": {},
   "outputs": [
    {
     "data": {
      "application/vnd.jupyter.widget-view+json": {
       "model_id": "3c451beff485412d9098d1121ef85a9f",
       "version_major": 2,
       "version_minor": 0
      },
      "text/plain": [
       "Canvas(toolbar=Toolbar(toolitems=[('Home', 'Reset original view', 'home', 'home'), ('Back', 'Back to previous …"
      ]
     },
     "metadata": {},
     "output_type": "display_data"
    }
   ],
   "source": [
    "# Look at RSA projections onto group, domain, and item models\n",
    "# First plot the models\n",
    "item_models = dda.make_ortho_item_rsa_models(**next(iter(curr_sets.values()))['net_params'])\n",
    "\n",
    "fig, axs = dda.auto_subplots(1, (len(item_models)), ax_dims=(3.4, 3.4))\n",
    "for ax, (mtype, model) in zip(axs.ravel(), item_models.items()):\n",
    "    dda.plot_matrix_with_input_labels(ax, model, 'item')\n",
    "    for label in ax.get_xticklabels() + ax.get_yticklabels():\n",
    "        label.set_fontsize('x-small') \n",
    "    ax.set_title(mtype + ' model RDM')\n",
    "    \n",
    "# fig.canvas.layout.width = '1300px'\n",
    "fig.tight_layout()\n",
    "plt.show()"
   ]
  },
  {
   "cell_type": "code",
   "execution_count": 12,
   "metadata": {
    "collapsed": true,
    "jupyter": {
     "outputs_hidden": true
    }
   },
   "outputs": [
    {
     "ename": "AssertionError",
     "evalue": "Wrong number of labels",
     "output_type": "error",
     "traceback": [
      "\u001b[1;31m---------------------------------------------------------------------------\u001b[0m",
      "\u001b[1;31mAssertionError\u001b[0m                            Traceback (most recent call last)",
      "\u001b[1;32m<ipython-input-12-a9b531e65cd3>\u001b[0m in \u001b[0;36m<module>\u001b[1;34m\u001b[0m\n\u001b[0;32m      6\u001b[0m \u001b[0mfig\u001b[0m\u001b[1;33m,\u001b[0m \u001b[0maxs\u001b[0m \u001b[1;33m=\u001b[0m \u001b[0mdda\u001b[0m\u001b[1;33m.\u001b[0m\u001b[0mauto_subplots\u001b[0m\u001b[1;33m(\u001b[0m\u001b[1;36m1\u001b[0m\u001b[1;33m,\u001b[0m \u001b[0mlen\u001b[0m\u001b[1;33m(\u001b[0m\u001b[0mctx_models\u001b[0m\u001b[1;33m)\u001b[0m\u001b[1;33m,\u001b[0m \u001b[0max_dims\u001b[0m\u001b[1;33m=\u001b[0m\u001b[1;33m(\u001b[0m\u001b[1;36m3.4\u001b[0m\u001b[1;33m,\u001b[0m \u001b[1;36m3.4\u001b[0m\u001b[1;33m)\u001b[0m\u001b[1;33m)\u001b[0m\u001b[1;33m\u001b[0m\u001b[1;33m\u001b[0m\u001b[0m\n\u001b[0;32m      7\u001b[0m \u001b[1;32mfor\u001b[0m \u001b[0max\u001b[0m\u001b[1;33m,\u001b[0m \u001b[1;33m(\u001b[0m\u001b[0mmtype\u001b[0m\u001b[1;33m,\u001b[0m \u001b[0mmodel\u001b[0m\u001b[1;33m)\u001b[0m \u001b[1;32min\u001b[0m \u001b[0mzip\u001b[0m\u001b[1;33m(\u001b[0m\u001b[0maxs\u001b[0m\u001b[1;33m.\u001b[0m\u001b[0mravel\u001b[0m\u001b[1;33m(\u001b[0m\u001b[1;33m)\u001b[0m\u001b[1;33m,\u001b[0m \u001b[0mctx_models\u001b[0m\u001b[1;33m.\u001b[0m\u001b[0mitems\u001b[0m\u001b[1;33m(\u001b[0m\u001b[1;33m)\u001b[0m\u001b[1;33m)\u001b[0m\u001b[1;33m:\u001b[0m\u001b[1;33m\u001b[0m\u001b[1;33m\u001b[0m\u001b[0m\n\u001b[1;32m----> 8\u001b[1;33m     \u001b[0mdda\u001b[0m\u001b[1;33m.\u001b[0m\u001b[0mplot_rsa_model\u001b[0m\u001b[1;33m(\u001b[0m\u001b[0max\u001b[0m\u001b[1;33m,\u001b[0m \u001b[0mmodel\u001b[0m\u001b[1;33m,\u001b[0m \u001b[0minput_type\u001b[0m\u001b[1;33m=\u001b[0m\u001b[1;34m'context'\u001b[0m\u001b[1;33m)\u001b[0m\u001b[1;33m\u001b[0m\u001b[1;33m\u001b[0m\u001b[0m\n\u001b[0m\u001b[0;32m      9\u001b[0m     \u001b[1;32mfor\u001b[0m \u001b[0mlabel\u001b[0m \u001b[1;32min\u001b[0m \u001b[0max\u001b[0m\u001b[1;33m.\u001b[0m\u001b[0mget_xticklabels\u001b[0m\u001b[1;33m(\u001b[0m\u001b[1;33m)\u001b[0m \u001b[1;33m+\u001b[0m \u001b[0max\u001b[0m\u001b[1;33m.\u001b[0m\u001b[0mget_yticklabels\u001b[0m\u001b[1;33m(\u001b[0m\u001b[1;33m)\u001b[0m\u001b[1;33m:\u001b[0m\u001b[1;33m\u001b[0m\u001b[1;33m\u001b[0m\u001b[0m\n\u001b[0;32m     10\u001b[0m         \u001b[0mlabel\u001b[0m\u001b[1;33m.\u001b[0m\u001b[0mset_fontsize\u001b[0m\u001b[1;33m(\u001b[0m\u001b[1;34m'x-small'\u001b[0m\u001b[1;33m)\u001b[0m\u001b[1;33m\u001b[0m\u001b[1;33m\u001b[0m\u001b[0m\n",
      "\u001b[1;32mD:\\Ethan\\anna_stuff\\disjoint-domain\\dd_analysis.py\u001b[0m in \u001b[0;36mplot_rsa_model\u001b[1;34m(ax, model, input_type)\u001b[0m\n\u001b[0;32m    546\u001b[0m     \u001b[0mnames\u001b[0m \u001b[1;33m=\u001b[0m \u001b[0m_get_names_for_snapshots\u001b[0m\u001b[1;33m(\u001b[0m\u001b[0minput_type\u001b[0m\u001b[1;33m)\u001b[0m\u001b[1;33m\u001b[0m\u001b[1;33m\u001b[0m\u001b[0m\n\u001b[0;32m    547\u001b[0m     \u001b[0mmax_absval\u001b[0m \u001b[1;33m=\u001b[0m \u001b[0mnp\u001b[0m\u001b[1;33m.\u001b[0m\u001b[0mmax\u001b[0m\u001b[1;33m(\u001b[0m\u001b[0mnp\u001b[0m\u001b[1;33m.\u001b[0m\u001b[0mabs\u001b[0m\u001b[1;33m(\u001b[0m\u001b[0mmodel\u001b[0m\u001b[1;33m)\u001b[0m\u001b[1;33m)\u001b[0m\u001b[1;33m\u001b[0m\u001b[1;33m\u001b[0m\u001b[0m\n\u001b[1;32m--> 548\u001b[1;33m     \u001b[1;32mreturn\u001b[0m \u001b[0mplot_matrix_with_labels\u001b[0m\u001b[1;33m(\u001b[0m\u001b[0max\u001b[0m\u001b[1;33m,\u001b[0m \u001b[0mmodel\u001b[0m\u001b[1;33m,\u001b[0m \u001b[0mnames\u001b[0m\u001b[1;33m,\u001b[0m \u001b[0mcmap\u001b[0m\u001b[1;33m=\u001b[0m\u001b[1;34m'seismic'\u001b[0m\u001b[1;33m,\u001b[0m \u001b[0mvmin\u001b[0m\u001b[1;33m=\u001b[0m\u001b[1;33m-\u001b[0m\u001b[0mmax_absval\u001b[0m\u001b[1;33m,\u001b[0m \u001b[0mvmax\u001b[0m\u001b[1;33m=\u001b[0m\u001b[0mmax_absval\u001b[0m\u001b[1;33m)\u001b[0m\u001b[1;33m\u001b[0m\u001b[1;33m\u001b[0m\u001b[0m\n\u001b[0m\u001b[0;32m    549\u001b[0m \u001b[1;33m\u001b[0m\u001b[0m\n\u001b[0;32m    550\u001b[0m \u001b[1;33m\u001b[0m\u001b[0m\n",
      "\u001b[1;32mD:\\Ethan\\anna_stuff\\disjoint-domain\\dd_analysis.py\u001b[0m in \u001b[0;36mplot_matrix_with_labels\u001b[1;34m(ax, mat, labels, colorbar, **imshow_params)\u001b[0m\n\u001b[0;32m    245\u001b[0m     \u001b[0mn\u001b[0m \u001b[1;33m=\u001b[0m \u001b[0mlen\u001b[0m\u001b[1;33m(\u001b[0m\u001b[0mlabels\u001b[0m\u001b[1;33m)\u001b[0m\u001b[1;33m\u001b[0m\u001b[1;33m\u001b[0m\u001b[0m\n\u001b[0;32m    246\u001b[0m     \u001b[1;32massert\u001b[0m \u001b[0mmat\u001b[0m\u001b[1;33m.\u001b[0m\u001b[0mshape\u001b[0m\u001b[1;33m[\u001b[0m\u001b[1;36m0\u001b[0m\u001b[1;33m]\u001b[0m \u001b[1;33m==\u001b[0m \u001b[0mmat\u001b[0m\u001b[1;33m.\u001b[0m\u001b[0mshape\u001b[0m\u001b[1;33m[\u001b[0m\u001b[1;36m1\u001b[0m\u001b[1;33m]\u001b[0m\u001b[1;33m,\u001b[0m \u001b[1;34m'Matrix must be square'\u001b[0m\u001b[1;33m\u001b[0m\u001b[1;33m\u001b[0m\u001b[0m\n\u001b[1;32m--> 247\u001b[1;33m     \u001b[1;32massert\u001b[0m \u001b[0mn\u001b[0m \u001b[1;33m==\u001b[0m \u001b[0mmat\u001b[0m\u001b[1;33m.\u001b[0m\u001b[0mshape\u001b[0m\u001b[1;33m[\u001b[0m\u001b[1;36m0\u001b[0m\u001b[1;33m]\u001b[0m\u001b[1;33m,\u001b[0m \u001b[1;34m'Wrong number of labels'\u001b[0m\u001b[1;33m\u001b[0m\u001b[1;33m\u001b[0m\u001b[0m\n\u001b[0m\u001b[0;32m    248\u001b[0m \u001b[1;33m\u001b[0m\u001b[0m\n\u001b[0;32m    249\u001b[0m     \u001b[0mimage\u001b[0m \u001b[1;33m=\u001b[0m \u001b[0max\u001b[0m\u001b[1;33m.\u001b[0m\u001b[0mimshow\u001b[0m\u001b[1;33m(\u001b[0m\u001b[0mmat\u001b[0m\u001b[1;33m,\u001b[0m \u001b[1;33m**\u001b[0m\u001b[0mimshow_params\u001b[0m\u001b[1;33m)\u001b[0m\u001b[1;33m\u001b[0m\u001b[1;33m\u001b[0m\u001b[0m\n",
      "\u001b[1;31mAssertionError\u001b[0m: Wrong number of labels"
     ]
    },
    {
     "data": {
      "image/png": "[encoded data removed]",
      "text/plain": [
       "<Figure size 489.6x244.8 with 2 Axes>"
      ]
     },
     "metadata": {
      "needs_background": "light"
     },
     "output_type": "display_data"
    }
   ],
   "source": [
    "# Context hidden layer projections\n",
    "# First plot models\n",
    "ctx_models = dda.make_ortho_context_rsa_models(**next(iter(curr_sets.values()))['net_params'])\n",
    "\n",
    "fig, axs = dda.auto_subplots(1, len(ctx_models), ax_dims=(3.4, 3.4))\n",
    "for ax, (mtype, model) in zip(axs.ravel(), ctx_models.items()):\n",
    "    dda.plot_matrix_with_input_labels(ax, model, 'context')\n",
    "    for label in ax.get_xticklabels() + ax.get_yticklabels():\n",
    "        label.set_fontsize('x-small') \n",
    "    ax.set_title(mtype + ' model RDM')\n",
    "    \n",
    "fig.tight_layout()\n",
    "plt.show()"
   ]
  },
  {
   "cell_type": "code",
   "execution_count": 27,
   "metadata": {
    "collapsed": true,
    "jupyter": {
     "outputs_hidden": true
    }
   },
   "outputs": [
    {
     "data": {
      "image/png": "[encoded data removed]",
      "text/plain": [
       "<Figure size 648x864 with 4 Axes>"
      ]
     },
     "metadata": {},
     "output_type": "display_data"
    }
   ],
   "source": [
    "def plot_snap_projections(snap_type):\n",
    "    n_plots = len(item_models) if 'item' in snap_type else len(ctx_models)\n",
    "    fig, axs = dda.make_plot_grid(n_plots, 1, ax_dims=(9, 3),\n",
    "                                  ravel=True, prop_cycle=prop_cycle)\n",
    "\n",
    "    for label, res in curr_sets.items():\n",
    "        if snap_type in res['repr_dists']:\n",
    "            dda.plot_rdm_projections(res, snap_type, axs, label=label)\n",
    "\n",
    "    for ax in axs:\n",
    "        dda.outside_legend(ax)\n",
    "\n",
    "    fig.tight_layout()\n",
    "    plt.show()\n",
    "\n",
    "# Item hidden layer projections\n",
    "plot_snap_projections('item_hidden')"
   ]
  },
  {
   "cell_type": "code",
   "execution_count": 6,
   "metadata": {},
   "outputs": [
    {
     "data": {
      "application/vnd.jupyter.widget-view+json": {
       "model_id": "6ade1342b04547e8b8fb2c1485190015",
       "version_major": 2,
       "version_minor": 0
      },
      "text/plain": [
       "Canvas(toolbar=Toolbar(toolitems=[('Home', 'Reset original view', 'home', 'home'), ('Back', 'Back to previous …"
      ]
     },
     "metadata": {},
     "output_type": "display_data"
    }
   ],
   "source": [
    "# Try correlating each 2x2 item_hidden corr matrix with individual SVD and/or attr freq distance, as applicable\n",
    "colors = [d['color'] for d in list(col_cycle)]\n",
    "linestyles = ['-', '--']\n",
    "\n",
    "fig, ax = plt.subplots()\n",
    "ax.set_title(f'Correlation of hidden-layer item {load_settings[\"dist_metric\"]} \\n' +\n",
    "             'distances with SVD and attribute frequency models')\n",
    "\n",
    "def get_model_corrs(res, svd=True, attr_freq=True):\n",
    "    models = dict()\n",
    "    if svd:\n",
    "        models['svd'] = dda.center_and_norm_rdm(\n",
    "            np.mean(dda.get_svd_dist_mats(res), axis=0))\n",
    "    if attr_freq:\n",
    "        models['attr_freq'] = dda.center_and_norm_rdm(\n",
    "            np.mean(dda.get_attr_freq_dist_mats(res), axis=0))\n",
    "    return dda.get_rdm_projections(res, snap_type='item_hidden', models=models)\n",
    "\n",
    "def plot_corr_ci(res, corr, label, color, style):\n",
    "    mean, (lower, upper) = dda.get_mean_and_ci(corr)\n",
    "    ax.plot(res['snap_epochs'], mean, label=label, color=color, linestyle=style)\n",
    "    ax.fill_between(res['snap_epochs'], lower, upper, alpha=0.3, color=color, linestyle=style)\n",
    "\n",
    "# clustered, unequal freq.\n",
    "res = curr_sets['Clustered, unequal freq.']\n",
    "clust_uneq_corrs = get_model_corrs(res, svd=True, attr_freq=True)\n",
    "plot_corr_ci(res, clust_uneq_corrs['svd'], 'Clustered, unequal freq. - SVD',\n",
    "             colors[0], linestyles[0])\n",
    "plot_corr_ci(res, clust_uneq_corrs['attr_freq'], 'Clustered, unequal freq. - attr. freq.',\n",
    "             colors[0], linestyles[1])\n",
    "\n",
    "# clustered, equal freq.\n",
    "res = curr_sets['Clustered, equal freq.']\n",
    "clust_eq_corrs = get_model_corrs(res, svd=True, attr_freq=False)\n",
    "plot_corr_ci(res, clust_eq_corrs['svd'], 'Clustered, equal freq. - SVD',\n",
    "             colors[1], linestyles[0])\n",
    "\n",
    "# flat, unequal freq.\n",
    "res = curr_sets['Flat, unequal freq.']\n",
    "flat_uneq_corrs = get_model_corrs(res, svd=False, attr_freq=True)\n",
    "plot_corr_ci(res, flat_uneq_corrs['attr_freq'], 'Flat, unequal freq. - attr. freq.',\n",
    "             colors[2], linestyles[1])\n",
    "\n",
    "ax.legend()\n",
    "plt.show()"
   ]
  },
  {
   "cell_type": "code",
   "execution_count": 88,
   "metadata": {},
   "outputs": [
    {
     "data": {
      "application/vnd.jupyter.widget-view+json": {
       "model_id": "38a3dbd333fb4176a339db27a522006b",
       "version_major": 2,
       "version_minor": 0
      },
      "text/plain": [
       "Canvas(toolbar=Toolbar(toolitems=[('Home', 'Reset original view', 'home', 'home'), ('Back', 'Back to previous …"
      ]
     },
     "metadata": {},
     "output_type": "display_data"
    }
   ],
   "source": [
    "# Item representation layer projections\n",
    "plot_snap_projections('item')"
   ]
  },
  {
   "cell_type": "code",
   "execution_count": 7,
   "metadata": {
    "collapsed": true,
    "jupyter": {
     "outputs_hidden": true
    }
   },
   "outputs": [
    {
     "data": {
      "application/vnd.jupyter.widget-view+json": {
       "model_id": "8e4b24a4723c41e1a27bf337805a0d15",
       "version_major": 2,
       "version_minor": 0
      },
      "text/plain": [
       "Canvas(toolbar=Toolbar(toolitems=[('Home', 'Reset original view', 'home', 'home'), ('Back', 'Back to previous …"
      ]
     },
     "metadata": {},
     "output_type": "display_data"
    }
   ],
   "source": [
    "# All layers item projection\n",
    "plot_snap_projections('item_full')"
   ]
  },
  {
   "cell_type": "code",
   "execution_count": 90,
   "metadata": {},
   "outputs": [
    {
     "data": {
      "application/vnd.jupyter.widget-view+json": {
       "model_id": "1a6b516e31f944219b98365d0961fdc0",
       "version_major": 2,
       "version_minor": 0
      },
      "text/plain": [
       "Canvas(toolbar=Toolbar(toolitems=[('Home', 'Reset original view', 'home', 'home'), ('Back', 'Back to previous …"
      ]
     },
     "metadata": {},
     "output_type": "display_data"
    }
   ],
   "source": [
    "# Context hidden layer projections\n",
    "plot_snap_projections('context_hidden')"
   ]
  },
  {
   "cell_type": "code",
   "execution_count": 91,
   "metadata": {},
   "outputs": [
    {
     "data": {
      "application/vnd.jupyter.widget-view+json": {
       "model_id": "035ffe3f30364d43aa8de8e331ef199a",
       "version_major": 2,
       "version_minor": 0
      },
      "text/plain": [
       "Canvas(toolbar=Toolbar(toolitems=[('Home', 'Reset original view', 'home', 'home'), ('Back', 'Back to previous …"
      ]
     },
     "metadata": {},
     "output_type": "display_data"
    }
   ],
   "source": [
    "# Context representation layer projections\n",
    "plot_snap_projections('context')"
   ]
  },
  {
   "cell_type": "code",
   "execution_count": 88,
   "metadata": {},
   "outputs": [
    {
     "data": {
      "application/vnd.jupyter.widget-view+json": {
       "model_id": "836a08f3af3146a9934271057483ad96",
       "version_major": 2,
       "version_minor": 0
      },
      "text/plain": [
       "Canvas(toolbar=Toolbar(toolitems=[('Home', 'Reset original view', 'home', 'home'), ('Back', 'Back to previous …"
      ]
     },
     "metadata": {},
     "output_type": "display_data"
    }
   ],
   "source": [
    "# All layers context projection\n",
    "plot_snap_projections('context_full')"
   ]
  },
  {
   "cell_type": "code",
   "execution_count": 19,
   "metadata": {},
   "outputs": [
    {
     "data": {
      "application/vnd.jupyter.widget-view+json": {
       "model_id": "cffc0b17c1fc4270b73bd6e69d2940c4",
       "version_major": 2,
       "version_minor": 0
      },
      "text/plain": [
       "Canvas(toolbar=Toolbar(toolitems=[('Home', 'Reset original view', 'home', 'home'), ('Back', 'Back to previous …"
      ]
     },
     "metadata": {},
     "output_type": "display_data"
    }
   ],
   "source": [
    "# special analysis of projections onto cross_domain_group_match model to look at batch size\n",
    "batch_sizes = np.array([res['train_params']['batch_size'] for res in curr_sets.values()])\n",
    "projections = np.stack([np.mean(dda.get_rdm_projections(res, snap_type='item_full')['cross_domain_group_match'], axis=0)\n",
    "                        for res in curr_sets.values()])\n",
    "\n",
    "fig, ax = plt.subplots(figsize=(8, 6))\n",
    "ax.matshow(projections)\n",
    "ax.set_title('Strength of cross-domain (checkerboard) pattern')\n",
    "ax.set_yticks(range(projections.shape[0]))\n",
    "ax.set_yticklabels(batch_sizes)\n",
    "ax.set_ylabel('Batch size')\n",
    "ax.set_xticks(range(0, projections.shape[1], 4))\n",
    "ax.set_xticklabels(curr_sets['B5']['snap_epochs'][::4])\n",
    "ax.set_xlabel('Training epoch')\n",
    "\n",
    "plt.show()"
   ]
  },
  {
   "cell_type": "code",
   "execution_count": 100,
   "metadata": {},
   "outputs": [],
   "source": [
    "# Fit linear models\n",
    "reg_data = dda.make_dict_for_regression(curr_sets.values())"
   ]
  },
  {
   "cell_type": "code",
   "execution_count": 94,
   "metadata": {
    "collapsed": true,
    "jupyter": {
     "outputs_hidden": true
    }
   },
   "outputs": [
    {
     "name": "stdout",
     "output_type": "stream",
     "text": [
      "                            OLS Regression Results                            \n",
      "==============================================================================\n",
      "Dep. Variable:      test_weighted_acc   R-squared:                       0.622\n",
      "Model:                            OLS   Adj. R-squared:                  0.622\n",
      "Method:                 Least Squares   F-statistic:                     5971.\n",
      "Date:                Tue, 08 Dec 2020   Prob (F-statistic):               0.00\n",
      "Time:                        17:46:18   Log-Likelihood:                 21863.\n",
      "No. Observations:               18180   AIC:                        -4.371e+04\n",
      "Df Residuals:                   18174   BIC:                        -4.367e+04\n",
      "Df Model:                           5                                         \n",
      "Covariance Type:            nonrobust                                         \n",
      "==============================================================================================================================\n",
      "                                                                 coef    std err          t      P>|t|      [0.025      0.975]\n",
      "------------------------------------------------------------------------------------------------------------------------------\n",
      "Intercept                                                      0.4602      0.002    275.500      0.000       0.457       0.463\n",
      "ctx_same_vs_different_domain                                   0.0067      0.000     27.872      0.000       0.006       0.007\n",
      "item_attribute_similarity                                     -0.0074      0.000    -34.945      0.000      -0.008      -0.007\n",
      "item_same_vs_different_domain                                  0.0088      0.000     42.185      0.000       0.008       0.009\n",
      "ctx_same_vs_different_domain:item_attribute_similarity         0.0034   4.14e-05     82.683      0.000       0.003       0.004\n",
      "ctx_same_vs_different_domain:item_same_vs_different_domain    -0.0027   5.23e-05    -51.654      0.000      -0.003      -0.003\n",
      "==============================================================================\n",
      "Omnibus:                      284.949   Durbin-Watson:                   0.075\n",
      "Prob(Omnibus):                  0.000   Jarque-Bera (JB):              342.126\n",
      "Skew:                           0.245   Prob(JB):                     5.11e-75\n",
      "Kurtosis:                       3.459   Cond. No.                         279.\n",
      "==============================================================================\n",
      "\n",
      "Notes:\n",
      "[1] Standard Errors assume that the covariance matrix of the errors is correctly specified.\n"
     ]
    }
   ],
   "source": [
    "# Fit model for context domain information interacting with item domain and attribute similarity (both potentially important)\n",
    "model1_res = dda.fit_linear_model('test_weighted_acc ~ ctx_same_vs_different_domain*(item_attribute_similarity + item_same_vs_different_domain)', reg_data)\n",
    "print(model1_res.summary())"
   ]
  },
  {
   "cell_type": "code",
   "execution_count": 101,
   "metadata": {
    "collapsed": true,
    "jupyter": {
     "outputs_hidden": true
    }
   },
   "outputs": [
    {
     "name": "stdout",
     "output_type": "stream",
     "text": [
      "                            OLS Regression Results                            \n",
      "==============================================================================\n",
      "Dep. Variable:      test_weighted_acc   R-squared:                       0.451\n",
      "Model:                            OLS   Adj. R-squared:                  0.450\n",
      "Method:                 Least Squares   F-statistic:                     7451.\n",
      "Date:                Tue, 08 Dec 2020   Prob (F-statistic):               0.00\n",
      "Time:                        18:36:17   Log-Likelihood:                 18472.\n",
      "No. Observations:               18180   AIC:                        -3.694e+04\n",
      "Df Residuals:                   18177   BIC:                        -3.691e+04\n",
      "Df Model:                           2                                         \n",
      "Covariance Type:            nonrobust                                         \n",
      "================================================================================================\n",
      "                                   coef    std err          t      P>|t|      [0.025      0.975]\n",
      "------------------------------------------------------------------------------------------------\n",
      "Intercept                        0.3969      0.002    225.245      0.000       0.393       0.400\n",
      "item_attribute_similarity        0.0069   8.76e-05     78.364      0.000       0.007       0.007\n",
      "ctx_same_vs_different_domain     0.0207      0.000    103.336      0.000       0.020       0.021\n",
      "==============================================================================\n",
      "Omnibus:                     1001.351   Durbin-Watson:                   0.048\n",
      "Prob(Omnibus):                  0.000   Jarque-Bera (JB):              869.952\n",
      "Skew:                           0.467   Prob(JB):                    1.24e-189\n",
      "Kurtosis:                       2.473   Cond. No.                         42.6\n",
      "==============================================================================\n",
      "\n",
      "Notes:\n",
      "[1] Standard Errors assume that the covariance matrix of the errors is correctly specified.\n"
     ]
    }
   ],
   "source": [
    "model2_res = dda.fit_linear_model('test_weighted_acc ~ item_attribute_similarity + ctx_same_vs_different_domain', reg_data)\n",
    "print(model2_res.summary())"
   ]
  },
  {
   "cell_type": "code",
   "execution_count": null,
   "metadata": {},
   "outputs": [],
   "source": [
    "# TODO: Try plotting a combination of item attribute similarity and context domain measures? Not sure if it makes sense."
   ]
  },
  {
   "cell_type": "code",
   "execution_count": 74,
   "metadata": {
    "collapsed": false,
    "jupyter": {
     "outputs_hidden": false
    },
    "pycharm": {
     "name": "#%%\n"
    }
   },
   "outputs": [
    {
     "data": {
      "application/vnd.jupyter.widget-view+json": {
       "model_id": "d4f1271774464b768d276e02755fc05a",
       "version_major": 2,
       "version_minor": 0
      },
      "text/plain": [
       "Canvas(toolbar=Toolbar(toolitems=[('Home', 'Reset original view', 'home', 'home'), ('Back', 'Back to previous …"
      ]
     },
     "metadata": {},
     "output_type": "display_data"
    }
   ],
   "source": [
    "# Context RSA matrix\n",
    "inds_to_plot = [0, 1, 4, 11, 12, 30, 50, -1]\n",
    "fig, axss = dda.auto_subplots(len(inds_to_plot), n_curr, ax_dims=(4, 4))\n",
    "fig.suptitle('Mean RSA for contexts')\n",
    "\n",
    "#ctx_sets = {name: res for name, res in curr_sets.items() if name in ['Original', 'Merged repr', 'No item repr']}\n",
    "\n",
    "for ind, axs in zip(inds_to_plot, axss):\n",
    "    for (label, res), ax in zip(curr_sets.items(), axs):\n",
    "        dda.plot_rsa(ax, res, 'context_hidden', ind, title_addon=label, item_order='domain-inner')\n",
    "\n",
    "fig.tight_layout()\n",
    "plt.show()"
   ]
  },
  {
   "cell_type": "code",
   "execution_count": 60,
   "metadata": {
    "collapsed": false,
    "jupyter": {
     "outputs_hidden": false
    },
    "pycharm": {
     "name": "#%%\n"
    }
   },
   "outputs": [
    {
     "data": {
      "application/vnd.jupyter.widget-view+json": {
       "model_id": "45de38763abe4be6991eb3f2791126a2",
       "version_major": 2,
       "version_minor": 0
      },
      "text/plain": [
       "Canvas(toolbar=Toolbar(toolitems=[('Home', 'Reset original view', 'home', 'home'), ('Back', 'Back to previous …"
      ]
     },
     "metadata": {},
     "output_type": "display_data"
    }
   ],
   "source": [
    "# Corresponding context dendrograms\n",
    "fig, axss = dda.auto_subplots(len(inds_to_plot), n_curr, ax_dims=(4, 3))\n",
    "fig.suptitle('Context representation similarity')\n",
    "\n",
    "for ind, axs in zip(inds_to_plot, axss):\n",
    "    for (label, res), ax in zip(curr_sets.items(), axs):\n",
    "        dda.plot_repr_dendrogram(ax, res, 'context', ind, title_addon=label)\n",
    "\n",
    "fig.tight_layout()\n",
    "plt.show()"
   ]
  },
  {
   "cell_type": "code",
   "execution_count": 79,
   "metadata": {},
   "outputs": [
    {
     "data": {
      "application/vnd.jupyter.widget-view+json": {
       "model_id": "ae007463c1db46b79de995032551b251",
       "version_major": 2,
       "version_minor": 0
      },
      "text/plain": [
       "Canvas(toolbar=Toolbar(toolitems=[('Home', 'Reset original view', 'home', 'home'), ('Back', 'Back to previous …"
      ]
     },
     "metadata": {},
     "output_type": "display_data"
    }
   ],
   "source": [
    "# Item rep RSA over all snapshots (useful maybe for finding interesting change points)\n",
    "fig, axs = dda.make_plot_grid(len(curr_sets), 2, ax_dims=(5, 5))\n",
    "\n",
    "for ax, (label, res) in zip(axs, curr_sets.items()):\n",
    "    n_snaps = len(res['snap_epochs'])\n",
    "    snap_freq = res['train_params']['snap_freq']\n",
    "    im = ax.imshow(res['repr_dists']['item']['all'],\n",
    "                   extent=(-0.5, n_snaps * snap_freq-0.5, n_snaps * snap_freq-0.5, -0.5))\n",
    "    ax.set_xticks(res['snap_epochs'][::4])\n",
    "    ax.tick_params(axis='x', labelrotation=45)\n",
    "    ax.set_yticks(res['snap_epochs'][::4])\n",
    "    ax.set_xlabel('Epochs')\n",
    "    ax.set_title(f'Item repr distances over training ({label})')\n",
    "    fig.colorbar(im, ax=ax, fraction=0.046, pad=0.04)\n",
    "    \n",
    "fig.tight_layout()\n",
    "plt.show()"
   ]
  },
  {
   "cell_type": "code",
   "execution_count": 62,
   "metadata": {
    "collapsed": false,
    "jupyter": {
     "outputs_hidden": false
    },
    "pycharm": {
     "name": "#%%\n"
    }
   },
   "outputs": [
    {
     "data": {
      "application/vnd.jupyter.widget-view+json": {
       "model_id": "fc90f8ab917446dfa80c3d26f6c26291",
       "version_major": 2,
       "version_minor": 0
      },
      "text/plain": [
       "Canvas(toolbar=Toolbar(toolitems=[('Home', 'Reset original view', 'home', 'home'), ('Back', 'Back to previous …"
      ]
     },
     "metadata": {},
     "output_type": "display_data"
    }
   ],
   "source": [
    "# MDS of item representations over time\n",
    "for label, res in curr_sets.items():\n",
    "    dda.plot_repr_trajectories(res, 'item', dims=3, title_label=label)\n",
    "\n",
    "plt.show()"
   ]
  },
  {
   "cell_type": "code",
   "execution_count": 64,
   "metadata": {
    "collapsed": false,
    "jupyter": {
     "outputs_hidden": false
    },
    "pycharm": {
     "name": "#%%\n"
    }
   },
   "outputs": [
    {
     "data": {
      "application/vnd.jupyter.widget-view+json": {
       "model_id": "850d89e240c74f76b130029e8085abb5",
       "version_major": 2,
       "version_minor": 0
      },
      "text/plain": [
       "Canvas(toolbar=Toolbar(toolitems=[('Home', 'Reset original view', 'home', 'home'), ('Back', 'Back to previous …"
      ]
     },
     "metadata": {},
     "output_type": "display_data"
    }
   ],
   "source": [
    "for label, res in curr_sets.items():\n",
    "    dda.plot_repr_trajectories(res, 'item_hidden', dims=3, title_label=label)\n",
    "\n",
    "plt.show()"
   ]
  },
  {
   "cell_type": "code",
   "execution_count": 48,
   "metadata": {},
   "outputs": [
    {
     "data": {
      "application/vnd.jupyter.widget-view+json": {
       "model_id": "e20b0bbca7ea4f449ed13d0e2f74bf73",
       "version_major": 2,
       "version_minor": 0
      },
      "text/plain": [
       "Canvas(toolbar=Toolbar(toolitems=[('Home', 'Reset original view', 'home', 'home'), ('Back', 'Back to previous …"
      ]
     },
     "metadata": {},
     "output_type": "display_data"
    }
   ],
   "source": [
    "import importlib\n",
    "importlib.reload(dda)\n",
    "\n",
    "fig, axs = dda.make_plot_grid(len(curr_runs), 2, ax_dims=(6, 15))\n",
    "run_num = 0\n",
    "snap_index = 5\n",
    "\n",
    "for (name, res), ax in zip(short_sets.items(), axs.ravel()):\n",
    "    dda.plot_hl_input_pattern_correlations(ax, res, run_num, snap_index, title_label=name)\n",
    "    \n",
    "fig.tight_layout()\n",
    "plt.show()"
   ]
  }
 ],
 "metadata": {
  "kernelspec": {
   "display_name": "Python 3",
   "language": "python",
   "name": "python3"
  },
  "language_info": {
   "codemirror_mode": {
    "name": "ipython",
    "version": 3
   },
   "file_extension": ".py",
   "mimetype": "text/x-python",
   "name": "python",
   "nbconvert_exporter": "python",
   "pygments_lexer": "ipython3",
   "version": "3.8.6"
  }
 },
 "nbformat": 4,
 "nbformat_minor": 4
}
